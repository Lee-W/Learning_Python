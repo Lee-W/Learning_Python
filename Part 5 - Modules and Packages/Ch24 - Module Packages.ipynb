{
 "cells": [
  {
   "cell_type": "markdown",
   "metadata": {},
   "source": [
    "# __init__.py\n",
    "Before Python3.3, every package must contain a file named `__init__.py`.  \n",
    "This file is run automatically the first time a Python program imports this package.  \n",
    "\n",
    "Although after Python3.3, directory modules can be imported as without `__init__.py`. (Using namespace to do so)  \n",
    "Using `__init__.py` provide a performance advantage.  \n",
    "\n",
    "\n",
    "\n",
    "## What does it do?\n",
    "\n",
    "### 1. Package initialization.\n",
    "All the code in the directory's `__init__.py` is run automatically.  \n",
    "It can be used to initialize the state  \n",
    "e.g. initialize file to create required data files, open connections to databases\n",
    "\n",
    "### 2. Module usability declarations\n",
    "Declare that a directory is a Python Package  \n",
    "In fact, `__init__.py` are often empty in practice\n",
    "\n",
    "## from * statament behavior\n",
    "You can use `__all__` list in `__init__.py` to define what is exported when this directory is imported using `from *` statement\n",
    "\n",
    "```python\n",
    "# c.py\n",
    "\n",
    "x = 1\n",
    "y = 2\n",
    "__all__ = [x]\n",
    "```"
   ]
  },
  {
   "cell_type": "code",
   "execution_count": 6,
   "metadata": {
    "collapsed": false
   },
   "outputs": [
    {
     "name": "stdout",
     "output_type": "stream",
     "text": [
      "1\n"
     ]
    },
    {
     "ename": "NameError",
     "evalue": "name 'y' is not defined",
     "output_type": "error",
     "traceback": [
      "\u001b[0;31m---------------------------------------------------------------------------\u001b[0m",
      "\u001b[0;31mNameError\u001b[0m                                 Traceback (most recent call last)",
      "\u001b[0;32m<ipython-input-6-04b1c5a4d589>\u001b[0m in \u001b[0;36m<module>\u001b[0;34m()\u001b[0m\n\u001b[1;32m      2\u001b[0m \u001b[0;34m\u001b[0m\u001b[0m\n\u001b[1;32m      3\u001b[0m \u001b[0mprint\u001b[0m\u001b[0;34m(\u001b[0m\u001b[0mx\u001b[0m\u001b[0;34m)\u001b[0m\u001b[0;34m\u001b[0m\u001b[0m\n\u001b[0;32m----> 4\u001b[0;31m \u001b[0mprint\u001b[0m\u001b[0;34m(\u001b[0m\u001b[0my\u001b[0m\u001b[0;34m)\u001b[0m   \u001b[0;31m# not imported since it's not in __all__\u001b[0m\u001b[0;34m\u001b[0m\u001b[0m\n\u001b[0m",
      "\u001b[0;31mNameError\u001b[0m: name 'y' is not defined"
     ]
    }
   ],
   "source": [
    "from c import *\n",
    "\n",
    "print(x)\n",
    "print(y)   # not imported since it's not in __all__"
   ]
  },
  {
   "cell_type": "markdown",
   "metadata": {},
   "source": [
    "---"
   ]
  },
  {
   "cell_type": "markdown",
   "metadata": {},
   "source": [
    "# Package Relative Imports\n",
    "Python2 implicitly searches package directories first on imports while Python3 requires explicit relative import syntax in order to making same-package imports.  \n",
    "This change enhances code readability by making same-package imports more obvious"
   ]
  },
  {
   "cell_type": "markdown",
   "metadata": {},
   "source": [
    "---"
   ]
  },
  {
   "cell_type": "markdown",
   "metadata": {},
   "source": [
    "# Namespace Package (Python3.3)\n"
   ]
  },
  {
   "cell_type": "code",
   "execution_count": 7,
   "metadata": {
    "collapsed": false
   },
   "outputs": [
    {
     "name": "stdout",
     "output_type": "stream",
     "text": [
      "This is mod.py\n"
     ]
    }
   ],
   "source": [
    "# ns/mod.py (without __init__.py)\n",
    "\n",
    "import ns.mod"
   ]
  },
  {
   "cell_type": "code",
   "execution_count": 8,
   "metadata": {
    "collapsed": false
   },
   "outputs": [
    {
     "data": {
      "text/plain": [
       "<module 'ns' (namespace)>"
      ]
     },
     "execution_count": 8,
     "metadata": {},
     "output_type": "execute_result"
    }
   ],
   "source": [
    "ns"
   ]
  },
  {
   "cell_type": "code",
   "execution_count": 9,
   "metadata": {
    "collapsed": false
   },
   "outputs": [
    {
     "data": {
      "text/plain": [
       "_NamespacePath(['/Users/LeeW/Coding/learning_note/Learning_Python/Part 5 - Modules and Packages/ns'])"
      ]
     },
     "execution_count": 9,
     "metadata": {},
     "output_type": "execute_result"
    }
   ],
   "source": [
    "ns.__path__"
   ]
  },
  {
   "cell_type": "markdown",
   "metadata": {},
   "source": [
    "- Cannot contain an `__init__.py` (Since it stops the following algorithm)  \n",
    "- May span multiple directories that are collected at import time  \n",
    "- Relative imports work in namespace packages too  \n",
    "\n",
    "## The import algorithm\n",
    "1. If `directory/module/__init__.py` is found, a regular package is imported\n",
    "2. If `directory/module.{py, pyc ...}` is found ,a simple module is imported\n",
    "3. If `directory/Module` is found and is a directory, it's record and the scan continues with the next directory in the search path\n",
    "4. If none of the above was found, the scan continues with the next directory in the search path.\n",
    "\n",
    "If the search path scan completes without returning a module or package by steps 1 or 2, and at least one directory was recorded by step 3, than a namespace package is created.  \n",
    "\n",
    "Once a namespace package is created, there is no difference between it and a regular package.  \n",
    "\n",
    "## Optional __init__.py ?\n",
    "Many packages require no initialization code.  \n",
    "Thus, they are no longer required after Python3.3  \n",
    "\n",
    "However, there is performance advantage to have one.  \n",
    "With namespace packages, all entries in the path must be scanned.  \n",
    "More formally, regular packages stop the algorithm at step 1.  "
   ]
  }
 ],
 "metadata": {
  "kernelspec": {
   "display_name": "Python 3",
   "language": "python",
   "name": "python3"
  },
  "language_info": {
   "codemirror_mode": {
    "name": "ipython",
    "version": 3
   },
   "file_extension": ".py",
   "mimetype": "text/x-python",
   "name": "python",
   "nbconvert_exporter": "python",
   "pygments_lexer": "ipython3",
   "version": "3.4.3"
  }
 },
 "nbformat": 4,
 "nbformat_minor": 0
}
