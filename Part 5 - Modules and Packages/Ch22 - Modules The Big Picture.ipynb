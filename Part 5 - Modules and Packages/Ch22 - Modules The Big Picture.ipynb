{
 "cells": [
  {
   "cell_type": "markdown",
   "metadata": {},
   "source": [
    "# Module\n",
    "## Name Space\n",
    "A module's namespace contains all the names assigned by code at the top level of the module file.  \n",
    "Thus nested in **def** and **class** is excluded.  \n",
    "\n",
    "## Module Operations\n",
    "- import: Fetch a module\n",
    "- from: allow importer to fectch particular names from a moudle\n",
    "- imp.reload(reload in Python2): Reload a module without stopping Python code"
   ]
  },
  {
   "cell_type": "markdown",
   "metadata": {},
   "source": [
    "# How Imports Works\n",
    "Unlike C, imports are not just textual insertions of one file into another.  \n",
    "In Python, imports do the following operations.\n",
    "1. Find a module file\n",
    "2. Compile it to byte code (if needed)\n",
    "3. Run the module's code to build the object it defines.\n",
    "\n",
    "Only the first time the module is imported would the above steps run.  \n",
    "Later imports skip these steps and fetech the already loaded module.\n",
    "\n",
    "## Compile It (If needed)\n",
    "If the byte code file is older than the source file or the version is different, Python would regenerate the byte code.  \n",
    "For different version, it has different byte code.\n",
    "\n",
    "## Run it\n",
    "By importing, it actually runs the file's code.  \n",
    "For example, top-level print in a module would actually print."
   ]
  },
  {
   "cell_type": "code",
   "execution_count": null,
   "metadata": {
    "collapsed": false
   },
   "outputs": [],
   "source": [
    "import sys\n",
    "sys.modules"
   ]
  },
  {
   "cell_type": "markdown",
   "metadata": {},
   "source": [
    "Python might load the following four file types in response to an import opreation.\n",
    "1. Source Code (.py)\n",
    "2. Byte Code File (.pyc)\n",
    "3. Optimized Byte Code File (.pyo)\n",
    "4. C extension module (.so on Linux, or .dll or .pyd on Windows)"
   ]
  },
  {
   "cell_type": "markdown",
   "metadata": {},
   "source": [
    "# Byte Code\n",
    "- Python3.1 and earlier (including Python2)\n",
    "    - Byte Code is stored in the same directory with the filename extension .pyc\n",
    "- Python3.2 and later\n",
    "    - Stored in `__pycache__`\n",
    "\n",
    "Each Python version and implementation(e.g. Jython, IronPython) has its own byte code files and won't conflict."
   ]
  },
  {
   "cell_type": "markdown",
   "metadata": {},
   "source": [
    "by add **-O** Python command-line falg. Python create **.pyo**  optimized byte code files"
   ]
  },
  {
   "cell_type": "markdown",
   "metadata": {},
   "source": [
    "# The Module Search Path\n",
    "\n",
    "Python searches module path in the following sequence.  \n",
    "The latter searched modules will be overridden by the previous searched modules\n",
    "1. The home directory of this program\n",
    "    - This is searched first. Be sure don't use the same name as other modules and hide them\n",
    "2. **PYTHONPATH**\n",
    "3. Standard library directories\n",
    "    - Always searched. No need to be added to **PYTHONPATH**\n",
    "4. The contents of any **.pth** files\n",
    "    - .pth (path): Path configuration files\n",
    "    - Used for instatllation-realted feature\n",
    "    - When such a file is present, Python will add the directories listed on each line of the file\n",
    "    - PAth files are used more often by third-party library\n",
    "5. **site-packages**"
   ]
  },
  {
   "cell_type": "code",
   "execution_count": null,
   "metadata": {
    "collapsed": false
   },
   "outputs": [],
   "source": [
    "sys.path"
   ]
  },
  {
   "cell_type": "markdown",
   "metadata": {},
   "source": [
    "This is the actual search path within Python.  \n",
    "The empty string means current directory"
   ]
  },
  {
   "cell_type": "markdown",
   "metadata": {},
   "source": [
    "By modifying the **sys.path** list, you can modify the search path for all future imports made in a program's run.  \n",
    "Note that such changes last only for the duration of the script."
   ]
  },
  {
   "cell_type": "code",
   "execution_count": null,
   "metadata": {
    "collapsed": true
   },
   "outputs": [],
   "source": []
  }
 ],
 "metadata": {
  "kernelspec": {
   "display_name": "Python 3",
   "language": "python",
   "name": "python3"
  },
  "language_info": {
   "codemirror_mode": {
    "name": "ipython",
    "version": 3
   },
   "file_extension": ".py",
   "mimetype": "text/x-python",
   "name": "python",
   "nbconvert_exporter": "python",
   "pygments_lexer": "ipython3",
   "version": "3.4.3"
  }
 },
 "nbformat": 4,
 "nbformat_minor": 0
}
