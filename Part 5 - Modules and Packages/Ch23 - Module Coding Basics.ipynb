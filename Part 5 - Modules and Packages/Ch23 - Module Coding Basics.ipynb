{
 "cells": [
  {
   "cell_type": "markdown",
   "metadata": {},
   "source": [
    "# import and from\n",
    "Both **import** and **from** are statements, not compile-time declarations.  \n",
    "Also, they can be nestd in **if** like other statements"
   ]
  },
  {
   "cell_type": "markdown",
   "metadata": {},
   "source": [
    "## import \n",
    "Assigning an entire module object to a single name"
   ]
  },
  {
   "cell_type": "markdown",
   "metadata": {},
   "source": [
    "## from\n",
    "- Copy specific names from one file to another.  \n",
    "- Assigning one or more names to objects of the same names in another module.\n",
    "    - There is no link from a name copied with **from** back to the original file. To really change a global name in another file, you must use **import**.(Not Recommaned design)\n",
    "    \n",
    "### from gotchas\n",
    "\n",
    "- **from** only copies names from one module to another, it does not assign the module name itself\n",
    "- **from** always load the whole file into memory.  \n",
    "    There is no way to load part of a module file.  "
   ]
  },
  {
   "cell_type": "markdown",
   "metadata": {},
   "source": [
    "\n",
    "### from ... import *\n",
    "Get copies of all names assigned at the top level of referenced module.  \n",
    "Note that only \\* works. Other pattern matching rule won't work.  \n",
    "\n",
    "In Python3, `from ... import *` can only be used at the top level of a module file, not within functions.  \n",
    "In Python2, it's allowed, but will issue a warning"
   ]
  },
  {
   "cell_type": "markdown",
   "metadata": {},
   "source": [
    "## import and from Equivalence\n",
    "\n",
    "\n",
    "### from\n",
    "```python\n",
    "from module import name1, name2\n",
    "```\n",
    "\n",
    "### import\n",
    "```python\n",
    "import module\n",
    "name1 = module.name1\n",
    "name2 = module.name2\n",
    "```"
   ]
  },
  {
   "cell_type": "code",
   "execution_count": null,
   "metadata": {
    "collapsed": true
   },
   "outputs": [],
   "source": []
  }
 ],
 "metadata": {
  "kernelspec": {
   "display_name": "Python 3",
   "language": "python",
   "name": "python3"
  },
  "language_info": {
   "codemirror_mode": {
    "name": "ipython",
    "version": 3
   },
   "file_extension": ".py",
   "mimetype": "text/x-python",
   "name": "python",
   "nbconvert_exporter": "python",
   "pygments_lexer": "ipython3",
   "version": "3.4.3"
  }
 },
 "nbformat": 4,
 "nbformat_minor": 0
}
