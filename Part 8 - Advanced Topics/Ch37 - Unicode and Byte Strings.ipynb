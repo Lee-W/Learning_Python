{
 "cells": [
  {
   "cell_type": "markdown",
   "metadata": {},
   "source": [
    "# Encoding and Decoding\n",
    "- Encoding\n",
    "    - String -> Raw Byte\n",
    "- Decoding\n",
    "    - Raw Byte -> String"
   ]
  },
  {
   "cell_type": "code",
   "execution_count": 1,
   "metadata": {
    "collapsed": true
   },
   "outputs": [],
   "source": [
    "s = \"嗨\""
   ]
  },
  {
   "cell_type": "code",
   "execution_count": 2,
   "metadata": {
    "collapsed": false
   },
   "outputs": [
    {
     "data": {
      "text/plain": [
       "b'\\xe5\\x97\\xa8'"
      ]
     },
     "execution_count": 2,
     "metadata": {},
     "output_type": "execute_result"
    }
   ],
   "source": [
    "se = s.encode(\"utf8\")\n",
    "se"
   ]
  },
  {
   "cell_type": "code",
   "execution_count": 3,
   "metadata": {
    "collapsed": false
   },
   "outputs": [
    {
     "data": {
      "text/plain": [
       "'嗨'"
      ]
     },
     "execution_count": 3,
     "metadata": {},
     "output_type": "execute_result"
    }
   ],
   "source": [
    "se.decode(\"utf-8\")"
   ]
  },
  {
   "cell_type": "markdown",
   "metadata": {},
   "source": [
    "- To see the system default encoding"
   ]
  },
  {
   "cell_type": "code",
   "execution_count": 4,
   "metadata": {
    "collapsed": false
   },
   "outputs": [
    {
     "data": {
      "text/plain": [
       "'utf-8'"
      ]
     },
     "execution_count": 4,
     "metadata": {},
     "output_type": "execute_result"
    }
   ],
   "source": [
    "import sys\n",
    "\n",
    "sys.getdefaultencoding()"
   ]
  },
  {
   "cell_type": "markdown",
   "metadata": {},
   "source": [
    "---"
   ]
  },
  {
   "cell_type": "markdown",
   "metadata": {},
   "source": [
    "# Python's String Type\n",
    "\n",
    "## Python 2.X\n",
    "- str\n",
    "    - 8-bit text\n",
    "    - binary data\n",
    "- unicode\n",
    "    - decoded Unicode text\n",
    "    \n",
    "## Python 3.X\n",
    "- str\n",
    "    - unicode\n",
    "- bytes\n",
    "    - binray data\n",
    "- bytearray\n",
    "    - mutable **bytes** (support in-place change)\n",
    "    \n",
    "\n",
    "## Usage in different version\n",
    "- Python 2.X\n",
    "    - str -> simple text and binary data\n",
    "    - unicode -> text whose chacter sets don't map to 8-bit bytes\n",
    "- Python 3.X\n",
    "    - str -> any kind of text\n",
    "    - bytes / bytearray -> binary data\n",
    "    \n",
    "## Mapping Between the Two Versions\n",
    "- Unicode text\n",
    "    - Python3: str\n",
    "    - Python2: unicode\n",
    "- Byte Based Data\n",
    "    - Python3: bytes, bytearray\n",
    "    - Python2: str"
   ]
  },
  {
   "cell_type": "markdown",
   "metadata": {},
   "source": [
    "---"
   ]
  },
  {
   "cell_type": "markdown",
   "metadata": {},
   "source": [
    "# Coding Basic\n",
    "## Python3 bytes Objects\n",
    "### In Python 2.6, 2.7, **bytes(x)** is the same as **str(x)**"
   ]
  },
  {
   "cell_type": "code",
   "execution_count": 5,
   "metadata": {
    "collapsed": false
   },
   "outputs": [
    {
     "name": "stdout",
     "output_type": "stream",
     "text": [
      "True\r\n"
     ]
    }
   ],
   "source": [
    "%%python2\n",
    "\n",
    "x = 'a'\n",
    "\n",
    "print(bytes(x) == str(x))"
   ]
  },
  {
   "cell_type": "markdown",
   "metadata": {},
   "source": [
    "### A sequence of small integers\n",
    "- Range 0 through 255\n",
    "- Though it prints its content as characters whenerver possible"
   ]
  },
  {
   "cell_type": "code",
   "execution_count": 6,
   "metadata": {
    "collapsed": false
   },
   "outputs": [
    {
     "name": "stdout",
     "output_type": "stream",
     "text": [
      "97\n",
      "b'abcd'\n",
      "[97, 98, 99, 100]\n"
     ]
    }
   ],
   "source": [
    "b = b\"abcd\"\n",
    "print(b[0])\n",
    "print(b[0:])\n",
    "print(list(b))"
   ]
  },
  {
   "cell_type": "markdown",
   "metadata": {},
   "source": [
    "### **bytes** is immutable"
   ]
  },
  {
   "cell_type": "code",
   "execution_count": 7,
   "metadata": {
    "collapsed": false
   },
   "outputs": [
    {
     "ename": "TypeError",
     "evalue": "'bytes' object does not support item assignment",
     "output_type": "error",
     "traceback": [
      "\u001b[1;31m---------------------------------------------------------------------------\u001b[0m",
      "\u001b[1;31mTypeError\u001b[0m                                 Traceback (most recent call last)",
      "\u001b[1;32m<ipython-input-7-d6ca00527ed4>\u001b[0m in \u001b[0;36m<module>\u001b[1;34m()\u001b[0m\n\u001b[1;32m----> 1\u001b[1;33m \u001b[0mb\u001b[0m\u001b[1;33m[\u001b[0m\u001b[1;36m0\u001b[0m\u001b[1;33m]\u001b[0m \u001b[1;33m=\u001b[0m \u001b[1;34mb'b'\u001b[0m\u001b[1;33m\u001b[0m\u001b[0m\n\u001b[0m",
      "\u001b[1;31mTypeError\u001b[0m: 'bytes' object does not support item assignment"
     ]
    }
   ],
   "source": [
    "b[0] = b\"b\""
   ]
  },
  {
   "cell_type": "markdown",
   "metadata": {},
   "source": [
    "- Support most **str** operations except formating(**format** or **%**)\n",
    "    - **`__mod__`**  and **`__rmod__`** is not implemented"
   ]
  },
  {
   "cell_type": "markdown",
   "metadata": {},
   "source": [
    "\n",
    "### Byte String Literal: Encoded Text\n",
    "\n",
    "- Python3 allows special characters to be coded with both ***hex*** and ***Unicode*** escapes in **str**, but only with ***hex*** escapes in **bytes**"
   ]
  },
  {
   "cell_type": "code",
   "execution_count": 8,
   "metadata": {
    "collapsed": false
   },
   "outputs": [
    {
     "name": "stdout",
     "output_type": "stream",
     "text": [
      "Ä\n",
      "Ä\n"
     ]
    }
   ],
   "source": [
    "s = \"\\xC4\"\n",
    "print(s)\n",
    "\n",
    "s = \"\\u00C4\"\n",
    "print(s)"
   ]
  },
  {
   "cell_type": "code",
   "execution_count": 9,
   "metadata": {
    "collapsed": false
   },
   "outputs": [
    {
     "name": "stdout",
     "output_type": "stream",
     "text": [
      "b'\\xc4'\n",
      "b'\\\\u00C4'\n"
     ]
    }
   ],
   "source": [
    "b = b\"\\xC4\"\n",
    "print(b)\n",
    "\n",
    "b = b\"\\u00C4\"\n",
    "print(b)"
   ]
  },
  {
   "cell_type": "markdown",
   "metadata": {},
   "source": [
    "- **bytes** literals requires characters be ASCII or be escaped if their values are greater than 127"
   ]
  },
  {
   "cell_type": "code",
   "execution_count": 10,
   "metadata": {
    "collapsed": false
   },
   "outputs": [
    {
     "ename": "SyntaxError",
     "evalue": "bytes can only contain ASCII literal characters. (<ipython-input-10-f15e9bcd0436>, line 1)",
     "output_type": "error",
     "traceback": [
      "\u001b[1;36m  File \u001b[1;32m\"<ipython-input-10-f15e9bcd0436>\"\u001b[1;36m, line \u001b[1;32m1\u001b[0m\n\u001b[1;33m    b = b'ÄB'\u001b[0m\n\u001b[1;37m       ^\u001b[0m\n\u001b[1;31mSyntaxError\u001b[0m\u001b[1;31m:\u001b[0m bytes can only contain ASCII literal characters.\n"
     ]
    }
   ],
   "source": [
    "b = b'ÄB'"
   ]
  },
  {
   "cell_type": "code",
   "execution_count": 11,
   "metadata": {
    "collapsed": false
   },
   "outputs": [
    {
     "name": "stdout",
     "output_type": "stream",
     "text": [
      "Ä\n"
     ]
    }
   ],
   "source": [
    "b = b\"\\xC4\"\n",
    "print(b.decode(\"latin-1\"))"
   ]
  },
  {
   "cell_type": "markdown",
   "metadata": {},
   "source": [
    "## Python 2 Unicode Literals in Python3"
   ]
  },
  {
   "cell_type": "code",
   "execution_count": 12,
   "metadata": {
    "collapsed": true
   },
   "outputs": [],
   "source": [
    "s = \"嗨\""
   ]
  },
  {
   "cell_type": "markdown",
   "metadata": {},
   "source": [
    "- The **u** or **U** suffix were removed in Python3.0 but available again after Python3.3\n",
    "- It's mainly for Python2 compatibility"
   ]
  },
  {
   "cell_type": "markdown",
   "metadata": {},
   "source": [
    "## Mixing String Types\n",
    "- Mix **unicode** and **str** is allowed in Python2\n",
    "    - This works only if the unicode containers only 7-bit (ASCII) bytes"
   ]
  },
  {
   "cell_type": "code",
   "execution_count": 13,
   "metadata": {
    "collapsed": false
   },
   "outputs": [
    {
     "name": "stdout",
     "output_type": "stream",
     "text": [
      "abcd\r\n"
     ]
    }
   ],
   "source": [
    "%%python2\n",
    "\n",
    "print u'ab' + 'cd'"
   ]
  },
  {
   "cell_type": "code",
   "execution_count": 14,
   "metadata": {
    "collapsed": false
   },
   "outputs": [
    {
     "name": "stderr",
     "output_type": "stream",
     "text": [
      "  File \"<stdin>\", line 2\r\n",
      "SyntaxError: (unicode error) 'unicodeescape' codec can't decode bytes in position 0-3: truncated \\uXXXX escape\r\n"
     ]
    }
   ],
   "source": [
    "%%python2\n",
    "\n",
    "print u'\\uC4' + 'cd'"
   ]
  },
  {
   "cell_type": "markdown",
   "metadata": {},
   "source": [
    "- Mix **str** and **bytes** is never allowed in Python3"
   ]
  },
  {
   "cell_type": "code",
   "execution_count": 15,
   "metadata": {
    "collapsed": false
   },
   "outputs": [
    {
     "ename": "TypeError",
     "evalue": "Can't convert 'bytes' object to str implicitly",
     "output_type": "error",
     "traceback": [
      "\u001b[1;31m---------------------------------------------------------------------------\u001b[0m",
      "\u001b[1;31mTypeError\u001b[0m                                 Traceback (most recent call last)",
      "\u001b[1;32m<ipython-input-15-20f3fb1164dd>\u001b[0m in \u001b[0;36m<module>\u001b[1;34m()\u001b[0m\n\u001b[1;32m----> 1\u001b[1;33m \u001b[1;34m'ab'\u001b[0m \u001b[1;33m+\u001b[0m \u001b[1;34mb'cd'\u001b[0m\u001b[1;33m\u001b[0m\u001b[0m\n\u001b[0m",
      "\u001b[1;31mTypeError\u001b[0m: Can't convert 'bytes' object to str implicitly"
     ]
    }
   ],
   "source": [
    "\"ab\" + b\"cd\""
   ]
  },
  {
   "cell_type": "markdown",
   "metadata": {},
   "source": [
    "## Python3 / 2.6+ bytearray Objects\n",
    "### In Python3, when creating an bytearray, encoding name or byte string is required\n",
    "(Since text and binary string do not mix)"
   ]
  },
  {
   "cell_type": "code",
   "execution_count": 16,
   "metadata": {
    "collapsed": false
   },
   "outputs": [
    {
     "ename": "TypeError",
     "evalue": "string argument without an encoding",
     "output_type": "error",
     "traceback": [
      "\u001b[1;31m---------------------------------------------------------------------------\u001b[0m",
      "\u001b[1;31mTypeError\u001b[0m                                 Traceback (most recent call last)",
      "\u001b[1;32m<ipython-input-16-a57997b3eecf>\u001b[0m in \u001b[0;36m<module>\u001b[1;34m()\u001b[0m\n\u001b[1;32m----> 1\u001b[1;33m \u001b[0mbytearray\u001b[0m\u001b[1;33m(\u001b[0m\u001b[1;34m'a'\u001b[0m\u001b[1;33m)\u001b[0m\u001b[1;33m\u001b[0m\u001b[0m\n\u001b[0m",
      "\u001b[1;31mTypeError\u001b[0m: string argument without an encoding"
     ]
    }
   ],
   "source": [
    "bytearray(\"a\")"
   ]
  },
  {
   "cell_type": "code",
   "execution_count": 17,
   "metadata": {
    "collapsed": false
   },
   "outputs": [
    {
     "data": {
      "text/plain": [
       "bytearray(b'a')"
      ]
     },
     "execution_count": 17,
     "metadata": {},
     "output_type": "execute_result"
    }
   ],
   "source": [
    "bytearray(\"a\", \"utf-8\")"
   ]
  },
  {
   "cell_type": "code",
   "execution_count": 18,
   "metadata": {
    "collapsed": false
   },
   "outputs": [
    {
     "data": {
      "text/plain": [
       "bytearray(b'a')"
      ]
     },
     "execution_count": 18,
     "metadata": {},
     "output_type": "execute_result"
    }
   ],
   "source": [
    "bytearray(b\"a\")"
   ]
  },
  {
   "cell_type": "markdown",
   "metadata": {},
   "source": [
    "### Required an integer for index assignments"
   ]
  },
  {
   "cell_type": "code",
   "execution_count": 19,
   "metadata": {
    "collapsed": true
   },
   "outputs": [],
   "source": [
    "b = bytearray(\"abcde\", \"utf-8\")"
   ]
  },
  {
   "cell_type": "code",
   "execution_count": 20,
   "metadata": {
    "collapsed": false
   },
   "outputs": [
    {
     "ename": "TypeError",
     "evalue": "an integer is required",
     "output_type": "error",
     "traceback": [
      "\u001b[1;31m---------------------------------------------------------------------------\u001b[0m",
      "\u001b[1;31mTypeError\u001b[0m                                 Traceback (most recent call last)",
      "\u001b[1;32m<ipython-input-20-d6ca00527ed4>\u001b[0m in \u001b[0;36m<module>\u001b[1;34m()\u001b[0m\n\u001b[1;32m----> 1\u001b[1;33m \u001b[0mb\u001b[0m\u001b[1;33m[\u001b[0m\u001b[1;36m0\u001b[0m\u001b[1;33m]\u001b[0m \u001b[1;33m=\u001b[0m \u001b[1;34mb'b'\u001b[0m\u001b[1;33m\u001b[0m\u001b[0m\n\u001b[0m",
      "\u001b[1;31mTypeError\u001b[0m: an integer is required"
     ]
    }
   ],
   "source": [
    "b[0] = b\"b\""
   ]
  },
  {
   "cell_type": "code",
   "execution_count": 21,
   "metadata": {
    "collapsed": false
   },
   "outputs": [
    {
     "data": {
      "text/plain": [
       "bytearray(b'bbcde')"
      ]
     },
     "execution_count": 21,
     "metadata": {},
     "output_type": "execute_result"
    }
   ],
   "source": [
    "b[0] = ord(\"b\")\n",
    "b"
   ]
  },
  {
   "cell_type": "code",
   "execution_count": 22,
   "metadata": {
    "collapsed": false
   },
   "outputs": [
    {
     "data": {
      "text/plain": [
       "bytearray(b'zbcde')"
      ]
     },
     "execution_count": 22,
     "metadata": {},
     "output_type": "execute_result"
    }
   ],
   "source": [
    "c = bytearray(\"zxcvb\", \"utf-8\")\n",
    "b[0] = c[0]\n",
    "b"
   ]
  },
  {
   "cell_type": "markdown",
   "metadata": {},
   "source": [
    "## Python3 String Types Summary\n",
    "- str: textual data\n",
    "- bytes: binary data\n",
    "- bytearray: binary data that will be changed in place"
   ]
  },
  {
   "cell_type": "markdown",
   "metadata": {},
   "source": [
    "---"
   ]
  },
  {
   "cell_type": "markdown",
   "metadata": {},
   "source": [
    "# Text and Binary Files\n",
    "\n",
    "## Text Files\n",
    "- Read: decode to str\n",
    "- Write: take an str and then encode\n",
    "- Common Usage\n",
    "    - Program output\n",
    "    - HTML\n",
    "    - email content\n",
    "    - CSV\n",
    "    - XML\n",
    "- Perform ***line-end tranlations***\n",
    "    - By default, all line-end forms map to '\\n' regardlesss of the platform\n",
    "## Binary Files\n",
    "- Open a file in binary mode by add **b** (e.g. open('file', 'b'))\n",
    "- Read: does not decode and return byte object\n",
    "- Write: take **bytes** or **bytearray**\n",
    "- Common Usage\n",
    "    - image files\n",
    "    - data transfered over networks\n",
    "    - packed binary data\n",
    "- Do **not** perform encoding, decoding and line-end translations\n",
    "    \n",
    "## Source File Character Set Encoding \n",
    "**`# -*- encoding: latin-1 -*- `**\n",
    "- When this comment is present, Python will recongize strings represented natively in the given encoding\n",
    "    \n",
    "## Different Between Text and Binary Files\n",
    "### Python2\n",
    "- Almost no major distinciton between text and binary files\n",
    "    - Both accept and return content as **str**\n",
    "    - The only major different is ***line-end translations***"
   ]
  },
  {
   "cell_type": "code",
   "execution_count": 23,
   "metadata": {
    "collapsed": true
   },
   "outputs": [],
   "source": [
    "%%python2\n",
    "\n",
    "open('tmp.txt', 'wb').write('abc')\n",
    "open('tmp.txt', 'w').write(b'abc')"
   ]
  },
  {
   "cell_type": "markdown",
   "metadata": {},
   "source": [
    "## Python3\n",
    "- We'll get errors if we try to write a bytes to a text file or a str to binary files"
   ]
  },
  {
   "cell_type": "code",
   "execution_count": 24,
   "metadata": {
    "collapsed": false
   },
   "outputs": [
    {
     "ename": "TypeError",
     "evalue": "'str' does not support the buffer interface",
     "output_type": "error",
     "traceback": [
      "\u001b[1;31m---------------------------------------------------------------------------\u001b[0m",
      "\u001b[1;31mTypeError\u001b[0m                                 Traceback (most recent call last)",
      "\u001b[1;32m<ipython-input-24-388163743f24>\u001b[0m in \u001b[0;36m<module>\u001b[1;34m()\u001b[0m\n\u001b[1;32m----> 1\u001b[1;33m \u001b[0mopen\u001b[0m\u001b[1;33m(\u001b[0m\u001b[1;34m'tmp.txt'\u001b[0m\u001b[1;33m,\u001b[0m \u001b[1;34m'wb'\u001b[0m\u001b[1;33m)\u001b[0m\u001b[1;33m.\u001b[0m\u001b[0mwrite\u001b[0m\u001b[1;33m(\u001b[0m\u001b[1;34m'abc'\u001b[0m\u001b[1;33m)\u001b[0m\u001b[1;33m\u001b[0m\u001b[0m\n\u001b[0m\u001b[0;32m      2\u001b[0m \u001b[0mopen\u001b[0m\u001b[1;33m(\u001b[0m\u001b[1;34m'tmp.txt'\u001b[0m\u001b[1;33m,\u001b[0m \u001b[1;34m'w'\u001b[0m\u001b[1;33m)\u001b[0m\u001b[1;33m.\u001b[0m\u001b[0mwrite\u001b[0m\u001b[1;33m(\u001b[0m\u001b[1;34mb'abc'\u001b[0m\u001b[1;33m)\u001b[0m\u001b[1;33m\u001b[0m\u001b[0m\n",
      "\u001b[1;31mTypeError\u001b[0m: 'str' does not support the buffer interface"
     ]
    }
   ],
   "source": [
    "open(\"tmp.txt\", \"wb\").write(\"abc\")\n",
    "open(\"tmp.txt\", \"w\").write(b\"abc\")"
   ]
  },
  {
   "cell_type": "markdown",
   "metadata": {},
   "source": [
    "## Unicode Files in Python2\n",
    "- Repalce **str** with **unicode** and **open** with **codecs.open**"
   ]
  },
  {
   "cell_type": "markdown",
   "metadata": {},
   "source": [
    "---"
   ]
  },
  {
   "cell_type": "markdown",
   "metadata": {},
   "source": [
    "# Other String Tool Changes in Python3\n",
    "\n",
    "## re: Patteren Matching\n",
    "- **re** has been generalized to\n",
    "    - **str**, **bytes**, **bytearray** in Python3\n",
    "        - Still, **str** and **bytes** can not mix\n",
    "    - **unicode**, **str** in Python2\n",
    "    \n",
    "## struct: Binary Data\n",
    "- Create and extract packed binary data from strings\n",
    "    - Most Python Programmers don't deal with binary bits\n",
    "- Work the same in Python3 but packed data is represented as **bytes** and ** bytearray** only\n",
    "\n",
    "## pickle: Object Serialization\n",
    "- In Python3, pickle always create a **bytes** object\n",
    "    - Files used to store pickled objects must always be opend in binary mode\n",
    "- If you care abotu version neutrality or don't care about protocols of version-specific default, always use binray-mode files for pickled data as the following"
   ]
  },
  {
   "cell_type": "code",
   "execution_count": 25,
   "metadata": {
    "collapsed": false
   },
   "outputs": [
    {
     "data": {
      "text/plain": [
       "[1, 2, 3]"
      ]
     },
     "execution_count": 25,
     "metadata": {},
     "output_type": "execute_result"
    }
   ],
   "source": [
    "import pickle\n",
    "\n",
    "pickle.dump([1, 2, 3], open(\"tmp.pkl\", \"wb\"))\n",
    "pickle.load(open(\"tmp.pkl\", \"rb\"))"
   ]
  },
  {
   "cell_type": "markdown",
   "metadata": {},
   "source": [
    "## XML Parsing Tools\n",
    "- Support the SAX, DOM parsing models and ElementTree(a Python specific API)"
   ]
  },
  {
   "cell_type": "code",
   "execution_count": 26,
   "metadata": {
    "collapsed": false
   },
   "outputs": [
    {
     "name": "stdout",
     "output_type": "stream",
     "text": [
      "First Book\n",
      "Second Book\n",
      "Third Book\n"
     ]
    }
   ],
   "source": [
    "# DOM\n",
    "\n",
    "from xml.dom.minidom import parse, Node\n",
    "\n",
    "xmltree = parse(\"mybooks.xml\")\n",
    "for node1 in xmltree.getElementsByTagName(\"title\"):\n",
    "    for node2 in node1.childNodes:\n",
    "        if node2.nodeType == Node.TEXT_NODE:\n",
    "            print(node2.data)"
   ]
  },
  {
   "cell_type": "code",
   "execution_count": 27,
   "metadata": {
    "collapsed": false
   },
   "outputs": [
    {
     "name": "stdout",
     "output_type": "stream",
     "text": [
      "First Book\n",
      "Second Book\n",
      "Third Book\n"
     ]
    }
   ],
   "source": [
    "# SAX\n",
    "\n",
    "import xml.sax\n",
    "import xml.sax.handler\n",
    "\n",
    "\n",
    "class BookHandler(xml.sax.handler.ContentHandler):\n",
    "    def __init__(self):\n",
    "        self.in_title = False\n",
    "\n",
    "    def startElement(self, name, attr):\n",
    "        if name == \"title\":\n",
    "            self.in_title = True\n",
    "\n",
    "    def characters(self, data):\n",
    "        if self.in_title:\n",
    "            print(data)\n",
    "\n",
    "    def endElement(self, name):\n",
    "        if name == \"title\":\n",
    "            self.in_title = False\n",
    "\n",
    "\n",
    "parser = xml.sax.make_parser()\n",
    "handler = BookHandler()\n",
    "parser.setContentHandler(handler)\n",
    "parser.parse(\"mybooks.xml\")"
   ]
  },
  {
   "cell_type": "code",
   "execution_count": 28,
   "metadata": {
    "collapsed": false
   },
   "outputs": [
    {
     "name": "stdout",
     "output_type": "stream",
     "text": [
      "First Book\n",
      "Second Book\n",
      "Third Book\n"
     ]
    }
   ],
   "source": [
    "# ElementTree\n",
    "\n",
    "from xml.etree.ElementTree import parse\n",
    "\n",
    "tree = parse(\"mybooks.xml\")\n",
    "for e in tree.findall(\"title\"):\n",
    "    print(e.text)"
   ]
  }
 ],
 "metadata": {
  "kernelspec": {
   "display_name": "Python 3",
   "language": "python",
   "name": "python3"
  },
  "language_info": {
   "codemirror_mode": {
    "name": "ipython",
    "version": 3
   },
   "file_extension": ".py",
   "mimetype": "text/x-python",
   "name": "python",
   "nbconvert_exporter": "python",
   "pygments_lexer": "ipython3",
   "version": "3.4.4"
  }
 },
 "nbformat": 4,
 "nbformat_minor": 0
}
