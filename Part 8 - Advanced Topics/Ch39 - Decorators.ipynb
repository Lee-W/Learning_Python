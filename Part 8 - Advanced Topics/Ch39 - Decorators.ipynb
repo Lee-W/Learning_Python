{
 "cells": [
  {
   "cell_type": "markdown",
   "metadata": {},
   "source": [
    "# Introduction to Decorators\n",
    "- Specify management or augmentation code for functions and classes\n",
    "    - Rebinding function and class to other callables at the end of **def** and **class**\n",
    "- Decorators themselves take the form of callable objects\n",
    "- Do not need new-style class\n",
    "- A kind of runtime declaration\n",
    "\n",
    "# Calls and Instance\n",
    "- Call proxies (Function Decorators)\n",
    "    - Intercept later function calls and process them as needed\n",
    "- Interface proxies (Class Decorators)\n",
    "    - Intercept later instnace creation calls and process them as needed\n",
    "    \n",
    "# Function Decorator VS Class Decorator\n",
    "- Function decorator\n",
    "    - Only a specific function\n",
    "- Class decorator\n",
    "    - All instance creation calls\n",
    "    \n",
    "    \n",
    "# Why Decorators?\n",
    "- Make intent clearer\n",
    "- Minimize augmentation code redundancy\n",
    "- Help ensure correct API usage\n",
    "- Explicity syntax\n",
    "- Mainability\n",
    "    - Not necessary to add extra code at every calll to the class or function\n",
    "    \n",
    "## Drawbacks\n",
    "- Alter type of decorated objects\n",
    "- Extra call (costs)\n",
    "    "
   ]
  },
  {
   "cell_type": "markdown",
   "metadata": {},
   "source": [
    "# Basics\n",
    "\n",
    "## Function Decorators\n",
    "\n",
    "### Usage\n",
    "\n",
    "```python\n",
    "@decorator\n",
    "def fun(arg):\n",
    "    pass\n",
    "\n",
    "fun(1)\n",
    "```\n",
    "\n",
    "#### is equivalent to\n",
    "\n",
    "```python\n",
    "def fun(arg):\n",
    "    pass\n",
    "    \n",
    "fun = decorator(fun)\n",
    " \n",
    "fun(a)\n",
    "```\n",
    "\n",
    "### Implementaion\n",
    "A decorator itself is a callable that return a callable\n",
    "\n",
    "- Neseted function (Support both function and methods)\n",
    "    - This is just a common pattern, not the only way"
   ]
  },
  {
   "cell_type": "code",
   "execution_count": 1,
   "metadata": {
    "collapsed": false
   },
   "outputs": [
    {
     "name": "stdout",
     "output_type": "stream",
     "text": [
      "[Args]:  (6, 7)\n",
      "[Args]:  (<__main__.C object at 0x02D93410>, 1, 2)\n"
     ]
    }
   ],
   "source": [
    "def decorator(fun):\n",
    "    def wrapper(*args):\n",
    "        print('[Args]: ', args)\n",
    "        return fun(*args)\n",
    "    return wrapper\n",
    "\n",
    "# Function decorator\n",
    "@decorator\n",
    "def func(x, y):\n",
    "    pass\n",
    "    \n",
    "func(6, 7)\n",
    "\n",
    "\n",
    "class C:\n",
    "    @decorator\n",
    "    def method(self, x, y):\n",
    "        pass\n",
    "\n",
    "c = C()\n",
    "c.method(1, 2)"
   ]
  },
  {
   "cell_type": "markdown",
   "metadata": {},
   "source": [
    "## Class Decorators\n",
    "\n",
    "### Usage\n",
    "\n",
    "```python\n",
    "@decorator\n",
    "class C:\n",
    "    pass\n",
    "\n",
    "c = C(1)\n",
    "```\n",
    "\n",
    "#### is equivalent to\n",
    "\n",
    "```python\n",
    "class C:\n",
    "    pass\n",
    "    \n",
    "C = decorator(C)\n",
    " \n",
    "c = C(1)\n",
    "```\n",
    "\n",
    "### Implementation\n",
    "Just like function decorators, though some may involve two levels of augmentation"
   ]
  },
  {
   "cell_type": "code",
   "execution_count": 2,
   "metadata": {
    "collapsed": false
   },
   "outputs": [
    {
     "name": "stdout",
     "output_type": "stream",
     "text": [
      "[name]:  attr\n",
      "[calls]:  1\n",
      "spam\n",
      "[name]:  attr\n",
      "[calls]:  1\n",
      "spam\n"
     ]
    }
   ],
   "source": [
    "def decorator(cls):\n",
    "    class Wrapper:\n",
    "        def __init__(self, *args):\n",
    "            self.wrapped = cls(*args)\n",
    "            self.calls = 0\n",
    "            \n",
    "        def __getattr__(self, name):\n",
    "            self.calls += 1\n",
    "            print('[name]: ', name)\n",
    "            print('[calls]: ', self.calls)\n",
    "            return getattr(self.wrapped, name)\n",
    "    return Wrapper\n",
    "    \n",
    "@decorator\n",
    "class C:\n",
    "    def __init__(self, x, y):\n",
    "        self.attr = 'spam'\n",
    "\n",
    "c1 = C(6, 7)\n",
    "print(c1.attr)\n",
    "\n",
    "c2 = C(7, 8)\n",
    "print(c2.attr)"
   ]
  },
  {
   "cell_type": "markdown",
   "metadata": {},
   "source": [
    "- Supporting multiple instance\n",
    "    - Handles multiple decorated classes (each makes a new Decorator instnace)"
   ]
  },
  {
   "cell_type": "code",
   "execution_count": 3,
   "metadata": {
    "collapsed": false
   },
   "outputs": [
    {
     "name": "stdout",
     "output_type": "stream",
     "text": [
      "[Args]:  (1,)\n",
      "[Calls]:  1\n",
      "[Args]:  (2,)\n",
      "[Calls]:  2\n"
     ]
    }
   ],
   "source": [
    "class Decorator:\n",
    "    def __init__(self, C):                         # On @decoration\n",
    "        self.C = C\n",
    "        self.calls = 0\n",
    "        \n",
    "    def __call__(self, *args):                      # On instance creation\n",
    "        self.calls += 1\n",
    "        print('[Args]: ', args)\n",
    "        print('[Calls]: ', self.calls)\n",
    "        self.wrapped = self.C(*args)\n",
    "        return self\n",
    "    \n",
    "    def __getattr__(self, attrname):\n",
    "        return getattr(self.wrapped, attrname)\n",
    "    \n",
    "@Decorator\n",
    "class C:\n",
    "    def __init__(*args):\n",
    "        pass\n",
    "\n",
    "c1 = C(1)\n",
    "c2 = C(2)"
   ]
  },
  {
   "cell_type": "markdown",
   "metadata": {},
   "source": [
    "## Decorator Nesting\n",
    "\n",
    "```python\n",
    "@A\n",
    "@B\n",
    "@C\n",
    "def fun(arg):\n",
    "    pass\n",
    "```\n",
    "\n",
    "#### is equivalent to\n",
    "\n",
    "```python\n",
    "def fun(arg):\n",
    "    pass\n",
    "    \n",
    "fun = A(B(C(fun)))\n",
    "```"
   ]
  },
  {
   "cell_type": "markdown",
   "metadata": {},
   "source": [
    "## Decorator Arguments\n",
    "- Usually used to\n",
    "    - retain state information for use in later calls\n",
    "    - attribute initialization\n",
    "    - atttribute names to be validated\n",
    "- It often implied three levels of callables\n",
    "\n",
    "### Usage\n",
    "```python\n",
    "@decorator(x, y)\n",
    "def fun(arg):\n",
    "    pass\n",
    "    \n",
    "fun(1)\n",
    "```\n",
    "\n",
    "#### is equivalent to\n",
    "\n",
    "```python\n",
    "def fun(arg):\n",
    "    pass\n",
    "    \n",
    "fun = decorator(x, y)(fun)\n",
    "\n",
    "fun(1)\n",
    "```\n",
    "\n",
    "### Implementation\n",
    "\n",
    "```python\n",
    "def decorator(x, y):\n",
    "    # save or use x, y\n",
    "    def actualDecorator(func):\n",
    "        # save or use function func\n",
    "        # return a callable: nested def, class with __call__ etc.\n",
    "        return callable\n",
    "    return actualDecorator\n",
    "    \n",
    "```"
   ]
  }
 ],
 "metadata": {
  "kernelspec": {
   "display_name": "Python 3",
   "language": "python",
   "name": "python3"
  },
  "language_info": {
   "codemirror_mode": {
    "name": "ipython",
    "version": 3
   },
   "file_extension": ".py",
   "mimetype": "text/x-python",
   "name": "python",
   "nbconvert_exporter": "python",
   "pygments_lexer": "ipython3",
   "version": "3.4.4"
  }
 },
 "nbformat": 4,
 "nbformat_minor": 0
}
