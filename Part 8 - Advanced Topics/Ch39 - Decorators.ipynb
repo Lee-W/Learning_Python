{
 "cells": [
  {
   "cell_type": "markdown",
   "metadata": {},
   "source": [
    "# Introduction to Decorators\n",
    "- Specify management or augmentation code for functions and classes\n",
    "    - Rebinding function and class to other callables at the end of **def** and **class**\n",
    "- Decorators themselves take the form of callable objects\n",
    "- Do not need new-style class\n",
    "- A kind of runtime declaration\n",
    "\n",
    "    \n",
    "# Function Decorator VS Class Decorator\n",
    "- Function decorator\n",
    "    - Only a specific function\n",
    "- Class decorator\n",
    "    - All instance creation calls\n",
    "    \n",
    "    \n",
    "# Why Decorators?\n",
    "## Good Parts\n",
    "\n",
    "- Explicity syntax\n",
    "    - Make intent clearer\n",
    "- Mainability\n",
    "    - Not necessary to add extra code at every calll to the class or function\n",
    "- Consistency\n",
    "    \n",
    "## Drawbacks\n",
    "- Type Change\n",
    "    - The function or class does not retain its original type after decorated\n",
    "    - It's rebound to a wrapper object\n",
    "- Extra call (costs)\n",
    "- All or nothing\n",
    "    - Apply to every later call to the decorated object"
   ]
  },
  {
   "cell_type": "markdown",
   "metadata": {},
   "source": [
    "# Basics\n",
    "\n",
    "## Function Decorators\n",
    "\n",
    "### Usage\n",
    "\n",
    "```python\n",
    "@decorator\n",
    "def func(arg):\n",
    "    pass\n",
    "\n",
    "func(1)\n",
    "```\n",
    "\n",
    "#### is equivalent to\n",
    "\n",
    "```python\n",
    "def func(arg):\n",
    "    pass\n",
    "    \n",
    "fun = decorator(fun)\n",
    " \n",
    "func(a)\n",
    "```\n",
    "\n",
    "### Implementaion\n",
    "A decorator itself is a callable that return a callable"
   ]
  },
  {
   "cell_type": "code",
   "execution_count": 1,
   "metadata": {
    "collapsed": false
   },
   "outputs": [
    {
     "name": "stdout",
     "output_type": "stream",
     "text": [
      "[Args]:  (6, 7)\n",
      "[Args]:  (<__main__.C object at 0x1043b1a58>, 1, 2)\n"
     ]
    }
   ],
   "source": [
    "# Neseted function (Support both function and methods)\n",
    "# This is just a common pattern, not the only way\n",
    "def decorator(fun):\n",
    "    def wrapper(*args):\n",
    "        print(\"[Args]: \", args)\n",
    "        return fun(*args)\n",
    "\n",
    "    return wrapper\n",
    "\n",
    "\n",
    "# Function decorator\n",
    "@decorator\n",
    "def func(x, y):\n",
    "    pass\n",
    "\n",
    "\n",
    "func(6, 7)\n",
    "\n",
    "\n",
    "class C:\n",
    "    @decorator\n",
    "    def method(self, x, y):\n",
    "        pass\n",
    "\n",
    "\n",
    "c = C()\n",
    "c.method(1, 2)"
   ]
  },
  {
   "cell_type": "markdown",
   "metadata": {},
   "source": [
    "## Class Decorators\n",
    "- Used when you have to make more than one instance of a class, and want to apply the augmentation to every instance \n",
    "- **`__getattr__`** based tracing wrapper will not trace and propagate operator overloading calls for built-ins in Python3\n",
    "    - To work the same in Python3 operator overloading methods generally must be redeined redundantly in the wrapper clas either by hand, by tools or by definition in superclass \n",
    "\n",
    "\n",
    "### Usage\n",
    "\n",
    "```python\n",
    "@decorator\n",
    "class C:\n",
    "    pass\n",
    "\n",
    "c = C(1)\n",
    "```\n",
    "\n",
    "#### is equivalent to\n",
    "\n",
    "```python\n",
    "class C:\n",
    "    pass\n",
    "    \n",
    "C = decorator(C)\n",
    " \n",
    "c = C(1)\n",
    "```\n",
    "\n",
    "### Implementation\n",
    "Just like function decorators, though some may involve two levels of augmentation"
   ]
  },
  {
   "cell_type": "code",
   "execution_count": 2,
   "metadata": {
    "collapsed": false
   },
   "outputs": [
    {
     "name": "stdout",
     "output_type": "stream",
     "text": [
      "[name]:  attr\n",
      "[calls]:  1\n",
      "spam\n",
      "[name]:  attr\n",
      "[calls]:  1\n",
      "spam\n"
     ]
    }
   ],
   "source": [
    "def decorator(cls):\n",
    "    class Wrapper:\n",
    "        def __init__(self, *args):\n",
    "            self.wrapped = cls(*args)\n",
    "            self.calls = 0\n",
    "\n",
    "        def __getattr__(self, name):\n",
    "            self.calls += 1\n",
    "            print(\"[name]: \", name)\n",
    "            print(\"[calls]: \", self.calls)\n",
    "            return getattr(self.wrapped, name)\n",
    "\n",
    "    return Wrapper\n",
    "\n",
    "\n",
    "@decorator\n",
    "class C:\n",
    "    def __init__(self, x, y):\n",
    "        self.attr = \"spam\"\n",
    "\n",
    "\n",
    "c1 = C(6, 7)\n",
    "print(c1.attr)\n",
    "\n",
    "c2 = C(7, 8)\n",
    "print(c2.attr)"
   ]
  },
  {
   "cell_type": "markdown",
   "metadata": {},
   "source": [
    "- Supporting multiple instance\n",
    "    - Handles multiple decorated classes (each makes a new Decorator instnace)"
   ]
  },
  {
   "cell_type": "code",
   "execution_count": 3,
   "metadata": {
    "collapsed": false
   },
   "outputs": [
    {
     "name": "stdout",
     "output_type": "stream",
     "text": [
      "[Args]:  (1,)\n",
      "[Calls]:  1\n",
      "[Args]:  (2,)\n",
      "[Calls]:  2\n"
     ]
    }
   ],
   "source": [
    "class Decorator:\n",
    "    def __init__(self, C):  # On @decoration\n",
    "        self.C = C\n",
    "        self.calls = 0\n",
    "\n",
    "    def __call__(self, *args):  # On instance creation\n",
    "        self.calls += 1\n",
    "        print(\"[Args]: \", args)\n",
    "        print(\"[Calls]: \", self.calls)\n",
    "        self.wrapped = self.C(*args)\n",
    "        return self\n",
    "\n",
    "    def __getattr__(self, attrname):\n",
    "        return getattr(self.wrapped, attrname)\n",
    "\n",
    "\n",
    "@Decorator\n",
    "class C:\n",
    "    def __init__(*args):\n",
    "        pass\n",
    "\n",
    "\n",
    "c1 = C(1)\n",
    "c2 = C(2)"
   ]
  },
  {
   "cell_type": "markdown",
   "metadata": {},
   "source": [
    "### Example (singleton)"
   ]
  },
  {
   "cell_type": "code",
   "execution_count": 4,
   "metadata": {
    "collapsed": false
   },
   "outputs": [],
   "source": [
    "def singleton(cls):\n",
    "    instance = None\n",
    "\n",
    "    def on_call(*args, **kwargs):\n",
    "        nonlocal instance\n",
    "        if not instance:\n",
    "            instance = cls(*args, **kwargs)\n",
    "        return instance\n",
    "\n",
    "    return on_call"
   ]
  },
  {
   "cell_type": "code",
   "execution_count": 5,
   "metadata": {
    "collapsed": false
   },
   "outputs": [
    {
     "name": "stdout",
     "output_type": "stream",
     "text": [
      "1\n",
      "1\n"
     ]
    }
   ],
   "source": [
    "@singleton\n",
    "class C:\n",
    "    def __init__(self, data):\n",
    "        self.data = data\n",
    "\n",
    "    def display(self):\n",
    "        print(self.data)\n",
    "\n",
    "\n",
    "c1 = C(1)\n",
    "c1.display()\n",
    "\n",
    "# Cannot create a new one\n",
    "c2 = C(2)\n",
    "c2.display()"
   ]
  },
  {
   "cell_type": "markdown",
   "metadata": {},
   "source": [
    "## Decorator Nesting\n",
    "\n",
    "```python\n",
    "@A\n",
    "@B\n",
    "@C\n",
    "def fun(arg):\n",
    "    pass\n",
    "```\n",
    "\n",
    "#### is equivalent to\n",
    "\n",
    "```python\n",
    "def fun(arg):\n",
    "    pass\n",
    "    \n",
    "fun = A(B(C(fun)))\n",
    "```"
   ]
  },
  {
   "cell_type": "markdown",
   "metadata": {},
   "source": [
    "## Decorator Arguments\n",
    "- Usually used to\n",
    "    - retain state information for use in later calls\n",
    "    - attribute initialization\n",
    "    - atttribute names to be validated\n",
    "- It often implied three levels of callables\n",
    "\n",
    "### Usage\n",
    "```python\n",
    "@decorator(x, y)\n",
    "def fun(arg):\n",
    "    pass\n",
    "    \n",
    "fun(1)\n",
    "```\n",
    "\n",
    "#### is equivalent to\n",
    "\n",
    "```python\n",
    "def fun(arg):\n",
    "    pass\n",
    "    \n",
    "fun = decorator(x, y)(fun)\n",
    "\n",
    "fun(1)\n",
    "```\n",
    "\n",
    "### Implementation\n",
    "\n",
    "```python\n",
    "def decorator(x, y):\n",
    "    # save or use x, y\n",
    "    def actualDecorator(func):\n",
    "        # save or use function func\n",
    "        # return a callable: nested def, class with __call__ etc.\n",
    "        return callable\n",
    "    return actualDecorator\n",
    "    \n",
    "```"
   ]
  },
  {
   "cell_type": "markdown",
   "metadata": {},
   "source": [
    "## Decorator VS Manger Functions\n",
    "\n",
    "### Manger Function (For one instance)\n",
    "\n",
    "\n",
    "```python\n",
    "class Spam\n",
    "    pass\n",
    "   \n",
    "food = Wrapper(Spam)()\n",
    "```\n",
    "\n",
    "### Decorator (For all instance)\n",
    "\n",
    "```python\n",
    "@Tracer\n",
    "class Spam:\n",
    "    pass\n",
    "    \n",
    "food = Spam()\n",
    "```"
   ]
  },
  {
   "cell_type": "markdown",
   "metadata": {},
   "source": [
    "---"
   ]
  },
  {
   "cell_type": "markdown",
   "metadata": {},
   "source": [
    "# Function introspection\n",
    "(May be used to implement a decorator)"
   ]
  },
  {
   "cell_type": "code",
   "execution_count": 6,
   "metadata": {
    "collapsed": true
   },
   "outputs": [],
   "source": [
    "def func(a, b, c=1, d=2):\n",
    "    x = 3\n",
    "    y = 4\n",
    "\n",
    "\n",
    "code = func.__code__"
   ]
  },
  {
   "cell_type": "code",
   "execution_count": 7,
   "metadata": {
    "collapsed": false
   },
   "outputs": [
    {
     "data": {
      "text/plain": [
       "6"
      ]
     },
     "execution_count": 7,
     "metadata": {},
     "output_type": "execute_result"
    }
   ],
   "source": [
    "code.co_nlocals"
   ]
  },
  {
   "cell_type": "code",
   "execution_count": 8,
   "metadata": {
    "collapsed": false
   },
   "outputs": [
    {
     "data": {
      "text/plain": [
       "('a', 'b', 'c', 'd', 'x', 'y')"
      ]
     },
     "execution_count": 8,
     "metadata": {},
     "output_type": "execute_result"
    }
   ],
   "source": [
    "code.co_varnames"
   ]
  },
  {
   "cell_type": "code",
   "execution_count": 9,
   "metadata": {
    "collapsed": false
   },
   "outputs": [
    {
     "data": {
      "text/plain": [
       "('a', 'b', 'c', 'd')"
      ]
     },
     "execution_count": 9,
     "metadata": {},
     "output_type": "execute_result"
    }
   ],
   "source": [
    "code.co_varnames[: code.co_argcount]"
   ]
  }
 ],
 "metadata": {
  "kernelspec": {
   "display_name": "Python 3",
   "language": "python",
   "name": "python3"
  },
  "language_info": {
   "codemirror_mode": {
    "name": "ipython",
    "version": 3
   },
   "file_extension": ".py",
   "mimetype": "text/x-python",
   "name": "python",
   "nbconvert_exporter": "python",
   "pygments_lexer": "ipython3",
   "version": "3.5.1"
  }
 },
 "nbformat": 4,
 "nbformat_minor": 0
}
