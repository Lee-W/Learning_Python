{
 "cells": [
  {
   "cell_type": "markdown",
   "metadata": {},
   "source": [
    "- Downside of Python\n",
    "    - Python's `speed` may be slower than compiled language (e.g. C, C++).  \n",
    "      Howerver,Python's `speed-of-development` gain might be more important than its speed-ofexecution loss."
   ]
  },
  {
   "cell_type": "markdown",
   "metadata": {},
   "source": [
    "- GUI Package\n",
    "    - Tkinter\n",
    "    - wxPython\n",
    "    - Dabo"
   ]
  }
 ],
 "metadata": {
  "kernelspec": {
   "display_name": "Python 3",
   "language": "python",
   "name": "python3"
  },
  "language_info": {
   "codemirror_mode": {
    "name": "ipython",
    "version": 3
   },
   "file_extension": ".py",
   "mimetype": "text/x-python",
   "name": "python",
   "nbconvert_exporter": "python",
   "pygments_lexer": "ipython3",
   "version": "3.4.3"
  }
 },
 "nbformat": 4,
 "nbformat_minor": 0
}
