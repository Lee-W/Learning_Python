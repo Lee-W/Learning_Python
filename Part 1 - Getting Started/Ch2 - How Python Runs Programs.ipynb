{
 "cells": [
  {
   "cell_type": "markdown",
   "metadata": {},
   "source": [
    "- .pyc means compiled .py code.\n",
    "    - In 3.2 and later, there compiled code are saved in `\\_\\_pycache\\_\\_`.\n",
    "    - It's for `startup optimization`. Python will load these .pyc files and skip compilation.\n",
    "    - Note that Python byte code is not binary machine code. Instead, it's a Python-spcific representation."
   ]
  },
  {
   "cell_type": "markdown",
   "metadata": {},
   "source": [
    "- Other Python Implementation\n",
    "    - Jython : Java\n",
    "    - IronPython : .NET\n",
    "    - Stackless : concurrency\n",
    "    - PyPy : speed (still Python 2 only)\n",
    "    - Cython : integrate with C"
   ]
  },
  {
   "cell_type": "markdown",
   "metadata": {},
   "source": [
    "- Frozen  Binaries -> release exe\n",
    "    - py2exe : windows\n",
    "    - PyInstaller\n",
    "    - py2app : Mac\n",
    "    - cx_freeze : Python 3"
   ]
  }
 ],
 "metadata": {
  "kernelspec": {
   "display_name": "Python 3",
   "language": "python",
   "name": "python3"
  },
  "language_info": {
   "codemirror_mode": {
    "name": "ipython",
    "version": 3
   },
   "file_extension": ".py",
   "mimetype": "text/x-python",
   "name": "python",
   "nbconvert_exporter": "python",
   "pygments_lexer": "ipython3",
   "version": "3.4.3"
  }
 },
 "nbformat": 4,
 "nbformat_minor": 0
}
