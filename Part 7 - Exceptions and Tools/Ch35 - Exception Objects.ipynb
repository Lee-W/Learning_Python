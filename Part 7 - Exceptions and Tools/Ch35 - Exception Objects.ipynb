{
 "cells": [
  {
   "cell_type": "markdown",
   "metadata": {},
   "source": [
    "# Class-Based Exception\n",
    "\n",
    "- Exception Superclass:\n",
    "    - Python3 requirs the top-level exception class inherits from **BaseException**\n",
    "        - Although **Exception**(a subclass of **BaseException**) should be inherits instead\n",
    "\n",
    "## Exception Name\n",
    "In realistic programs, this usually should not be cared"
   ]
  },
  {
   "cell_type": "code",
   "execution_count": 1,
   "metadata": {
    "collapsed": false
   },
   "outputs": [
    {
     "name": "stdout",
     "output_type": "stream",
     "text": [
      "Method 1:  <class '__main__.General'>\n",
      "Method 2:  <class '__main__.General'>\n",
      "\n",
      "Method 1:  <class '__main__.Specific1'>\n",
      "Method 2:  <class '__main__.Specific1'>\n",
      "\n",
      "Method 1:  <class '__main__.Specific2'>\n",
      "Method 2:  <class '__main__.Specific2'>\n",
      "\n"
     ]
    }
   ],
   "source": [
    "import sys\n",
    "\n",
    "class General(Exception): pass\n",
    "class Specific1(General): pass\n",
    "class Specific2(General): pass\n",
    "\n",
    "def raiseGernerl(): raise General()\n",
    "def raiseSpecific1(): raise Specific1()\n",
    "def raiseSpecific2(): raise Specific2()\n",
    "    \n",
    "for func in (raiseGernerl, raiseSpecific1, raiseSpecific2):\n",
    "    try:\n",
    "        func()\n",
    "    except General as X:\n",
    "        print('Method 1: ' ,sys.exc_info()[0])\n",
    "        print('Method 2: ', X.__class__)\n",
    "        print()"
   ]
  },
  {
   "cell_type": "markdown",
   "metadata": {},
   "source": [
    "**sys.exc_info** is more useful for empty **except**"
   ]
  },
  {
   "cell_type": "markdown",
   "metadata": {},
   "source": [
    "## Why Exception Hierarchies? (Design Issue)"
   ]
  },
  {
   "cell_type": "code",
   "execution_count": 2,
   "metadata": {
    "collapsed": false
   },
   "outputs": [
    {
     "name": "stdout",
     "output_type": "stream",
     "text": [
      "<class '__main__.Divzero'>\n"
     ]
    }
   ],
   "source": [
    "# Without Hierarchies\n",
    "class Divzero(Exception): pass\n",
    "class Oflow(Exception): pass\n",
    "\n",
    "def func():\n",
    "    raise Divzero\n",
    "    raise Oflow\n",
    "\n",
    "try:\n",
    "    func()\n",
    "except (Divzero, Oflow) as e:\n",
    "    print(e.__class__)"
   ]
  },
  {
   "cell_type": "code",
   "execution_count": 3,
   "metadata": {
    "collapsed": false
   },
   "outputs": [
    {
     "name": "stdout",
     "output_type": "stream",
     "text": [
      "<class '__main__.Divzero'>\n"
     ]
    }
   ],
   "source": [
    "# With Hierarchies\n",
    "class NumErr(Exception): pass\n",
    "class Divzero(NumErr): pass\n",
    "class Oflow(NumErr): pass\n",
    "\n",
    "def func():\n",
    "    raise Divzero\n",
    "    raise Oflow\n",
    "\n",
    "try:\n",
    "    func()\n",
    "except NumErr as e:\n",
    "    print(e.__class__)"
   ]
  },
  {
   "cell_type": "markdown",
   "metadata": {},
   "source": [
    "By using exception with hierarchies, we are free to add, delete and change exception without the need to modify code after **except**.  \n",
    "This is especially useful when coding module"
   ]
  },
  {
   "cell_type": "markdown",
   "metadata": {},
   "source": [
    "# Built-in Exception Classes\n",
    "\n",
    "- BaseException (topmost root)\n",
    "    - This is not supposed to be directly inherited by user-defined classes\n",
    "- Exception (root of user-defined exceptions)\n",
    "    - Immediate subclass of **BaseException**\n",
    "    - Superclass of every other built-in exception except the system exit event classes (**SystemExit, KeyboardInterrupy, GeneratorExit**)\n",
    "- ArithmeticError (root of numeric errors)\n",
    "- LookupError (root of indexing errors)\n",
    "\n",
    "## Default Printing and State\n",
    "If not redifined, any constructor arguments passed to the exception are saved in a tuple atrribute named **args** and displayed when the instance is printed\n",
    "\n",
    "## Cutsom Print Display"
   ]
  },
  {
   "cell_type": "code",
   "execution_count": 4,
   "metadata": {
    "collapsed": false
   },
   "outputs": [
    {
     "name": "stdout",
     "output_type": "stream",
     "text": [
      "This is my Message\n"
     ]
    }
   ],
   "source": [
    "# This should be sufficient for most cases\n",
    "\n",
    "class MyExc(Exception): pass\n",
    "\n",
    "try:\n",
    "    raise MyExc('This is my Message')\n",
    "except MyExc as e:\n",
    "    print(e)"
   ]
  },
  {
   "cell_type": "code",
   "execution_count": 5,
   "metadata": {
    "collapsed": false
   },
   "outputs": [
    {
     "name": "stdout",
     "output_type": "stream",
     "text": [
      "detail\n"
     ]
    }
   ],
   "source": [
    "# For More Detail Customization\n",
    "\n",
    "class MyExc(Exception):\n",
    "    def __str__(self):\n",
    "        return 'detail'\n",
    "    \n",
    "try:\n",
    "    raise MyExc()\n",
    "except MyExc as e:\n",
    "    print(e)"
   ]
  },
  {
   "cell_type": "markdown",
   "metadata": {},
   "source": [
    "## Custom Behavior\n",
    "For example, logging"
   ]
  },
  {
   "cell_type": "code",
   "execution_count": 7,
   "metadata": {
    "collapsed": false
   },
   "outputs": [],
   "source": [
    "class MyLogExc(Exception):\n",
    "    file_name = 'log.txt'\n",
    "    \n",
    "    \n",
    "    def logerror(self):\n",
    "        log = open(self.file_name, 'a')\n",
    "        print('Error:', self.args, file=log)\n",
    "        \n",
    "try:\n",
    "    raise MyLogExc('This is logging error')\n",
    "except MyLogExc as exc:\n",
    "    exc.logerror()"
   ]
  },
  {
   "cell_type": "code",
   "execution_count": 8,
   "metadata": {
    "collapsed": false
   },
   "outputs": [
    {
     "name": "stdout",
     "output_type": "stream",
     "text": [
      "Error: ()\n",
      "Error: ('This is logging error',)\n",
      "\n"
     ]
    }
   ],
   "source": [
    "with open('./log.txt', 'r') as input_file:\n",
    "    print(input_file.read())"
   ]
  }
 ],
 "metadata": {
  "kernelspec": {
   "display_name": "Python 3",
   "language": "python",
   "name": "python3"
  },
  "language_info": {
   "codemirror_mode": {
    "name": "ipython",
    "version": 3
   },
   "file_extension": ".py",
   "mimetype": "text/x-python",
   "name": "python",
   "nbconvert_exporter": "python",
   "pygments_lexer": "ipython3",
   "version": "3.4.3"
  }
 },
 "nbformat": 4,
 "nbformat_minor": 0
}
