{
 "cells": [
  {
   "cell_type": "markdown",
   "metadata": {},
   "source": [
    "# Exception Idioms\n",
    "\n",
    "## Breaking Out of Multiple Nested Loops"
   ]
  },
  {
   "cell_type": "code",
   "execution_count": 1,
   "metadata": {
    "collapsed": false
   },
   "outputs": [],
   "source": [
    "class ExitLoop(Exception):\n",
    "    pass\n",
    "\n",
    "\n",
    "try:\n",
    "    while True:\n",
    "        while True:\n",
    "            for i in range(10):\n",
    "                if i > 3:\n",
    "                    raise ExitLoop\n",
    "                    print(\"Loop 3\")\n",
    "            print(\"loop 2\")\n",
    "        print(\"loop1\")\n",
    "except ExitLoop:\n",
    "    print(\"Except\")"
   ]
  },
  {
   "cell_type": "markdown",
   "metadata": {},
   "source": [
    "## Signal Conditions with Raise"
   ]
  },
  {
   "cell_type": "code",
   "execution_count": 2,
   "metadata": {
    "collapsed": false
   },
   "outputs": [
    {
     "name": "stdout",
     "output_type": "stream",
     "text": [
      "Not Found\n"
     ]
    }
   ],
   "source": [
    "import string\n",
    "\n",
    "\n",
    "class NotFound(Exception):\n",
    "    pass\n",
    "\n",
    "\n",
    "chars = string.ascii_lowercase[:14]\n",
    "\n",
    "\n",
    "def search_ch(ch):\n",
    "    if ch in chars:\n",
    "        print(ch)\n",
    "    else:\n",
    "        raise NotFound\n",
    "\n",
    "\n",
    "try:\n",
    "    item = search_ch(\"z\")\n",
    "except NotFound:\n",
    "    print(\"Not Found\")\n",
    "else:\n",
    "    print(\"Found\", item)"
   ]
  },
  {
   "cell_type": "markdown",
   "metadata": {},
   "source": [
    "## Display Error and Traceback"
   ]
  },
  {
   "cell_type": "code",
   "execution_count": 3,
   "metadata": {
    "collapsed": false
   },
   "outputs": [
    {
     "name": "stdout",
     "output_type": "stream",
     "text": [
      "Traceback (most recent call last):\n",
      "  File \"<ipython-input-3-cc1f87d6f5aa>\", line 7, in <module>\n",
      "    inverse(0)\n",
      "  File \"<ipython-input-3-cc1f87d6f5aa>\", line 4, in inverse\n",
      "    return 1 / x\n",
      "ZeroDivisionError: division by zero\n",
      "\n"
     ]
    }
   ],
   "source": [
    "import traceback\n",
    "\n",
    "\n",
    "def inverse(x):\n",
    "    return 1 / x\n",
    "\n",
    "\n",
    "try:\n",
    "    inverse(0)\n",
    "except ZeroDivisionError:\n",
    "    traceback.print_exc(file=open(\"error_msg.txt\", \"w\"))\n",
    "\n",
    "print(open(\"error_msg.txt\", \"r\").read())"
   ]
  },
  {
   "cell_type": "markdown",
   "metadata": {},
   "source": [
    "# Exception Design Tips and Gotchas\n",
    "\n",
    "## What Should Be Wrapped\n",
    "- Operations that commonly failed\n",
    "    - e.g. file opens, socket calls -> operatoins that interface with system state\n",
    "- Use **try/finally** or **with/as** to guarantee termination actions\n",
    "\n",
    "## Catching Too Much (Avoid Empty Except and Exception)\n",
    "- It might catch unrelated system exceptions\n",
    "- It might catch genuine programming errors (e.g. typo)\n",
    "- Unless you're writing a debuger or such tool, such general exceptions should be avoid\n",
    "    - Be as specific in handlers as it can be\n",
    "    \n",
    "## Catching Too Little: Use Class-Based Categories\n",
    "- Careful use of class-based exception can enhance maintainability (discussed in Ch34)\n"
   ]
  },
  {
   "cell_type": "markdown",
   "metadata": {},
   "source": [
    "---"
   ]
  },
  {
   "cell_type": "markdown",
   "metadata": {},
   "source": [
    "# Development Tools For Larger Projects\n",
    "- PyChecker and PyLint\n",
    "- Profilers\n",
    "- Debugger (pdb)"
   ]
  }
 ],
 "metadata": {
  "kernelspec": {
   "display_name": "Python 3",
   "language": "python",
   "name": "python3"
  },
  "language_info": {
   "codemirror_mode": {
    "name": "ipython",
    "version": 3
   },
   "file_extension": ".py",
   "mimetype": "text/x-python",
   "name": "python",
   "nbconvert_exporter": "python",
   "pygments_lexer": "ipython3",
   "version": "3.4.3"
  }
 },
 "nbformat": 4,
 "nbformat_minor": 0
}
