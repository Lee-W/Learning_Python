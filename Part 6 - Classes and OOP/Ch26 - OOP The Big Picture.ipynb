{
 "cells": [
  {
   "cell_type": "markdown",
   "metadata": {},
   "source": [
    "# Class\n",
    "\n",
    "## Why Classes?\n",
    "- Multiple instances\n",
    "- Customization via inheritance\n",
    "- Operator overloading\n",
    "\n",
    "## Class vs Instance\n",
    "- Classes are a kind of factory for generating instance\n",
    "- Both serve as another kind of namespace (a place where we can attach attributes)\n",
    "\n",
    "## Method\n",
    "**def** nested in **class** is known as a method.  \n",
    "\n",
    "### **self**\n",
    "A method automatically receives a sepcial first arguent (**self**) that provides a handle back to the instance to be processed.    \n",
    "It's like **this** pointer in C++ or Java, except that **self** is always explicit in both header and bodies.  \n",
    "\n",
    "### Method Calls\n",
    "Methods can be called through either an instance or a class\n",
    "\n",
    "e.g. \n",
    "- instnace: **bob.give_raise()**\n",
    "- class: **Employee.give_raise(bob)**\n",
    "\n",
    "## Class Tree\n",
    "Classes are linked to their superclasses according to the way we list them in paretheses in a **class** header; the left-to-right order ther gives the order in tree."
   ]
  },
  {
   "cell_type": "code",
   "execution_count": 1,
   "metadata": {
    "collapsed": false
   },
   "outputs": [
    {
     "name": "stdout",
     "output_type": "stream",
     "text": [
      "This is i3.x:  1\n",
      "1\n",
      "3\n"
     ]
    }
   ],
   "source": [
    "class C1:\n",
    "    x = 1\n",
    "    y = 2\n",
    "    pass\n",
    "\n",
    "class C2:\n",
    "    x = 3\n",
    "    z = 4\n",
    "\n",
    "class C3(C1, C2):\n",
    "    def print_c1_x(self):\n",
    "        print(self.x)\n",
    "        \n",
    "    def print_c2_x(self):\n",
    "        print(C2.x)\n",
    "\n",
    "i3 = C3()\n",
    "print(\"This is i3.x: \", i3.x)\n",
    "i3.print_c1_x()\n",
    "i3.print_c2_x()"
   ]
  },
  {
   "cell_type": "markdown",
   "metadata": {},
   "source": [
    "If name is conflicted, the leftmost version of a name is used by default, though you can always chooses a name by asking for it from the class it lives in.  \n",
    "(e.g. C2.x)"
   ]
  },
  {
   "cell_type": "markdown",
   "metadata": {},
   "source": [
    "## Operator Overloading\n",
    "\n",
    "Methods that have double underscores at the start and end of their names  \n",
    "e.g. **`__init__`**, **`__add__`**, **`__gt__`**\n",
    "\n",
    "### Why Operator Overloading?\n",
    "- Making instances look and feel more like built-in types\n",
    "- Be compatible with code that expects a built-in type\n",
    "\n",
    "### `__init__`\n",
    "- Constructor\n",
    "- Each time a class is used (create instance) or inherited, Python calls **`__init__`**\n",
    "- Used to initialize instances when they are created\n",
    "- If no **`__init__`** is present, class calls return an empty instance, without initializing it."
   ]
  },
  {
   "cell_type": "markdown",
   "metadata": {},
   "source": [
    "## Inheritance Search\n",
    "An inheritance search looks for an attribute \n",
    "1. The instance object\n",
    "2. The class the instance was created from\n",
    "3. All higher superclassed, progressing from the bottom to the top of the object tree, and from left to right(by default)"
   ]
  }
 ],
 "metadata": {
  "kernelspec": {
   "display_name": "Python 3",
   "language": "python",
   "name": "python3"
  },
  "language_info": {
   "codemirror_mode": {
    "name": "ipython",
    "version": 3
   },
   "file_extension": ".py",
   "mimetype": "text/x-python",
   "name": "python",
   "nbconvert_exporter": "python",
   "pygments_lexer": "ipython3",
   "version": "3.4.3"
  }
 },
 "nbformat": 4,
 "nbformat_minor": 0
}
