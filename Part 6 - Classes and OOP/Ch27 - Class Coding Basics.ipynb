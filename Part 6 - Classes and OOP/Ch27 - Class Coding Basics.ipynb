{
 "cells": [
  {
   "cell_type": "markdown",
   "metadata": {},
   "source": [
    "# Class and Instance\n",
    "\n",
    "\n",
    "## namespace\n",
    "The attributes of a namespace are usually implemented as dict\n",
    "\n",
    "- **`__class__`**: The link to its class (instance)\n",
    "- **`__bases__`**: A tuple of references to their superclasses (class)"
   ]
  },
  {
   "cell_type": "code",
   "execution_count": 1,
   "metadata": {
    "collapsed": false
   },
   "outputs": [
    {
     "name": "stdout",
     "output_type": "stream",
     "text": [
      "<class '__main__.Rec'>\n",
      "(<class 'object'>,)\n"
     ]
    }
   ],
   "source": [
    "class Rec(object):\n",
    "    pass\n",
    "\n",
    "\n",
    "rec = Rec()\n",
    "\n",
    "print(rec.__class__)\n",
    "print(Rec.__bases__)"
   ]
  },
  {
   "cell_type": "markdown",
   "metadata": {},
   "source": [
    "## Class Object (Default Behavior)\n",
    "1. Assignments inside **class** make class attributes\n",
    "3. Class Attributes provid object state and behavior\n",
    "\n",
    "Classes are objects in their own right, even without instance"
   ]
  },
  {
   "cell_type": "code",
   "execution_count": 2,
   "metadata": {
    "collapsed": false
   },
   "outputs": [
    {
     "name": "stdout",
     "output_type": "stream",
     "text": [
      "<class '__main__.Rec'>\n"
     ]
    }
   ],
   "source": [
    "class Rec(object):\n",
    "    pass\n",
    "\n",
    "\n",
    "print(Rec)"
   ]
  },
  {
   "cell_type": "markdown",
   "metadata": {},
   "source": [
    "## Instance Object (Concrete Items)\n",
    "Assignments to attributes of **self** in methods make per-instance attribues"
   ]
  },
  {
   "cell_type": "markdown",
   "metadata": {},
   "source": [
    "## Attribute\n",
    "- When looking for a name, Python checks the instance, then its class, then all superclasses\n",
    "- Each *object.attribute* reference invokes a new, independent search."
   ]
  },
  {
   "cell_type": "markdown",
   "metadata": {},
   "source": [
    "---"
   ]
  },
  {
   "cell_type": "markdown",
   "metadata": {},
   "source": [
    "# Operator Overloading\n",
    "- Methods named with double underscores(**`__x__`**)\n",
    "    - Not built-in or reserved words, just attributes\n",
    "    - Can be called directly by your code\n",
    "        - e.g. **`x.__init__`** is often called manually to trigger initialization in a superclass\n",
    "- Classes may override most built-in type operations\n",
    "- No defaults for operator overloading methods\n",
    "- Not are required\n",
    "- New-style classes (detail in next chapter) have some defaults, but not for commom operations\n",
    "    \n",
    "- It's an optinal feature.  \n",
    "- Used primarily by people developing tools for other Python programmers, not by application developers  \n",
    "- Overloaded operators should work the same way that built-in operator\n",
    "\n",
    "## Why Operator Overloading?\n",
    "- Mathematical in nature\n",
    "- Expect the operators available on a built-in type like a list or a dict\n",
    "- Mimic the built-in types"
   ]
  }
 ],
 "metadata": {
  "kernelspec": {
   "display_name": "Python 3",
   "language": "python",
   "name": "python3"
  },
  "language_info": {
   "codemirror_mode": {
    "name": "ipython",
    "version": 3
   },
   "file_extension": ".py",
   "mimetype": "text/x-python",
   "name": "python",
   "nbconvert_exporter": "python",
   "pygments_lexer": "ipython3",
   "version": "3.4.3"
  }
 },
 "nbformat": 4,
 "nbformat_minor": 0
}
