{
 "cells": [
  {
   "cell_type": "markdown",
   "metadata": {},
   "source": [
    "# Operator Overloading\n",
    "- Let class intercept normal Pytonh operations\n",
    "- Make class instances act more like built-in types\n",
    "\n",
    "## Performance\n",
    "Don't expect speed adavtange  \n",
    "In fact, it might be slower. (Might due to the overhead of a function call)  "
   ]
  },
  {
   "cell_type": "code",
   "execution_count": 10,
   "metadata": {
    "collapsed": false
   },
   "outputs": [
    {
     "data": {
      "text/plain": [
       "0.044870924118527"
      ]
     },
     "execution_count": 10,
     "metadata": {},
     "output_type": "execute_result"
    }
   ],
   "source": [
    "import timeit\n",
    "\n",
    "min(timeit.repeat(\"L = list(range(100)); x = L.__len__()\", number=10000, repeat=3))"
   ]
  },
  {
   "cell_type": "code",
   "execution_count": 11,
   "metadata": {
    "collapsed": false
   },
   "outputs": [
    {
     "data": {
      "text/plain": [
       "0.03998297356558567"
      ]
     },
     "execution_count": 11,
     "metadata": {},
     "output_type": "execute_result"
    }
   ],
   "source": [
    "min(timeit.repeat(\"L = list(range(100)); x = len(L)\", number=10000, repeat=3))"
   ]
  },
  {
   "cell_type": "markdown",
   "metadata": {},
   "source": [
    "## Command Used Operator\n",
    "```\n",
    "__init__\n",
    "__repr, __str__\n",
    "__call__\n",
    "__getattr__\n",
    "__setattr__ \n",
    "__getitem__\n",
    "__setitem__                                \n",
    "__len__\n",
    "__bool__\n",
    "__lt__,__gt__,__le__,__ge__,__eq__,__ne__\n",
    "__iter__, __next__\n",
    "__contains__\n",
    "__index__\n",
    "```\n",
    "\n",
    "We'll dig into detail later"
   ]
  },
  {
   "cell_type": "markdown",
   "metadata": {},
   "source": [
    "## Indexing and Slicing: `__getitem__`, `__setitem__`\n",
    "\n",
    "### `__getitem__`\n",
    "It's called for instance-indexing operation. (e.g. X[i])"
   ]
  },
  {
   "cell_type": "code",
   "execution_count": 16,
   "metadata": {
    "collapsed": false
   },
   "outputs": [
    {
     "name": "stdout",
     "output_type": "stream",
     "text": [
      "getitem:  2\n"
     ]
    },
    {
     "data": {
      "text/plain": [
       "7"
      ]
     },
     "execution_count": 16,
     "metadata": {},
     "output_type": "execute_result"
    }
   ],
   "source": [
    "class Indexer(object):\n",
    "    data = [5, 6, 7, 8, 9]\n",
    "    def __getitem__(self, index):\n",
    "        print(\"getitem: \", index)\n",
    "        return self.data[index]\n",
    "    \n",
    "x = Indexer()\n",
    "x[2]"
   ]
  },
  {
   "cell_type": "code",
   "execution_count": 17,
   "metadata": {
    "collapsed": false
   },
   "outputs": [
    {
     "name": "stdout",
     "output_type": "stream",
     "text": [
      "getitem:  slice(2, 4, None)\n"
     ]
    },
    {
     "data": {
      "text/plain": [
       "[7, 8]"
      ]
     },
     "execution_count": 17,
     "metadata": {},
     "output_type": "execute_result"
    }
   ],
   "source": [
    "x[2:4]"
   ]
  },
  {
   "cell_type": "markdown",
   "metadata": {},
   "source": [
    "Handle the slice object (slice objects have attribute **start**, **stop** and **step**)"
   ]
  },
  {
   "cell_type": "code",
   "execution_count": 21,
   "metadata": {
    "collapsed": false
   },
   "outputs": [
    {
     "name": "stdout",
     "output_type": "stream",
     "text": [
      "slicing 2 4 None\n"
     ]
    },
    {
     "data": {
      "text/plain": [
       "[7, 8]"
      ]
     },
     "execution_count": 21,
     "metadata": {},
     "output_type": "execute_result"
    }
   ],
   "source": [
    "class Indexer(object):\n",
    "    data = [5, 6, 7, 8, 9]\n",
    "    def __getitem__(self, index):\n",
    "        if isinstance(index, int):\n",
    "            print('indexing', index)\n",
    "        else:\n",
    "            print('slicing', index.start, index.stop, index.step)\n",
    "        return self.data[index]\n",
    "    \n",
    "x = Indexer()\n",
    "x[2:4]"
   ]
  },
  {
   "cell_type": "markdown",
   "metadata": {},
   "source": [
    "#### Code one, get a bunch free\n",
    "In absence of more-specific methods, `__getitem__` may be used in the following cases.\n",
    "\n",
    "- iteration\n",
    "- **in**\n",
    "- list comprehensions\n",
    "- **map**\n",
    "- list and tuple assignment\n",
    "- type constructors"
   ]
  },
  {
   "cell_type": "code",
   "execution_count": 36,
   "metadata": {
    "collapsed": true
   },
   "outputs": [],
   "source": [
    "class StepIndexer(object):\n",
    "    def __getitem__(self, i):\n",
    "        return self.data[i]\n",
    "\n",
    "x = StepIndexer()\n",
    "x.data = '1234'"
   ]
  },
  {
   "cell_type": "code",
   "execution_count": 37,
   "metadata": {
    "collapsed": false
   },
   "outputs": [
    {
     "name": "stdout",
     "output_type": "stream",
     "text": [
      "1\n",
      "2\n",
      "3\n",
      "4\n"
     ]
    }
   ],
   "source": [
    "# iteration\n",
    "\n",
    "for i in x:\n",
    "    print(i)"
   ]
  },
  {
   "cell_type": "code",
   "execution_count": 38,
   "metadata": {
    "collapsed": false
   },
   "outputs": [
    {
     "data": {
      "text/plain": [
       "True"
      ]
     },
     "execution_count": 38,
     "metadata": {},
     "output_type": "execute_result"
    }
   ],
   "source": [
    "# in\n",
    "\n",
    "'1' in x"
   ]
  },
  {
   "cell_type": "code",
   "execution_count": 39,
   "metadata": {
    "collapsed": false
   },
   "outputs": [
    {
     "data": {
      "text/plain": [
       "['1', '2', '3', '4']"
      ]
     },
     "execution_count": 39,
     "metadata": {},
     "output_type": "execute_result"
    }
   ],
   "source": [
    "# list comprehensions\n",
    "\n",
    "[i for i in x]"
   ]
  },
  {
   "cell_type": "code",
   "execution_count": 40,
   "metadata": {
    "collapsed": false
   },
   "outputs": [
    {
     "data": {
      "text/plain": [
       "[2, 4, 6, 8]"
      ]
     },
     "execution_count": 40,
     "metadata": {},
     "output_type": "execute_result"
    }
   ],
   "source": [
    "# map\n",
    "\n",
    "list(map(lambda x: int(x) * 2, x))"
   ]
  },
  {
   "cell_type": "code",
   "execution_count": 42,
   "metadata": {
    "collapsed": false
   },
   "outputs": [
    {
     "data": {
      "text/plain": [
       "('1', '2', '4')"
      ]
     },
     "execution_count": 42,
     "metadata": {},
     "output_type": "execute_result"
    }
   ],
   "source": [
    "# tuple assignment\n",
    "\n",
    "(a, b, c, d) = x\n",
    "a, b, d"
   ]
  },
  {
   "cell_type": "code",
   "execution_count": 43,
   "metadata": {
    "collapsed": false
   },
   "outputs": [
    {
     "data": {
      "text/plain": [
       "['1', '2', '3', '4']"
      ]
     },
     "execution_count": 43,
     "metadata": {},
     "output_type": "execute_result"
    }
   ],
   "source": [
    "# type constructor\n",
    "\n",
    "list(x)"
   ]
  },
  {
   "cell_type": "markdown",
   "metadata": {},
   "source": [
    "### `__setitem__`"
   ]
  },
  {
   "cell_type": "code",
   "execution_count": 24,
   "metadata": {
    "collapsed": false
   },
   "outputs": [
    {
     "data": {
      "text/plain": [
       "[1, 2, 5, 4]"
      ]
     },
     "execution_count": 24,
     "metadata": {},
     "output_type": "execute_result"
    }
   ],
   "source": [
    "class IndexSeter(object):\n",
    "    data = [1, 2, 3, 4]\n",
    "    def __setitem__(self, index, value):\n",
    "        self.data[index] = value\n",
    "\n",
    "x = IndexSeter()\n",
    "x[2] = 5\n",
    "x.data"
   ]
  },
  {
   "cell_type": "markdown",
   "metadata": {},
   "source": [
    "### Slicing and Indexing in Python2\n",
    "In Python 2 only , there are also `__getslice__` and `__setslice__`  \n",
    "They're removed in Python3, thus, even in Python2 `__getitem__` and `__setitem__` should be used"
   ]
  },
  {
   "cell_type": "markdown",
   "metadata": {},
   "source": [
    "### Python3's `__index__` is not indexing\n",
    "It returns an iteger value for an instance when needed and is used by built-ins that convert to digit strins"
   ]
  },
  {
   "cell_type": "code",
   "execution_count": 25,
   "metadata": {
    "collapsed": false
   },
   "outputs": [
    {
     "data": {
      "text/plain": [
       "'0xff'"
      ]
     },
     "execution_count": 25,
     "metadata": {},
     "output_type": "execute_result"
    }
   ],
   "source": [
    "class C(object):\n",
    "    def __index__(self):\n",
    "        return 255\n",
    "x = C()\n",
    "hex(x)"
   ]
  },
  {
   "cell_type": "markdown",
   "metadata": {},
   "source": [
    "## Iterable Objects: `__iter__`, `__next__`\n",
    "Iteration conect try **`__iter__`** first than **`__getitem))`**  \n",
    "Generally **`__iter__`** is prefered, it supports general iteration context better than **`__getitem__`**  \n",
    "\n",
    "When **`__iter__`** is invoked, it's expected to return an iterator object.  \n",
    "If it's provided, Python thne repeated ly calls this iterator object's **`__next__`** to produce items until a **StopIteration** exception\n",
    "\n",
    "It's designed for iteration, not random indexing.  \n",
    "Thus, if indexing is needed, **`__getitem__`** should still be used.\n",
    "\n",
    "### Single Traversal"
   ]
  },
  {
   "cell_type": "code",
   "execution_count": 47,
   "metadata": {
    "collapsed": false
   },
   "outputs": [
    {
     "name": "stdout",
     "output_type": "stream",
     "text": [
      "1\n",
      "4\n"
     ]
    }
   ],
   "source": [
    "class Squares(object):\n",
    "    def __init__(self, start, stop):\n",
    "        self.value = start - 1 \n",
    "        self.stop = stop\n",
    "    def __iter__(self):\n",
    "        return self\n",
    "    def __next__(self):\n",
    "        if self.value == self.stop:\n",
    "            raise StopIteration\n",
    "        self.value += 1\n",
    "        return self.value ** 2\n",
    "    \n",
    "x = Squares(1, 5)\n",
    "I1 = iter(x)\n",
    "I2 = iter(x)\n",
    "\n",
    "print(next(I1))\n",
    "print(next(I2))"
   ]
  },
  {
   "cell_type": "markdown",
   "metadata": {},
   "source": [
    "### Multiple Iterators on One Object\n",
    "\n",
    "- When **yield** is used, it return s a new generator object and create **`__iter__`** and **`__next__`**\n",
    "    - It's still true even if the generator function with a **tield** happens to be a method named **`__iter__`**"
   ]
  },
  {
   "cell_type": "code",
   "execution_count": 56,
   "metadata": {
    "collapsed": false
   },
   "outputs": [
    {
     "name": "stdout",
     "output_type": "stream",
     "text": [
      "1\n",
      "4\n",
      "9\n",
      "1\n"
     ]
    }
   ],
   "source": [
    "class Squares(object):\n",
    "    def __init__(self, start, stop):\n",
    "        self.start = start\n",
    "        self.stop = stop\n",
    "    def __iter__(self):\n",
    "        for value in range(self.start, self.stop + 1):\n",
    "            yield value ** 2\n",
    "\n",
    "x = Squares(1, 5)\n",
    "I1 = iter(x)\n",
    "I2 = iter(x)\n",
    "\n",
    "print(next(I1))\n",
    "print(next(I1))\n",
    "print(next(I1))\n",
    "\n",
    "print(next(I2))"
   ]
  },
  {
   "cell_type": "markdown",
   "metadata": {},
   "source": [
    "- Supplemental class that stores iterator state    \n"
   ]
  },
  {
   "cell_type": "code",
   "execution_count": 58,
   "metadata": {
    "collapsed": false
   },
   "outputs": [
    {
     "name": "stdout",
     "output_type": "stream",
     "text": [
      "1\n",
      "4\n",
      "9\n",
      "1\n"
     ]
    }
   ],
   "source": [
    "class Squares(object):\n",
    "    def __init__(self, start, stop):\n",
    "        self.start = start\n",
    "        self.stop = stop\n",
    "    def __iter__(self):\n",
    "        return SquaresIter(self.start, self.stop)\n",
    "    \n",
    "class SquaresIter(object):\n",
    "    def __init__(self, start, stop):\n",
    "        self.value = start - 1\n",
    "        self.stop = stop\n",
    "    def __next__(self):\n",
    "        if self.value == self.stop:\n",
    "            raise StopIteration\n",
    "        self.value += 1\n",
    "        return self.value ** 2\n",
    "    \n",
    "x = Squares(1, 5)\n",
    "I1 = iter(x)\n",
    "I2 = iter(x)\n",
    "\n",
    "print(next(I1))\n",
    "print(next(I1))\n",
    "print(next(I1))\n",
    "\n",
    "print(next(I2))"
   ]
  },
  {
   "cell_type": "markdown",
   "metadata": {},
   "source": [
    "## Membership: `__contains__`, `__iter__`, `__getitem__`\n",
    "Classes can implement the **in** membership operator as an iteration, using **`__iter__`** or **`__getitem__`**  \n",
    "**`__contains__`**should define membership as applying to keys for a mapping and as a search for sequences  "
   ]
  },
  {
   "cell_type": "code",
   "execution_count": 60,
   "metadata": {
    "collapsed": false
   },
   "outputs": [
    {
     "data": {
      "text/plain": [
       "True"
      ]
     },
     "execution_count": 60,
     "metadata": {},
     "output_type": "execute_result"
    }
   ],
   "source": [
    "class C(object):\n",
    "    data = [1, 2, 3, 4]\n",
    "    def __contains__(self, x):\n",
    "        return x in self.data\n",
    "    \n",
    "x = C()\n",
    "1 in x     "
   ]
  },
  {
   "cell_type": "markdown",
   "metadata": {},
   "source": [
    "## Attribute Access: `__getattr__` and `__setattr__`"
   ]
  },
  {
   "cell_type": "markdown",
   "metadata": {},
   "source": [
    "## String Representation: `__repr__`, `__str__`"
   ]
  },
  {
   "cell_type": "markdown",
   "metadata": {},
   "source": [
    "## Binary Operation (e.g. __add__, __radd__, __iadd__)"
   ]
  },
  {
   "cell_type": "markdown",
   "metadata": {},
   "source": [
    "## Call Expressions: `__call__`"
   ]
  },
  {
   "cell_type": "markdown",
   "metadata": {},
   "source": [
    "## Comparisons (e.g. `__lt__`, `__gt__`)"
   ]
  },
  {
   "cell_type": "markdown",
   "metadata": {},
   "source": [
    "## Boolean Tests: `__bool__`, `__len__`\n",
    "Boolean test try **`__bool__`** first then `__len__`"
   ]
  },
  {
   "cell_type": "markdown",
   "metadata": {},
   "source": [
    "## Object Destruction: `__del__`"
   ]
  }
 ],
 "metadata": {
  "kernelspec": {
   "display_name": "Python 3",
   "language": "python",
   "name": "python3"
  },
  "language_info": {
   "codemirror_mode": {
    "name": "ipython",
    "version": 3
   },
   "file_extension": ".py",
   "mimetype": "text/x-python",
   "name": "python",
   "nbconvert_exporter": "python",
   "pygments_lexer": "ipython3",
   "version": "3.4.3"
  }
 },
 "nbformat": 4,
 "nbformat_minor": 0
}
