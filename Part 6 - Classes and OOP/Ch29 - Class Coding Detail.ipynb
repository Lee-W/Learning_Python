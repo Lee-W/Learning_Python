{
 "cells": [
  {
   "cell_type": "markdown",
   "metadata": {},
   "source": [
    "# Attribute\n",
    "Assignment to instance attributes create or change the names in the instance, rather than in the shared class.  "
   ]
  },
  {
   "cell_type": "code",
   "execution_count": 1,
   "metadata": {
    "collapsed": false
   },
   "outputs": [
    {
     "name": "stdout",
     "output_type": "stream",
     "text": [
      "Example 1:  1 1 1\n",
      "Example 2:  2 2 2\n",
      "Example 3:  3 2 2\n"
     ]
    }
   ],
   "source": [
    "class SharedData(object):\n",
    "    data = 1\n",
    "\n",
    "\n",
    "x = SharedData()\n",
    "y = SharedData()\n",
    "print(\"Example 1: \", x.data, y.data, SharedData.data)\n",
    "\n",
    "# Change the data in SharedData\n",
    "SharedData.data = 2\n",
    "print(\"Example 2: \", x.data, y.data, SharedData.data)\n",
    "\n",
    "# Change only the data in instance x\n",
    "x.data = 3\n",
    "print(\"Example 3: \", x.data, y.data, SharedData.data)"
   ]
  },
  {
   "cell_type": "markdown",
   "metadata": {},
   "source": [
    "## Attribute Tree Construction\n",
    "- Instance attributes: Genereated by assignmetns to **self**.attribute in methods\n",
    "- Class attributes: Created by assignments in **class** statement\n",
    "- Superclass links are made by listing classes in parentheses in a **class** statement header"
   ]
  },
  {
   "cell_type": "markdown",
   "metadata": {},
   "source": [
    "---"
   ]
  },
  {
   "cell_type": "markdown",
   "metadata": {},
   "source": [
    "# Class Interface Techniques\n",
    "The following example show the command techniques used in class"
   ]
  },
  {
   "cell_type": "code",
   "execution_count": 2,
   "metadata": {
    "collapsed": false
   },
   "outputs": [
    {
     "name": "stdout",
     "output_type": "stream",
     "text": [
      "\n",
      "Inheritor...\n",
      "in Super.method\n",
      "\n",
      "Replacer...\n",
      "in Replace.method\n",
      "\n",
      "Extender...\n",
      "starting Extender.method\n",
      "in Super.method\n",
      "ending Extender.method\n",
      "\n",
      "Provider...\n",
      "in Provider.action\n"
     ]
    }
   ],
   "source": [
    "class Super(object):\n",
    "    def method(self):\n",
    "        print(\"in Super.method\")\n",
    "\n",
    "    def delegate(self):\n",
    "        self.action()\n",
    "\n",
    "\n",
    "class Inheritor(Super):\n",
    "    pass\n",
    "\n",
    "\n",
    "class Replacer(Super):\n",
    "    def method(self):\n",
    "        print(\"in Replace.method\")\n",
    "\n",
    "\n",
    "class Extender(Super):\n",
    "    def method(self):\n",
    "        print(\"starting Extender.method\")\n",
    "        Super.method(self)\n",
    "        print(\"ending Extender.method\")\n",
    "\n",
    "\n",
    "class Provider(Super):\n",
    "    def action(self):\n",
    "        print(\"in Provider.action\")\n",
    "\n",
    "\n",
    "if __name__ == \"__main__\":\n",
    "    for class_ in (Inheritor, Replacer, Extender):\n",
    "        print(\"\\n\" + class_.__name__ + \"...\")\n",
    "        class_().method()\n",
    "    print(\"\\nProvider...\")\n",
    "    x = Provider()\n",
    "    x.delegate()"
   ]
  },
  {
   "cell_type": "markdown",
   "metadata": {},
   "source": [
    "## Abstract Superclasses\n",
    "- Abstract superclasses are classes that expect parts of its behavior to be provided by its subclasss  \n",
    "- A class with an abstract method cannot be instantiated unless all of its abstract methos have been defined in subclasses\n",
    "\n",
    "### Python3"
   ]
  },
  {
   "cell_type": "code",
   "execution_count": 3,
   "metadata": {
    "collapsed": false
   },
   "outputs": [
    {
     "ename": "TypeError",
     "evalue": "Can't instantiate abstract class Super with abstract methods method",
     "output_type": "error",
     "traceback": [
      "\u001b[1;31m---------------------------------------------------------------------------\u001b[0m",
      "\u001b[1;31mTypeError\u001b[0m                                 Traceback (most recent call last)",
      "\u001b[1;32m<ipython-input-3-67c6af91a816>\u001b[0m in \u001b[0;36m<module>\u001b[1;34m()\u001b[0m\n\u001b[0;32m      6\u001b[0m         \u001b[1;32mpass\u001b[0m\u001b[1;33m\u001b[0m\u001b[0m\n\u001b[0;32m      7\u001b[0m \u001b[1;33m\u001b[0m\u001b[0m\n\u001b[1;32m----> 8\u001b[1;33m \u001b[0mx\u001b[0m \u001b[1;33m=\u001b[0m \u001b[0mSuper\u001b[0m\u001b[1;33m(\u001b[0m\u001b[1;33m)\u001b[0m\u001b[1;33m\u001b[0m\u001b[0m\n\u001b[0m",
      "\u001b[1;31mTypeError\u001b[0m: Can't instantiate abstract class Super with abstract methods method"
     ]
    }
   ],
   "source": [
    "from abc import ABCMeta, abstractmethod\n",
    "\n",
    "\n",
    "class Super(metaclass=ABCMeta):\n",
    "    @abstractmethod\n",
    "    def method(self):\n",
    "        pass\n",
    "\n",
    "\n",
    "x = Super()"
   ]
  },
  {
   "cell_type": "code",
   "execution_count": 4,
   "metadata": {
    "collapsed": false
   },
   "outputs": [
    {
     "ename": "TypeError",
     "evalue": "Can't instantiate abstract class Sub1 with abstract methods method",
     "output_type": "error",
     "traceback": [
      "\u001b[1;31m---------------------------------------------------------------------------\u001b[0m",
      "\u001b[1;31mTypeError\u001b[0m                                 Traceback (most recent call last)",
      "\u001b[1;32m<ipython-input-4-f9d818c9490c>\u001b[0m in \u001b[0;36m<module>\u001b[1;34m()\u001b[0m\n\u001b[0;32m      3\u001b[0m     \u001b[1;32mpass\u001b[0m\u001b[1;33m\u001b[0m\u001b[0m\n\u001b[0;32m      4\u001b[0m \u001b[1;33m\u001b[0m\u001b[0m\n\u001b[1;32m----> 5\u001b[1;33m \u001b[0mx\u001b[0m \u001b[1;33m=\u001b[0m \u001b[0mSub1\u001b[0m\u001b[1;33m(\u001b[0m\u001b[1;33m)\u001b[0m\u001b[1;33m\u001b[0m\u001b[0m\n\u001b[0m",
      "\u001b[1;31mTypeError\u001b[0m: Can't instantiate abstract class Sub1 with abstract methods method"
     ]
    }
   ],
   "source": [
    "# method must be implemented\n",
    "class Sub1(Super):\n",
    "    pass\n",
    "\n",
    "\n",
    "x = Sub1()"
   ]
  },
  {
   "cell_type": "code",
   "execution_count": 5,
   "metadata": {
    "collapsed": false
   },
   "outputs": [
    {
     "ename": "NameError",
     "evalue": "name 'Sub' is not defined",
     "output_type": "error",
     "traceback": [
      "\u001b[1;31m---------------------------------------------------------------------------\u001b[0m",
      "\u001b[1;31mNameError\u001b[0m                                 Traceback (most recent call last)",
      "\u001b[1;32m<ipython-input-5-e5e7f2357b6c>\u001b[0m in \u001b[0;36m<module>\u001b[1;34m()\u001b[0m\n\u001b[0;32m      3\u001b[0m         \u001b[0mprint\u001b[0m\u001b[1;33m(\u001b[0m\u001b[0mnum\u001b[0m\u001b[1;33m)\u001b[0m\u001b[1;33m\u001b[0m\u001b[0m\n\u001b[0;32m      4\u001b[0m \u001b[1;33m\u001b[0m\u001b[0m\n\u001b[1;32m----> 5\u001b[1;33m \u001b[0mx\u001b[0m \u001b[1;33m=\u001b[0m \u001b[0mSub\u001b[0m\u001b[1;33m(\u001b[0m\u001b[1;33m)\u001b[0m\u001b[1;33m\u001b[0m\u001b[0m\n\u001b[0m\u001b[0;32m      6\u001b[0m \u001b[0mx\u001b[0m\u001b[1;33m.\u001b[0m\u001b[0mmethod\u001b[0m\u001b[1;33m(\u001b[0m\u001b[1;36m1\u001b[0m\u001b[1;33m)\u001b[0m\u001b[1;33m\u001b[0m\u001b[0m\n",
      "\u001b[1;31mNameError\u001b[0m: name 'Sub' is not defined"
     ]
    }
   ],
   "source": [
    "class Sub2(Super):\n",
    "    def method(self, num):\n",
    "        print(num)\n",
    "\n",
    "\n",
    "x = Sub()\n",
    "x.method(1)"
   ]
  },
  {
   "cell_type": "markdown",
   "metadata": {},
   "source": [
    "### Python2\n",
    "\n",
    "```python\n",
    "class Super:\n",
    "    __metaclass__ = ABCMeta\n",
    "    @abstractmethod\n",
    "    def method(self):\n",
    "        pass\n",
    "```"
   ]
  },
  {
   "cell_type": "markdown",
   "metadata": {},
   "source": [
    "---"
   ]
  },
  {
   "cell_type": "markdown",
   "metadata": {},
   "source": [
    "# Namespace\n",
    "The lookup rules for simple name never search enclosing **class** (it's still *LEFB* rule, not *CLEGB*)  \n",
    "\n",
    "The following examples shows commom used namespace"
   ]
  },
  {
   "cell_type": "code",
   "execution_count": 7,
   "metadata": {
    "collapsed": false
   },
   "outputs": [
    {
     "name": "stdout",
     "output_type": "stream",
     "text": [
      "11\n"
     ]
    }
   ],
   "source": [
    "x = 11  # global\n",
    "\n",
    "\n",
    "def f():\n",
    "    print(x)  # global\n",
    "\n",
    "\n",
    "def g():\n",
    "    x = 22  # local to g()\n",
    "    print(x)  # local to g()\n",
    "\n",
    "\n",
    "class C:\n",
    "    x = 33  # class attributes\n",
    "\n",
    "    def m(self):\n",
    "        x = 44  # local to m(self)\n",
    "        self.x = 55  # instance attribute\n",
    "\n",
    "    def m2(self):\n",
    "        print(x)\n",
    "\n",
    "\n",
    "if __name__ == \"__main__\":\n",
    "    c = C()\n",
    "    c.m2()"
   ]
  },
  {
   "cell_type": "markdown",
   "metadata": {},
   "source": [
    "In the above exmaple, code in the main shows that the enclosing **class** is not looked up"
   ]
  }
 ],
 "metadata": {
  "kernelspec": {
   "display_name": "Python 3",
   "language": "python",
   "name": "python3"
  },
  "language_info": {
   "codemirror_mode": {
    "name": "ipython",
    "version": 3
   },
   "file_extension": ".py",
   "mimetype": "text/x-python",
   "name": "python",
   "nbconvert_exporter": "python",
   "pygments_lexer": "ipython3",
   "version": "3.4.3"
  }
 },
 "nbformat": 4,
 "nbformat_minor": 0
}
