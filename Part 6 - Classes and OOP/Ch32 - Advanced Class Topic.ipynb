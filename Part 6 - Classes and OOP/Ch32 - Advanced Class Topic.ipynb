{
 "cells": [
  {
   "cell_type": "markdown",
   "metadata": {},
   "source": [
    "# Extending Types by Subclassing\n",
    "Allows you to customize or extend the behavior of built-in types with user-defined class"
   ]
  },
  {
   "cell_type": "code",
   "execution_count": 3,
   "metadata": {
    "collapsed": false
   },
   "outputs": [
    {
     "name": "stdout",
     "output_type": "stream",
     "text": [
      "Content: \n",
      "[1, 2, 3]\n"
     ]
    }
   ],
   "source": [
    "class MyList(list):\n",
    "    def __str__(self):\n",
    "        print('Content: ')\n",
    "        return list.__str__(self)\n",
    "    \n",
    "ml = MyList([1, 2, 3])\n",
    "print(ml)"
   ]
  },
  {
   "cell_type": "markdown",
   "metadata": {},
   "source": [
    "# The \"New Style\" Class Model\n",
    "\n",
    "- In Python3, all classes are \"new style\"\n",
    "- In Python2, only explicitly inheritence from object would be regarded as \"new style\"\n",
    "\n",
    "## New-Style Class Changes\n",
    "- Attribute fetch for built-ins: instance skipped\n",
    "- Classes and types are merged\n",
    "- Automatic object root class\n",
    "- Inheritance search order: MRO and diamonds\n",
    "- Inheritance algorithm: Ch40\n",
    "- New advanced tools\n",
    "\n"
   ]
  },
  {
   "cell_type": "markdown",
   "metadata": {},
   "source": [
    "### Attribute fetch for built-ins: instance skipped\n",
    "- **`__getattr__`**, **`__getattribute__`** can no longer be called by other built-in operations for **`__X__`**\n",
    "- The search for such names begins at classes, not instances\n",
    "- However these name can still be called by explicit name.\n"
   ]
  },
  {
   "cell_type": "markdown",
   "metadata": {},
   "source": [
    "\n",
    "### Classes and types merges\n",
    "**type(I)** return the class an instance is made from, instead of generic instance type\n",
    "\n",
    "### Automatic object root class\n",
    "A small set of default operator overloading method (e.g. `__repr__`)\n",
    "\n",
    "### Inheritance search order: MRO and diamonds\n",
    "MRO search order for diamond class tree\n",
    "\n",
    "### Inhertitance algorithm\n",
    "Will be mentioned in Ch40\n",
    "\n",
    "### New advanced tools\n",
    "- slot\n",
    "- property\n",
    "- descriptor\n",
    "- super\n",
    "- `__getattribute__`"
   ]
  }
 ],
 "metadata": {
  "kernelspec": {
   "display_name": "Python 3",
   "language": "python",
   "name": "python3"
  },
  "language_info": {
   "codemirror_mode": {
    "name": "ipython",
    "version": 3
   },
   "file_extension": ".py",
   "mimetype": "text/x-python",
   "name": "python",
   "nbconvert_exporter": "python",
   "pygments_lexer": "ipython3",
   "version": "3.4.3"
  }
 },
 "nbformat": 4,
 "nbformat_minor": 0
}
