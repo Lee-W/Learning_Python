{
 "cells": [
  {
   "cell_type": "markdown",
   "metadata": {},
   "source": [
    "# OOP\n",
    "\n",
    "## Basic Concept\n",
    "1. Instance Creataion\n",
    "2. Behavior Methods: Encapsulating logic in a class's methods\n",
    "3. Operator Overloading\n",
    "4. Customizing Behavior\n",
    "5. Customizing Constructors\n",
    "\n",
    "## OOP Operations\n",
    "1. Inherit\n",
    "2. Cutomzie\n",
    "3. Extend\n",
    "\n",
    "In OOP, we program by customizing, rather than copying or changing existing code.  \n",
    "*Anytime you copy code with cut and past, you dobule your maintnance effort in the future*"
   ]
  },
  {
   "cell_type": "code",
   "execution_count": 1,
   "metadata": {
    "collapsed": true
   },
   "outputs": [],
   "source": [
    "class Person(object):\n",
    "    def last_name(self):\n",
    "        pass\n",
    "    def give_raise(self):\n",
    "        pass\n",
    "    def __repr__(self):\n",
    "        pass\n",
    "    \n",
    "class Manager(Person):                  # Inherit\n",
    "    def give_raise(self, bouns=.10):    # Customize\n",
    "        pass\n",
    "    def manage(self):                   # Extend\n",
    "        pass"
   ]
  },
  {
   "cell_type": "markdown",
   "metadata": {},
   "source": [
    "## Customizing Befavior by Subclassing\n",
    "\n",
    "### Example"
   ]
  },
  {
   "cell_type": "code",
   "execution_count": 2,
   "metadata": {
    "collapsed": true
   },
   "outputs": [],
   "source": [
    "class Person(object):\n",
    "    def __init__(self, name, job=None, pay=0):\n",
    "        self.name = name\n",
    "        self.job = job\n",
    "        self.pay = pay\n",
    "        \n",
    "    def last_name(self):\n",
    "        return self.name.split()[-1]\n",
    "    \n",
    "    def give_raise(self, percent):\n",
    "        self.pay = int(self.pay * (1 + percent))"
   ]
  },
  {
   "cell_type": "markdown",
   "metadata": {},
   "source": [
    "#### The Bad Way"
   ]
  },
  {
   "cell_type": "code",
   "execution_count": 3,
   "metadata": {
    "collapsed": true
   },
   "outputs": [],
   "source": [
    "# Simply Copy paste the code\n",
    "class Manager(Person):      \n",
    "    def give_raise(self, percent, bouns=.10):\n",
    "        self.pay = int(self.pay * (1 + percent + bouns))"
   ]
  },
  {
   "cell_type": "markdown",
   "metadata": {},
   "source": [
    "#### The Good Way"
   ]
  },
  {
   "cell_type": "code",
   "execution_count": 4,
   "metadata": {
    "collapsed": true
   },
   "outputs": [],
   "source": [
    "# Use the pre-defined give_raise in Person\n",
    "class Manager(Person):\n",
    "    def give_raise(self, percent, bouns=.10):\n",
    "        Person.giveRaise(self, percent + bouns)"
   ]
  },
  {
   "cell_type": "markdown",
   "metadata": {},
   "source": [
    "## `__init__` Can Be Customzied Too"
   ]
  },
  {
   "cell_type": "code",
   "execution_count": 5,
   "metadata": {
    "collapsed": true
   },
   "outputs": [],
   "source": [
    "class Person(object):\n",
    "    def __init__(self, name, job=None, pay=0):\n",
    "        self.name= name\n",
    "        self.job = job\n",
    "        self.pay = pay\n",
    "        \n",
    "class Manager(Person):\n",
    "    def __init__(self, name, pay):\n",
    "        Person.__init__(self, name, 'mgr', pay)"
   ]
  },
  {
   "cell_type": "markdown",
   "metadata": {},
   "source": [
    "## Built-in Attributes in Python3\n",
    "Delegation-based new-style classes might need to redefine operator overloading methods to delegate them to wrapped objects.  \n",
    "This would be revisited in Ch31 and Ch32\n",
    "\n",
    "### Explicit\n",
    "Explicit by-name attribute fetches are always routed to the instance first in both model.  \n",
    "\n",
    "### Implicit\n",
    "In Python3 new-style classes, built-in operations start implicit attribute fetches from **class** and skip the **instance** entirely.  \n",
    "In Python2 classic classes, they start it from **instance**."
   ]
  },
  {
   "cell_type": "markdown",
   "metadata": {},
   "source": [
    "## Inheritance vs Composition\n",
    "- Inheritance is best at coding extensions based on direct customization\n",
    "- Composition is well suited to where multiple objects are aggregated into a whole and driected by a controller layer class \n",
    "But they are not mutually exclusive"
   ]
  },
  {
   "cell_type": "markdown",
   "metadata": {},
   "source": [
    "## Introspection Tools\n",
    "Special attributes and functions that can some of the internals of objects' implementaions  \n",
    "Mostly used by people writing tools for other programers.\n",
    "\n",
    "e.g.\n",
    "- **`instance.__class__`** provides a link from an instance to the class fro which it was created.\n",
    "- **`object.__dict__`** provides a dict for every attribute attached to a namespace objectb"
   ]
  },
  {
   "cell_type": "code",
   "execution_count": 6,
   "metadata": {
    "collapsed": false
   },
   "outputs": [
    {
     "data": {
      "text/plain": [
       "__main__.Person"
      ]
     },
     "execution_count": 6,
     "metadata": {},
     "output_type": "execute_result"
    }
   ],
   "source": [
    "bob = Person('bob', 'engineer', 10000)\n",
    "bob.__class__"
   ]
  },
  {
   "cell_type": "code",
   "execution_count": 11,
   "metadata": {
    "collapsed": false
   },
   "outputs": [
    {
     "data": {
      "text/plain": [
       "'Person'"
      ]
     },
     "execution_count": 11,
     "metadata": {},
     "output_type": "execute_result"
    }
   ],
   "source": [
    "bob.__class__.__name__"
   ]
  },
  {
   "cell_type": "markdown",
   "metadata": {},
   "source": [
    "### dir vs __dict__"
   ]
  },
  {
   "cell_type": "code",
   "execution_count": 7,
   "metadata": {
    "collapsed": false
   },
   "outputs": [
    {
     "data": {
      "text/plain": [
       "dict_keys(['__doc__', '__module__', '__dict__', '__init__', '__weakref__'])"
      ]
     },
     "execution_count": 7,
     "metadata": {},
     "output_type": "execute_result"
    }
   ],
   "source": [
    "Person.__dict__.keys()"
   ]
  },
  {
   "cell_type": "code",
   "execution_count": 8,
   "metadata": {
    "collapsed": false
   },
   "outputs": [
    {
     "data": {
      "text/plain": [
       "['__class__',\n",
       " '__delattr__',\n",
       " '__dict__',\n",
       " '__dir__',\n",
       " '__doc__',\n",
       " '__eq__',\n",
       " '__format__',\n",
       " '__ge__',\n",
       " '__getattribute__',\n",
       " '__gt__',\n",
       " '__hash__',\n",
       " '__init__',\n",
       " '__le__',\n",
       " '__lt__',\n",
       " '__module__',\n",
       " '__ne__',\n",
       " '__new__',\n",
       " '__reduce__',\n",
       " '__reduce_ex__',\n",
       " '__repr__',\n",
       " '__setattr__',\n",
       " '__sizeof__',\n",
       " '__str__',\n",
       " '__subclasshook__',\n",
       " '__weakref__']"
      ]
     },
     "execution_count": 8,
     "metadata": {},
     "output_type": "execute_result"
    }
   ],
   "source": [
    "dir(Person)"
   ]
  },
  {
   "cell_type": "markdown",
   "metadata": {},
   "source": [
    "**dir** returns more in Python3 because classes are all \"new style \" and inherit a large set of operator overloading"
   ]
  },
  {
   "cell_type": "markdown",
   "metadata": {},
   "source": [
    "### Avoid Name Collision\n",
    "\n",
    "- **`_method`** (single underscore): Not meant for external use (but still can)\n",
    "- **`__method`** (double underscore): Python automatically expands such names to include the enclosing class's name and thus they are truly unique (pseudoprivate class attributes)"
   ]
  },
  {
   "cell_type": "markdown",
   "metadata": {},
   "source": [
    "---"
   ]
  },
  {
   "cell_type": "markdown",
   "metadata": {},
   "source": [
    "# Storing Object in Database\n",
    "\n",
    "Standard libraires that support storing\n",
    "- pickle\n",
    "    - Serializes arbitrary Python objects to and from a string of bytes\n",
    "- dbm (anydbm in Python2)\n",
    "    - Implements an access-by-key filesystem for storing strings\n",
    "- shelve\n",
    "    - Uses the other two modules to store Python objects on a file by key\n",
    "   \n",
    "## shelve\n",
    "- **shelve** translates an object to pickled string with **pickle** and stores that string under a key in a **dbm** file  \n",
    "- Shelves atuomatically map dict operations to objects stored in a file  \n",
    "    - The only different between dict and shelve are that you must **open** shelves and **close** them after making changes"
   ]
  },
  {
   "cell_type": "code",
   "execution_count": 9,
   "metadata": {
    "collapsed": true
   },
   "outputs": [],
   "source": [
    "# Wrtie\n",
    "\n",
    "import shelve\n",
    "\n",
    "L = [1, 2, 3, 4, 5]\n",
    "\n",
    "db = shelve.open('shelve_sample')\n",
    "db['L'] = L\n",
    "db.close()"
   ]
  },
  {
   "cell_type": "code",
   "execution_count": 10,
   "metadata": {
    "collapsed": false
   },
   "outputs": [],
   "source": [
    "# Read\n",
    "import shelve\n",
    "loaded_db = shelve.open('shelve_sample')\n",
    "loaded_db['L']\n",
    "\n",
    "# Update\n",
    "loaded_db['L'] = 'L'\n",
    "loaded_db.close()"
   ]
  },
  {
   "cell_type": "markdown",
   "metadata": {},
   "source": [
    "Python pickles a class instance, it records its self instance attributes, along with the name of the class it was created from and the module where the class lives  \n",
    "We have to import our classes only when making new instances, not to process existing ones.\n",
    "\n",
    "- Downside\n",
    "    - classes adn their modules's files must be importable when an instance is later loaded\n",
    "    - pickable classes must be coded at the top level of a module file accessible from a directory listed on the **sys.path** module search path\n",
    "- Upside\n",
    "    - changes in a class's source code file are automatically picked up when instances of the class are loaded again"
   ]
  }
 ],
 "metadata": {
  "kernelspec": {
   "display_name": "Python 3",
   "language": "python",
   "name": "python3"
  },
  "language_info": {
   "codemirror_mode": {
    "name": "ipython",
    "version": 3
   },
   "file_extension": ".py",
   "mimetype": "text/x-python",
   "name": "python",
   "nbconvert_exporter": "python",
   "pygments_lexer": "ipython3",
   "version": "3.4.3"
  }
 },
 "nbformat": 4,
 "nbformat_minor": 0
}
