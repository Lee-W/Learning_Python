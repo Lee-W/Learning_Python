{
 "cells": [
  {
   "cell_type": "markdown",
   "metadata": {},
   "source": [
    "# Python and OOP\n",
    "- Inheritance: Attritube lookup (**X.name**)\n",
    "- Polymorphism: In **X.method**, the meaning of **method** depends on the class of **X**.\n",
    "- Encapsulation: method and operator implementation\n",
    "\n",
    "## Polymorphism\n",
    "Polymorphism in Python is based on object interface  \n",
    "In C++, you might try to overload methods by their argument"
   ]
  },
  {
   "cell_type": "code",
   "execution_count": 1,
   "metadata": {
    "collapsed": false
   },
   "outputs": [
    {
     "ename": "TypeError",
     "evalue": "method() missing 1 required positional argument: 'y'",
     "output_type": "error",
     "traceback": [
      "\u001b[1;31m---------------------------------------------------------------------------\u001b[0m",
      "\u001b[1;31mTypeError\u001b[0m                                 Traceback (most recent call last)",
      "\u001b[1;32m<ipython-input-1-ede2cb807f62>\u001b[0m in \u001b[0;36m<module>\u001b[1;34m()\u001b[0m\n\u001b[0;32m      6\u001b[0m \u001b[1;33m\u001b[0m\u001b[0m\n\u001b[0;32m      7\u001b[0m \u001b[0mc\u001b[0m \u001b[1;33m=\u001b[0m \u001b[0mC\u001b[0m\u001b[1;33m(\u001b[0m\u001b[1;33m)\u001b[0m\u001b[1;33m\u001b[0m\u001b[0m\n\u001b[1;32m----> 8\u001b[1;33m \u001b[0mc\u001b[0m\u001b[1;33m.\u001b[0m\u001b[0mmethod\u001b[0m\u001b[1;33m(\u001b[0m\u001b[1;36m1\u001b[0m\u001b[1;33m)\u001b[0m\u001b[1;33m\u001b[0m\u001b[0m\n\u001b[0m",
      "\u001b[1;31mTypeError\u001b[0m: method() missing 1 required positional argument: 'y'"
     ]
    }
   ],
   "source": [
    "class C(object):\n",
    "    def method(self, x):\n",
    "        print(x)\n",
    "    def method(self, x, y):\n",
    "        print(x, y)\n",
    "        \n",
    "c = C()\n",
    "c.method(1)"
   ]
  },
  {
   "cell_type": "markdown",
   "metadata": {},
   "source": [
    "However, it doesn't work in Python.  \n",
    "Only the last definition will be retained.  \n",
    "There can be only one definition of a method name"
   ]
  },
  {
   "cell_type": "markdown",
   "metadata": {},
   "source": [
    "## Compostion\n",
    "Embedding other objects in a container object, and activating them to implement container methods.  \n",
    "\n",
    "## Delegation\n",
    "A special form of composition, with a single embedded object managed by a wrapper class that retains most or all the embedded object's interface  \n",
    "Often implemented with **`__getattr__`**  "
   ]
  },
  {
   "cell_type": "code",
   "execution_count": 2,
   "metadata": {
    "collapsed": false
   },
   "outputs": [
    {
     "name": "stdout",
     "output_type": "stream",
     "text": [
      "Trace: append\n"
     ]
    }
   ],
   "source": [
    "class Wrapper(object):\n",
    "    def __init__(self, obj):\n",
    "        self.wrapped = obj\n",
    "    def __getattr__(self, attrname):\n",
    "        print('Trace: '+attrname)\n",
    "        # getattr(x, n) works like x.__dict__[n] except that it does an inheritnace search\n",
    "        return getattr(self.wrapped, attrname)\n",
    "    \n",
    "x = Wrapper([1, 2, 3])\n",
    "x.append(4)"
   ]
  },
  {
   "cell_type": "code",
   "execution_count": 3,
   "metadata": {
    "collapsed": false
   },
   "outputs": [
    {
     "data": {
      "text/plain": [
       "[1, 2, 3, 4]"
      ]
     },
     "execution_count": 3,
     "metadata": {},
     "output_type": "execute_result"
    }
   ],
   "source": [
    "x.wrapped"
   ]
  },
  {
   "cell_type": "markdown",
   "metadata": {},
   "source": [
    "## Pseudoprivate Class Attributes (Mangled names)\n",
    "Names that start with two underscores but don't end with two underscoress (**__X**)  \n",
    "They're automatatically expanded to include the name of the enclosing class at their front.  (e.g. **`__X`** in **Spam** class-> **`_Spam__X`**)  "
   ]
  },
  {
   "cell_type": "code",
   "execution_count": 4,
   "metadata": {
    "collapsed": false
   },
   "outputs": [
    {
     "ename": "AttributeError",
     "evalue": "'C' object has no attribute '__print_value'",
     "output_type": "error",
     "traceback": [
      "\u001b[1;31m---------------------------------------------------------------------------\u001b[0m",
      "\u001b[1;31mAttributeError\u001b[0m                            Traceback (most recent call last)",
      "\u001b[1;32m<ipython-input-4-d589a1da7406>\u001b[0m in \u001b[0;36m<module>\u001b[1;34m()\u001b[0m\n\u001b[0;32m      4\u001b[0m \u001b[1;33m\u001b[0m\u001b[0m\n\u001b[0;32m      5\u001b[0m \u001b[0mc\u001b[0m \u001b[1;33m=\u001b[0m \u001b[0mC\u001b[0m\u001b[1;33m(\u001b[0m\u001b[1;33m)\u001b[0m\u001b[1;33m\u001b[0m\u001b[0m\n\u001b[1;32m----> 6\u001b[1;33m \u001b[0mc\u001b[0m\u001b[1;33m.\u001b[0m\u001b[0m__print_value\u001b[0m\u001b[1;33m(\u001b[0m\u001b[1;36m1\u001b[0m\u001b[1;33m)\u001b[0m\u001b[1;33m\u001b[0m\u001b[0m\n\u001b[0m",
      "\u001b[1;31mAttributeError\u001b[0m: 'C' object has no attribute '__print_value'"
     ]
    }
   ],
   "source": [
    "class C(object):\n",
    "    def __print_value(self, x):\n",
    "        print(x)\n",
    "\n",
    "c = C()\n",
    "c.__print_value(1)"
   ]
  },
  {
   "cell_type": "code",
   "execution_count": 5,
   "metadata": {
    "collapsed": false
   },
   "outputs": [
    {
     "name": "stdout",
     "output_type": "stream",
     "text": [
      "1\n"
     ]
    }
   ],
   "source": [
    "# These attribute can still be referenced\n",
    "\n",
    "c._C__print_value(1)"
   ]
  },
  {
   "cell_type": "markdown",
   "metadata": {},
   "source": [
    "- Works for both class attributes (including method names) and instnace attribute names assigned to **self**  \n",
    "- Mangled names are sometimes misleadingly called \"private attributes\", but this is just a way to localize a name to the class that created it. It does not prevent access by code outside the class\n",
    "- Avoid namespace collisions but not to restrict access\n",
    "\n",
    "- Usage\n",
    "    - Larger frameworks\n",
    "    - Method that is intended for use only within a class that may be mixed into other classes (especially usefule in multiple inhertiance)\n",
    "    \n",
    "Although it's possible to emulate true access controls in Python classses, this is rarely done in practive, even for large systems"
   ]
  },
  {
   "cell_type": "markdown",
   "metadata": {},
   "source": [
    "## Methods Are Objects"
   ]
  },
  {
   "cell_type": "code",
   "execution_count": 6,
   "metadata": {
    "collapsed": true
   },
   "outputs": [],
   "source": [
    "class Spam(object):\n",
    "    def doit(self, message):\n",
    "        print(message)"
   ]
  },
  {
   "cell_type": "markdown",
   "metadata": {},
   "source": [
    "- Unbound (class) method objects: without self\n",
    "    - Accessing a function attribute by qualifying the class"
   ]
  },
  {
   "cell_type": "code",
   "execution_count": 7,
   "metadata": {
    "collapsed": false
   },
   "outputs": [
    {
     "name": "stdout",
     "output_type": "stream",
     "text": [
      "Unbound\n"
     ]
    }
   ],
   "source": [
    "obj = Spam()\n",
    "t = Spam.doit         # a pure function in Python3\n",
    "t(obj, 'Unbound')"
   ]
  },
  {
   "cell_type": "markdown",
   "metadata": {},
   "source": [
    "- Bound (instance) method object: self + function paris\n",
    "    - Accessing a function attribute in a class by qualifying an instance"
   ]
  },
  {
   "cell_type": "code",
   "execution_count": 8,
   "metadata": {
    "collapsed": false
   },
   "outputs": [
    {
     "name": "stdout",
     "output_type": "stream",
     "text": [
      "Bounded\n"
     ]
    }
   ],
   "source": [
    "obj = Spam()\n",
    "x = obj.doit           # instance + function\n",
    "x('Bounded')  "
   ]
  },
  {
   "cell_type": "markdown",
   "metadata": {},
   "source": [
    "### Unbound Methods in Python3\n",
    "- In Pytonh3 it' OK to call a method without an instance\n",
    "- Call it only throught the class and never through an instnace  \n",
    "- Python3 passes along an instance to methods only for throught-instance calls"
   ]
  },
  {
   "cell_type": "code",
   "execution_count": 10,
   "metadata": {
    "collapsed": false
   },
   "outputs": [
    {
     "data": {
      "text/plain": [
       "5"
      ]
     },
     "execution_count": 10,
     "metadata": {},
     "output_type": "execute_result"
    }
   ],
   "source": [
    "class Selfless(object):\n",
    "    def __init__(self, data):\n",
    "        self.data = data\n",
    "    def selfless(arg1, arg2):\n",
    "        return arg1 + arg2\n",
    "    def normal(self, arg1, arg2):\n",
    "        return self.data + arg1 + arg2\n",
    "    \n",
    "x = Selfless(2)\n",
    "\n",
    "x.normal(1, 2)"
   ]
  },
  {
   "cell_type": "code",
   "execution_count": 9,
   "metadata": {
    "collapsed": false
   },
   "outputs": [
    {
     "ename": "NameError",
     "evalue": "name 'Selfless' is not defined",
     "output_type": "error",
     "traceback": [
      "\u001b[1;31m---------------------------------------------------------------------------\u001b[0m",
      "\u001b[1;31mNameError\u001b[0m                                 Traceback (most recent call last)",
      "\u001b[1;32m<ipython-input-9-639b163d47c3>\u001b[0m in \u001b[0;36m<module>\u001b[1;34m()\u001b[0m\n\u001b[1;32m----> 1\u001b[1;33m \u001b[0mSelfless\u001b[0m\u001b[1;33m.\u001b[0m\u001b[0mselfless\u001b[0m\u001b[1;33m(\u001b[0m\u001b[1;36m1\u001b[0m\u001b[1;33m,\u001b[0m \u001b[1;36m2\u001b[0m\u001b[1;33m)\u001b[0m\u001b[1;33m\u001b[0m\u001b[0m\n\u001b[0m",
      "\u001b[1;31mNameError\u001b[0m: name 'Selfless' is not defined"
     ]
    }
   ],
   "source": [
    "Selfless.selfless(1, 2)"
   ]
  },
  {
   "cell_type": "markdown",
   "metadata": {},
   "source": [
    "Because of this change, the **staticmethod** built-in function and decorator is not needed in Python3 for methods without a **self** argument."
   ]
  },
  {
   "cell_type": "markdown",
   "metadata": {},
   "source": [
    "## Generic Object Factories\n",
    "Sometimes, class-based designs require objects to be created in response to conditions that can't be predicted when a program is written  \n",
    "Factories can be a major undertaking in a strongly typed language such as C++ but are almost trivial to implement in Python  \n",
    "Factory might allow code to be insulated from the details of dynamically configured object construction"
   ]
  },
  {
   "cell_type": "code",
   "execution_count": 11,
   "metadata": {
    "collapsed": false
   },
   "outputs": [
    {
     "name": "stdout",
     "output_type": "stream",
     "text": [
      "<__main__.Spam object at 0x0334FC10>\n",
      "<__main__.Person object at 0x0334FC30>\n"
     ]
    }
   ],
   "source": [
    "def factory(aClass, *pargs, **kargs):\n",
    "    return aClass(*pargs, **kargs)\n",
    "\n",
    "class Spam(object):\n",
    "    def doit(self, message):\n",
    "        print(message)\n",
    "    \n",
    "class Person:\n",
    "    def __init__(self, name, job=None):\n",
    "        self.name = name\n",
    "        self.job = job\n",
    "        \n",
    "obj1 = factory(Spam)\n",
    "obj2 = factory(Person, 'Bob')\n",
    "print(obj1)\n",
    "print(obj2)"
   ]
  },
  {
   "cell_type": "markdown",
   "metadata": {},
   "source": [
    "## Multiple Inheritance: \"Mix-in\" Classes\n",
    "- Pros: Objects obtain the union of the behavior in all their superclasses\n",
    "- Cons: It can pose a conflict whne the same method  \n",
    "\n",
    "\n",
    "- Most commonly used in \"mix in \" general purpose methods from superclasses  \n",
    "- Besides the utility, mix-ins optimize code maintenance since only one change needs to be made\n",
    "\n",
    "### Attribute Searching\n",
    "Traverses all superclasses in the class header from left to right until a match is found\n",
    "\n",
    "#### DFLR vs MRO\n",
    "- In classic classes (DFLR: Depth-Fisrt, Left to Right)\n",
    "    - Depth first all the way to the top of ineritance tree for all cases\n",
    "- In new-style classes (MRO: Method Resolution Order)\n",
    "    - The same as DFLR in normal cases\n",
    "    - In Dimond Patterns (multiple classes in a tree share a common superclass)\n",
    "        - Proceed across by tree levels before moving up (more like breadth-first)\n",
    "        - Designed to visit such a shared superclass just once, and after all its subclasses. \n",
    "\n",
    "#### Default vs Explicit\n",
    "- Default(**self.method()**)\n",
    "    - Chooses the first occurrence of an attribute\n",
    "- Explicit(**superclass.method(self)**)\n",
    "    - Explicitly reference the method in superclass\n",
    "    - It can break the conflict and overrides the search's default"
   ]
  },
  {
   "cell_type": "markdown",
   "metadata": {},
   "source": [
    "### Collector Module\n",
    "To make importing tools even easier, we can provide a collector module that combines them in a single namespace\n",
    "\n",
    "```Python\n",
    "# lister.py\n",
    "from listinstance import ListInstance\n",
    "from listinherited import ListInherited\n",
    "from listtree import ListTree\n",
    "\n",
    "Lister = ListTree\n",
    "```\n",
    "\n",
    "\n",
    "---\n",
    "```Python\n",
    "# uselister.py\n",
    "import lister\n",
    "lister.Lister\n",
    "\n",
    "```"
   ]
  },
  {
   "cell_type": "markdown",
   "metadata": {},
   "source": [
    "## Virtual Data\n",
    "In Python classes, some names associated with instance data may not be stored at the instance itself.  \n",
    "(e.g. new-style properties, slots, descriptors and attribute computed in tools like **`__getattr__`**)  \n",
    "None of these \"Virtual\"  attributes' names are stored in **`__dict__`**\n",
    "\n",
    "Further information will be mention in the next chapter."
   ]
  }
 ],
 "metadata": {
  "kernelspec": {
   "display_name": "Python 3",
   "language": "python",
   "name": "python3"
  },
  "language_info": {
   "codemirror_mode": {
    "name": "ipython",
    "version": 3
   },
   "file_extension": ".py",
   "mimetype": "text/x-python",
   "name": "python",
   "nbconvert_exporter": "python",
   "pygments_lexer": "ipython3",
   "version": "3.4.3"
  }
 },
 "nbformat": 4,
 "nbformat_minor": 0
}
