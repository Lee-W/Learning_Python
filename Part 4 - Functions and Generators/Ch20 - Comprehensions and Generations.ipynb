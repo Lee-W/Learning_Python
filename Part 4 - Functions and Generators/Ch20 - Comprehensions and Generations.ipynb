{
 "cells": [
  {
   "cell_type": "markdown",
   "metadata": {},
   "source": [
    "# Comprehensions\n",
    "```python\n",
    "[ expression for target in iterable]\n",
    "\n",
    "[ expression for target1 in iter1\n",
    "             ...\n",
    "             for targetN in iterN]\n",
    "```\n",
    "\n",
    "## List Comprehensions V.S. map\n",
    "- List comprehension may be more suitable when encountering advanced expressions and often needs less typing  \n",
    "- List comprehensions return a list while map return a iterator (Python3)\n",
    "    - However, list comprehension can also achieve the same memory economy and execution time division by using generator expressions which would be mentioned below.\n",
    "\n",
    "## Don't Abuse List Comprehensions\n",
    "Whenever, map or comprehnsion is used, it should be kept simple, or you should just use full statements  \n",
    "If you have to translate code to statements to understand it, it should probably be statemens in the first place.  \n",
    "Still, simple is better than complex.  \n",
    "  \n",
    "## Performance\n",
    "**map** can be twice as fast as equivalent **for** loops and list comprehensions are often faster than **map**.  \n",
    "\n",
    "## Other Comprehensions\n",
    "### set comprehension\n",
    "```python\n",
    "{f(x) for x in S if P(x)}\n",
    "```\n",
    "### dict comprehension\n",
    "```python\n",
    "{x: f(x) for x in items}\n",
    "```"
   ]
  },
  {
   "cell_type": "code",
   "execution_count": 1,
   "metadata": {},
   "outputs": [
    {
     "data": {
      "text/plain": [
       "[0, 1, 4, 9, 16, 25, 36, 49, 64, 81]"
      ]
     },
     "execution_count": 1,
     "metadata": {},
     "output_type": "execute_result"
    }
   ],
   "source": [
    "# List Comprehension\n",
    "[x ** 2 for x in range(10)]"
   ]
  },
  {
   "cell_type": "code",
   "execution_count": 2,
   "metadata": {},
   "outputs": [
    {
     "data": {
      "text/plain": [
       "<generator object <genexpr> at 0x10ae19af0>"
      ]
     },
     "execution_count": 2,
     "metadata": {},
     "output_type": "execute_result"
    }
   ],
   "source": [
    "# Generator Expression\n",
    "(x ** 2 for x in range(10))"
   ]
  },
  {
   "cell_type": "code",
   "execution_count": 3,
   "metadata": {},
   "outputs": [
    {
     "data": {
      "text/plain": [
       "{0, 1, 4, 9, 16, 25, 36, 49, 64, 81}"
      ]
     },
     "execution_count": 3,
     "metadata": {},
     "output_type": "execute_result"
    }
   ],
   "source": [
    "# Set Comprehension\n",
    "{x ** 2 for x in range(10)}"
   ]
  },
  {
   "cell_type": "code",
   "execution_count": 4,
   "metadata": {},
   "outputs": [
    {
     "data": {
      "text/plain": [
       "{0: 0, 1: 1, 2: 4, 3: 9, 4: 16, 5: 25, 6: 36, 7: 49, 8: 64, 9: 81}"
      ]
     },
     "execution_count": 4,
     "metadata": {},
     "output_type": "execute_result"
    }
   ],
   "source": [
    "# dict comprehension\n",
    "{x: x ** 2 for x in range(10)}"
   ]
  },
  {
   "cell_type": "markdown",
   "metadata": {},
   "source": [
    "### Scope of Comprehhension Variables\n",
    "Python3 localizes loop variables in all the four comprehensions.  \n",
    "This works different with simple **for** loop which don't localize variables.  \n",
    "Python2 works almost the same as Python3, except list comprehension variables are not localized."
   ]
  },
  {
   "cell_type": "code",
   "execution_count": 5,
   "metadata": {},
   "outputs": [
    {
     "name": "stdout",
     "output_type": "stream",
     "text": [
      "abc\n"
     ]
    },
    {
     "ename": "NameError",
     "evalue": "name 'y' is not defined",
     "output_type": "error",
     "traceback": [
      "\u001b[0;31m---------------------------------------------------------------------------\u001b[0m",
      "\u001b[0;31mNameError\u001b[0m                                 Traceback (most recent call last)",
      "\u001b[0;32m<ipython-input-5-c4a205f04c00>\u001b[0m in \u001b[0;36m<module>\u001b[0;34m()\u001b[0m\n\u001b[1;32m      3\u001b[0m \u001b[0;34m\u001b[0m\u001b[0m\n\u001b[1;32m      4\u001b[0m \u001b[0mprint\u001b[0m\u001b[0;34m(\u001b[0m\u001b[0mx\u001b[0m\u001b[0;34m)\u001b[0m      \u001b[0;31m# x is global\u001b[0m\u001b[0;34m\u001b[0m\u001b[0m\n\u001b[0;32m----> 5\u001b[0;31m \u001b[0mprint\u001b[0m\u001b[0;34m(\u001b[0m\u001b[0my\u001b[0m\u001b[0;34m)\u001b[0m      \u001b[0;31m# y is in list comprehension\u001b[0m\u001b[0;34m\u001b[0m\u001b[0m\n\u001b[0m",
      "\u001b[0;31mNameError\u001b[0m: name 'y' is not defined"
     ]
    }
   ],
   "source": [
    "x = 'abc'\n",
    "[y for y in x]\n",
    "\n",
    "print(x)      # x is global\n",
    "print(y)      # y is in list comprehension"
   ]
  },
  {
   "cell_type": "code",
   "execution_count": 6,
   "metadata": {},
   "outputs": [
    {
     "name": "stdout",
     "output_type": "stream",
     "text": [
      "abc\n",
      "c\n"
     ]
    }
   ],
   "source": [
    "%%python2\n",
    "\n",
    "x = 'abc'\n",
    "[y for y in x]\n",
    "\n",
    "print(x)      # x is global\n",
    "print(y)      # y is in list comprehension"
   ]
  },
  {
   "cell_type": "markdown",
   "metadata": {},
   "source": [
    "---"
   ]
  },
  {
   "cell_type": "markdown",
   "metadata": {},
   "source": [
    "# Generator Functions and Expressions\n",
    "- Save memory space\n",
    "- Allow computation time to be split across result requests  \n",
    "\n",
    "They are better in memory usage and performance in **larger programs** and distribute the time to produce the series among loop iterations. Thus, they are sometimes called a poor man's multithreading device.\n",
    "\n",
    "\n",
    "## Generator Functions\n",
    "Normal **def** with **yield** returns a generator\n",
    "\n",
    "Returning results one at a time, suspending and resuming their state between each other.  \n",
    "When created, they are compiled specially into an object that supports the iteration protocol."
   ]
  },
  {
   "cell_type": "code",
   "execution_count": 7,
   "metadata": {},
   "outputs": [
    {
     "name": "stdout",
     "output_type": "stream",
     "text": [
      "0\n",
      "\n",
      "1\n",
      "2\n",
      "3\n",
      "4\n",
      "5\n",
      "6\n",
      "7\n",
      "8\n",
      "9\n"
     ]
    }
   ],
   "source": [
    "def gen_func():\n",
    "    for i in range(10):\n",
    "        yield i\n",
    "        \n",
    "g = gen_func()\n",
    "print(next(g))\n",
    "\n",
    "print()\n",
    "\n",
    "for i in g:\n",
    "    print(i)"
   ]
  },
  {
   "cell_type": "code",
   "execution_count": 8,
   "metadata": {},
   "outputs": [
    {
     "name": "stdout",
     "output_type": "stream",
     "text": [
      "Round: 0\tResult: 1\n",
      "Round: 1\tResult: 2\n",
      "Round: 2\tResult: 1\n",
      "Round: 3\tResult: 2\n",
      "Round: 4\tResult: 1\n",
      "Round: 5\tResult: 2\n",
      "Round: 6\tResult: 1\n",
      "Round: 7\tResult: 2\n",
      "Round: 8\tResult: 1\n",
      "Round: 9\tResult: 2\n",
      "Round: 10\tResult: 1\n",
      "Round: 11\tResult: 2\n",
      "Round: 12\tResult: 1\n",
      "Round: 13\tResult: 2\n",
      "Round: 14\tResult: 1\n",
      "Round: 15\tResult: 2\n",
      "Round: 16\tResult: 1\n",
      "Round: 17\tResult: 2\n",
      "Round: 18\tResult: 1\n",
      "Round: 19\tResult: 2\n"
     ]
    }
   ],
   "source": [
    "# Generator with multiple yield\n",
    "\n",
    "def func():\n",
    "    for i in range(10):\n",
    "        yield 1\n",
    "        yield 2\n",
    "    \n",
    "for index, result in enumerate(func()):\n",
    "    print(\"Round: {}\\tResult: {}\".format(index, result))"
   ]
  },
  {
   "cell_type": "markdown",
   "metadata": {},
   "source": [
    "### Extened generator function protocol: send\n",
    "\n",
    "Send a value into generator to affect its operation.  \n",
    "In the generator, the **yield** expression is replaced by the value sent.  \n",
    "However, it still **yield** the same value"
   ]
  },
  {
   "cell_type": "code",
   "execution_count": 9,
   "metadata": {},
   "outputs": [
    {
     "name": "stdout",
     "output_type": "stream",
     "text": [
      "This is x: 123\n",
      "43\n",
      "This is x: None\n"
     ]
    },
    {
     "data": {
      "text/plain": [
       "44"
      ]
     },
     "execution_count": 9,
     "metadata": {},
     "output_type": "execute_result"
    }
   ],
   "source": [
    "def gen():\n",
    "    for i in range(10):\n",
    "        x = yield i + 42\n",
    "        print(\"This is x: {}\".format(x))\n",
    "        \n",
    "g = gen()\n",
    "next(g)\n",
    "print(g.send(123))\n",
    "next(g)"
   ]
  },
  {
   "cell_type": "markdown",
   "metadata": {},
   "source": [
    "#### Read More About send\n",
    "[python generator “send” function purpose?](http://stackoverflow.com/questions/19302530/python-generator-send-function-purpose)"
   ]
  },
  {
   "cell_type": "markdown",
   "metadata": {},
   "source": [
    "### yield from (Python3.3)\n",
    "In simple use, this is an equivalent to a yielding for loop  \n",
    "In advanced use, it allows subgenerators to receive *sent* and *thrown* values from the calling scope and return to the outer generator"
   ]
  },
  {
   "cell_type": "code",
   "execution_count": 10,
   "metadata": {},
   "outputs": [
    {
     "data": {
      "text/plain": [
       "[0, 1, 2, 3, 4, 5, 6, 7, 8, 9]"
      ]
     },
     "execution_count": 10,
     "metadata": {},
     "output_type": "execute_result"
    }
   ],
   "source": [
    "def gen():\n",
    "    yield from range(10)\n",
    "    \n",
    "list(gen())"
   ]
  },
  {
   "cell_type": "markdown",
   "metadata": {},
   "source": [
    "## Generator Expressions\n",
    "Return an object that produces reults on demand\n",
    "\n",
    "Just like list comprehension, but replacing the enclosed parentheses with square brackets.\n",
    "\n",
    "Note that expressions cannot contain statements just as list comprehension"
   ]
  },
  {
   "cell_type": "code",
   "execution_count": 11,
   "metadata": {},
   "outputs": [
    {
     "data": {
      "text/plain": [
       "<generator object <genexpr> at 0x10ae8d9e8>"
      ]
     },
     "execution_count": 11,
     "metadata": {},
     "output_type": "execute_result"
    }
   ],
   "source": [
    "(x ** 2 for i in range(10))"
   ]
  },
  {
   "cell_type": "markdown",
   "metadata": {},
   "source": [
    "Parenthese are not required around a generator expresion that is sole item that already enclosed in parentheses."
   ]
  },
  {
   "cell_type": "code",
   "execution_count": 12,
   "metadata": {},
   "outputs": [
    {
     "data": {
      "text/plain": [
       "285"
      ]
     },
     "execution_count": 12,
     "metadata": {},
     "output_type": "execute_result"
    }
   ],
   "source": [
    "# optional\n",
    "sum(x ** 2 for x in range(10))\n"
   ]
  },
  {
   "cell_type": "code",
   "execution_count": 13,
   "metadata": {},
   "outputs": [
    {
     "data": {
      "text/plain": [
       "[81, 64, 49, 36, 25, 16, 9, 4, 1, 0]"
      ]
     },
     "execution_count": 13,
     "metadata": {},
     "output_type": "execute_result"
    }
   ],
   "source": [
    "# required\n",
    "sorted((x ** 2 for x in range(10)), reverse=True)"
   ]
  },
  {
   "cell_type": "markdown",
   "metadata": {},
   "source": [
    "### Why generator expression?\n",
    "- memory-space optimization\n",
    "- time division\n",
    "\n",
    "However, it may run slightly slower than list comprehensions in not so large cases.\n",
    "\n",
    "#### map v.s. generator expression\n",
    "**map** loses simplicity when the operation being applied is not a call"
   ]
  },
  {
   "cell_type": "markdown",
   "metadata": {},
   "source": [
    "## Generators Are Single-Iterarion Objects\n",
    "Both generator functions and generator expressions are single iteration objects.  \n",
    "Even if they are assign with multiple iterator, they will all point to the same position"
   ]
  },
  {
   "cell_type": "code",
   "execution_count": 14,
   "metadata": {},
   "outputs": [
    {
     "name": "stdout",
     "output_type": "stream",
     "text": [
      "This is it1 : 0\n",
      "This is it2 : 1\n"
     ]
    }
   ],
   "source": [
    "g = (x ** 2 for x in range(10))\n",
    "\n",
    "it1 = iter(g)\n",
    "it2 = iter(g)\n",
    "\n",
    "print(\"This is it1 : {}\".format(next(it1)))\n",
    "print(\"This is it2 : {}\".format(next(it2)))"
   ]
  },
  {
   "cell_type": "markdown",
   "metadata": {},
   "source": [
    "Some built-in types supports multiple iterators"
   ]
  },
  {
   "cell_type": "code",
   "execution_count": 15,
   "metadata": {},
   "outputs": [
    {
     "name": "stdout",
     "output_type": "stream",
     "text": [
      "This is it1 : 1\n",
      "This is it2 : 1\n"
     ]
    }
   ],
   "source": [
    "L = [1, 2, 3, 4]\n",
    "it1, it2 = iter(L), iter(L)\n",
    "\n",
    "print(\"This is it1 : {}\".format(next(it1)))\n",
    "print(\"This is it2 : {}\".format(next(it2)))"
   ]
  },
  {
   "cell_type": "markdown",
   "metadata": {},
   "source": [
    "## Generation in Built-In"
   ]
  },
  {
   "cell_type": "code",
   "execution_count": 16,
   "metadata": {},
   "outputs": [
    {
     "name": "stdout",
     "output_type": "stream",
     "text": [
      ". Ch16 - Function Basics.ipynb\n",
      ". Ch17 - Scopes.ipynb\n",
      ". Ch18 - Arguments.ipynb\n",
      ". Ch19 - Advanced Function Topics.ipynb\n",
      ". Ch20 - Comprehensions and Generations.ipynb\n",
      ". Ch21 - The Benchmarking Interlude.ipynb\n",
      "./.ipynb_checkpoints Ch17 - Scopes-checkpoint.ipynb\n",
      "./.ipynb_checkpoints Ch19 - Advanced Function Topics-checkpoint.ipynb\n"
     ]
    },
    {
     "data": {
      "text/plain": [
       "generator"
      ]
     },
     "execution_count": 16,
     "metadata": {},
     "output_type": "execute_result"
    }
   ],
   "source": [
    "import os\n",
    "for (root, subs, files) in os.walk('.'):\n",
    "    for name in files:\n",
    "        if not name.startswith('.'):\n",
    "            print(root, name)\n",
    "            \n",
    "type(os.walk('.'))"
   ]
  },
  {
   "cell_type": "markdown",
   "metadata": {},
   "source": [
    "## Don't Abuse Generatos\n",
    "Don't complicate your code with user-defined generators.  \n",
    "Especially for smaller programs and data sets, there may be no good reason to use these tools. "
   ]
  },
  {
   "cell_type": "markdown",
   "metadata": {},
   "source": [
    "## Other Generator Issue"
   ]
  },
  {
   "cell_type": "markdown",
   "metadata": {
    "collapsed": true
   },
   "source": [
    "###  Generators can sometimes produce results from large solution sets when list builder cannot.  \n",
    "e.g.\n",
    "```python\n",
    "def permute(seq):\n",
    "    if not seq:\n",
    "        yield seq\n",
    "    else:\n",
    "        for i in range(len(seq)):\n",
    "            rest = seq[:i] + seq[i+1:]\n",
    "            for x in permute(rest):\n",
    "                yield seq[i:i+1] + x\n",
    "\n",
    "p = permute('abc')\n",
    "```"
   ]
  },
  {
   "cell_type": "markdown",
   "metadata": {},
   "source": [
    "### The use of list call on generator in Python3\n",
    "\n",
    "The following code is ok in Python2, but would cause infinite loop in Python3.\n",
    "```python\n",
    "def myzip(*args):\n",
    "    iters = map(iter, args)\n",
    "    while iters:\n",
    "        res = [next(i) for i in iters]\n",
    "        yield tuple(res)\n",
    "        \n",
    "myzip('abc', 'defgh')\n",
    "```\n",
    "By wrapping map call in list call can solve this.\n",
    "This told us that the **list call is not just for display.**"
   ]
  }
 ],
 "metadata": {
  "kernelspec": {
   "display_name": "Python 3",
   "language": "python",
   "name": "python3"
  },
  "language_info": {
   "codemirror_mode": {
    "name": "ipython",
    "version": 3
   },
   "file_extension": ".py",
   "mimetype": "text/x-python",
   "name": "python",
   "nbconvert_exporter": "python",
   "pygments_lexer": "ipython3",
   "version": "3.6.0"
  }
 },
 "nbformat": 4,
 "nbformat_minor": 1
}
