{
 "cells": [
  {
   "cell_type": "markdown",
   "metadata": {},
   "source": [
    "# Scope\n",
    "scope referes to namespace  \n",
    "  \n",
    "namespace: Where a name lives. When a name is used, Python creates, changes or looks up the name in namespace."
   ]
  },
  {
   "cell_type": "markdown",
   "metadata": {},
   "source": [
    "- If a variable is assigned inside a **def**, it's **local** to that function.\n",
    "- If a variable is assigned in an enclosing **def**, it' **nonlocal ** to nested functions.\n",
    "- If a variable is assigned outside all **def**s, it's **gloabl** to the entire file"
   ]
  },
  {
   "cell_type": "markdown",
   "metadata": {},
   "source": [
    "- Any assignment without **global** and **nonlocal** in a function is considered as **local**s while in-place changes to mutable objects is not.\n",
    "- Each call to a functino creates a new local scope."
   ]
  },
  {
   "cell_type": "code",
   "execution_count": 40,
   "metadata": {
    "collapsed": false
   },
   "outputs": [
    {
     "name": "stdout",
     "output_type": "stream",
     "text": [
      "[1, 2, 3]\n"
     ]
    }
   ],
   "source": [
    "# Assignment\n",
    "L = [1, 2, 3]\n",
    "\n",
    "def change(L):\n",
    "    L = [1, 2, 3, 4]\n",
    "    \n",
    "change(L)\n",
    "print(L)    # No Change"
   ]
  },
  {
   "cell_type": "code",
   "execution_count": 39,
   "metadata": {
    "collapsed": false
   },
   "outputs": [
    {
     "name": "stdout",
     "output_type": "stream",
     "text": [
      "[1, 2, 3, 4]\n"
     ]
    }
   ],
   "source": [
    "# in-place change\n",
    "L = [1, 2, 3]\n",
    "\n",
    "def change(L):\n",
    "    L.append(4)\n",
    "    \n",
    "change(L)\n",
    "print(L)"
   ]
  },
  {
   "cell_type": "markdown",
   "metadata": {},
   "source": [
    "### Looking Up a Name: LEGB rule\n",
    "- Looking Up Rule:\n",
    "    - Local → Enclosing Function Locals → Global → Built-in"
   ]
  },
  {
   "cell_type": "markdown",
   "metadata": {},
   "source": [
    "### Comprehension vairables\n",
    "In Python3, vaiables in all comprehension forms(e.g. generator, list, dict, set) are considered as locals.  \n",
    "In Python2, list comprehensions map their names to the scope outside the expression.  \n",
    "\n",
    "```\n",
    "By contrast, for loop never localize their variables to the statement block in any python\n",
    "```"
   ]
  },
  {
   "cell_type": "markdown",
   "metadata": {},
   "source": [
    "## Reference vs Assignment\n",
    "- reference (X)\n",
    "    - looks for name using LEGB rule\n",
    "- assignment (X = value)\n",
    "    - Create or change the name in local by default.\n",
    "    - If the name is declared **global**, the operations start from global scope\n",
    "    - If the name is declared **nonlocal**(Python3 only), the operations look up only in enclosing functions"
   ]
  },
  {
   "cell_type": "markdown",
   "metadata": {},
   "source": [
    "---"
   ]
  },
  {
   "cell_type": "markdown",
   "metadata": {},
   "source": [
    "## Global Variables\n",
    "- Assigned at the top level of file\n",
    "- Must be declared only if they are assigned with a function\n",
    "- May be referenced with a function without being declared"
   ]
  },
  {
   "cell_type": "markdown",
   "metadata": {},
   "source": [
    "## Global vs Nonlocal\n",
    "- **global**\n",
    "    - Makes scope lookup begin in module scope and then built-in scope\n",
    "    - Allows name to be assign\n",
    "        - If not exist, it create name in module level\n",
    "- **nonlocal**\n",
    "    - Restricts scope lookup to just enclosing defs. No global or built-in lookups.\n",
    "    - Requires that the names already exist"
   ]
  },
  {
   "cell_type": "code",
   "execution_count": 41,
   "metadata": {
    "collapsed": false
   },
   "outputs": [
    {
     "name": "stdout",
     "output_type": "stream",
     "text": [
      "5\n"
     ]
    }
   ],
   "source": [
    "# Global example\n",
    "\n",
    "def test():\n",
    "    global a\n",
    "    a = 5\n",
    "    \n",
    "test()\n",
    "print(a)"
   ]
  },
  {
   "cell_type": "code",
   "execution_count": 42,
   "metadata": {
    "collapsed": false
   },
   "outputs": [
    {
     "name": "stdout",
     "output_type": "stream",
     "text": [
      "zero 0\n",
      "one 1\n",
      "two 2\n"
     ]
    }
   ],
   "source": [
    "# Nonlocal example\n",
    "\n",
    "def tester(start):\n",
    "    state = start           # state must exist before nonlocal is declared\n",
    "    def nested(label):\n",
    "        nonlocal state\n",
    "        print(label, state)\n",
    "        state += 1\n",
    "    return nested\n",
    "\n",
    "F = tester(0)\n",
    "F('zero')\n",
    "F('one')\n",
    "F('two')"
   ]
  },
  {
   "cell_type": "markdown",
   "metadata": {},
   "source": [
    "## Function Attribute\n",
    "Since Python2 does not support **nonlocal**, this could be a portable way to both versions."
   ]
  },
  {
   "cell_type": "code",
   "execution_count": 35,
   "metadata": {
    "collapsed": false
   },
   "outputs": [
    {
     "name": "stdout",
     "output_type": "stream",
     "text": [
      "zero 0\n",
      "one 1\n",
      "two 2\n"
     ]
    }
   ],
   "source": [
    "def tester(start):\n",
    "    def nested(label):\n",
    "        print(label, nested.state)\n",
    "        nested.state += 1\n",
    "    nested.state = start\n",
    "    return nested\n",
    "\n",
    "F = tester(0)\n",
    "F('zero')\n",
    "F('one')\n",
    "F('two')"
   ]
  },
  {
   "cell_type": "markdown",
   "metadata": {},
   "source": [
    "---"
   ]
  },
  {
   "cell_type": "markdown",
   "metadata": {},
   "source": [
    "## Program Design Issue\n",
    "### Minimize Global Variables\n",
    "- It might be useful when using multi-thread, it can be used to shared memory between threads.  \n",
    "    - Threads is commonly used for long-running tasks in GUIs\n",
    "\n",
    "### Minimize Cross-File Changes\n",
    "- It's possiable, but strongly not recommended.\n",
    "- It's also possible to refine a built-in name. But this is often a bug and won't trigger any warning message. Also not recommended."
   ]
  },
  {
   "cell_type": "markdown",
   "metadata": {},
   "source": [
    "---"
   ]
  },
  {
   "cell_type": "markdown",
   "metadata": {},
   "source": [
    "## Factory Functions\n",
    "- Useful when creating event handler."
   ]
  },
  {
   "cell_type": "code",
   "execution_count": 46,
   "metadata": {
    "collapsed": false
   },
   "outputs": [
    {
     "data": {
      "text/plain": [
       "64"
      ]
     },
     "execution_count": 46,
     "metadata": {},
     "output_type": "execute_result"
    }
   ],
   "source": [
    "# This technique is often used with lambda\n",
    "\n",
    "def maker(n):\n",
    "    return lambda x: x**n\n",
    "\n",
    "f = maker(3)\n",
    "f(4)"
   ]
  },
  {
   "cell_type": "markdown",
   "metadata": {},
   "source": [
    "### Loop vaiables may require defaults, not scopes\n",
    "\n",
    "If a **lambda** or **def** is nested inside a loop, and it references an enclosing variable that is changed by that loop, all functions generated with the loop will have the same value - the value the referenced variable had in the last loop."
   ]
  },
  {
   "cell_type": "code",
   "execution_count": 48,
   "metadata": {
    "collapsed": false
   },
   "outputs": [
    {
     "name": "stdout",
     "output_type": "stream",
     "text": [
      "16\n",
      "16\n",
      "16\n"
     ]
    }
   ],
   "source": [
    "# The same value which is not expected\n",
    "\n",
    "def makeActions():\n",
    "    acts = []\n",
    "    for i in range(5):\n",
    "        acts.append(lambda x: i**x)\n",
    "    return acts\n",
    "\n",
    "acts = makeActions()\n",
    "\n",
    "print(acts[0](2))         # 4**2, which is not expected\n",
    "print(acts[1](2))\n",
    "print(acts[2](2))"
   ]
  },
  {
   "cell_type": "markdown",
   "metadata": {},
   "source": [
    "The enclosgin scope variable is looked up when the nested functions are latter called.  \n",
    "Thus, the **i** won't change in the above example."
   ]
  },
  {
   "cell_type": "code",
   "execution_count": 50,
   "metadata": {
    "collapsed": false
   },
   "outputs": [
    {
     "name": "stdout",
     "output_type": "stream",
     "text": [
      "0\n",
      "1\n",
      "4\n"
     ]
    }
   ],
   "source": [
    "# Generating different functions which is as expected\n",
    "\n",
    "def makeActions():\n",
    "    acts = []\n",
    "    for i in range(5):\n",
    "        acts.append(lambda x, i=i: i**x)\n",
    "    return acts\n",
    "\n",
    "acts = makeActions()\n",
    "\n",
    "print(acts[0](2))        # 0**2\n",
    "print(acts[1](2))\n",
    "print(acts[2](2))"
   ]
  },
  {
   "cell_type": "markdown",
   "metadata": {},
   "source": [
    "The defaults are evaluated when the nested functions is created."
   ]
  }
 ],
 "metadata": {
  "kernelspec": {
   "display_name": "Python 3",
   "language": "python",
   "name": "python3"
  },
  "language_info": {
   "codemirror_mode": {
    "name": "ipython",
    "version": 3
   },
   "file_extension": ".py",
   "mimetype": "text/x-python",
   "name": "python",
   "nbconvert_exporter": "python",
   "pygments_lexer": "ipython3",
   "version": "3.4.3"
  }
 },
 "nbformat": 4,
 "nbformat_minor": 0
}
