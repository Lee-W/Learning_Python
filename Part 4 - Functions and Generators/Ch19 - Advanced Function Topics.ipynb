{
 "cells": [
  {
   "cell_type": "markdown",
   "metadata": {},
   "source": [
    "# Function Design Guideline\n",
    "- Use arguments for inputs and  return for outputs\n",
    "    - Make a function independent of things outside of it\n",
    "- Avoid using global variable and mutable arguments\n",
    "- Each function should have a single, unified purpose\n",
    "- Each function should be small\n",
    "- **Minimize external dependencies in functions and other program components** -> self-containied"
   ]
  },
  {
   "cell_type": "markdown",
   "metadata": {},
   "source": [
    "---"
   ]
  },
  {
   "cell_type": "markdown",
   "metadata": {},
   "source": [
    "# Recursive Functions\n",
    "Recursion is not used as often in Python as in language like Prolog or Lisp, because Python emphasizes simpler procedural statements like loops.  \n",
    "However, this technique can still be usefull.  \n",
    "\n",
    "- The misuse of the following operator overloadings might cause inproper recursive behavior\n",
    "    - `__setattr__`, `__getattribute__`, `__repr__`\n",
    "\n",
    "Standard Python limits the depth of its runtime call stack to trap infinite recursion."
   ]
  },
  {
   "cell_type": "code",
   "execution_count": 1,
   "metadata": {
    "collapsed": false
   },
   "outputs": [
    {
     "data": {
      "text/plain": [
       "1000"
      ]
     },
     "execution_count": 1,
     "metadata": {},
     "output_type": "execute_result"
    }
   ],
   "source": [
    "# To see the recursion limit\n",
    "import sys\n",
    "sys.getrecursionlimit()"
   ]
  },
  {
   "cell_type": "code",
   "execution_count": 2,
   "metadata": {
    "collapsed": false
   },
   "outputs": [
    {
     "data": {
      "text/plain": [
       "10000"
      ]
     },
     "execution_count": 2,
     "metadata": {},
     "output_type": "execute_result"
    }
   ],
   "source": [
    "# To set the recursion limit\n",
    "sys.setrecursionlimit(10000)\n",
    "sys.getrecursionlimit()"
   ]
  },
  {
   "cell_type": "markdown",
   "metadata": {
    "collapsed": true
   },
   "source": [
    "---"
   ]
  },
  {
   "cell_type": "markdown",
   "metadata": {},
   "source": [
    "# Function Objects\n",
    "\n",
    "**First-Class Object Model**: Functions are just a kind of object.\n",
    "- Can be assigned to other names\n",
    "- Can be passed as arguement\n",
    "- Can be embedded in data strcutures\n",
    "- Can be returned and other operations that other object can do.  \n",
    "\n",
    "This first-class object model and lacking of type declarations make Python incredibly flexible.\n",
    "\n",
    "## Function Attributes\n",
    "It's is possible to attach user-defined attributes to functions"
   ]
  },
  {
   "cell_type": "code",
   "execution_count": 3,
   "metadata": {
    "collapsed": false
   },
   "outputs": [
    {
     "name": "stdout",
     "output_type": "stream",
     "text": [
      "text\n"
     ]
    }
   ],
   "source": [
    "def func():\n",
    "    print('hi')\n",
    "\n",
    "func.text = 'text'\n",
    "print(func.text)"
   ]
  },
  {
   "cell_type": "code",
   "execution_count": 4,
   "metadata": {
    "collapsed": false
   },
   "outputs": [
    {
     "data": {
      "text/plain": [
       "['__annotations__',\n",
       " '__call__',\n",
       " '__class__',\n",
       " '__closure__',\n",
       " '__code__',\n",
       " '__defaults__',\n",
       " '__delattr__',\n",
       " '__dict__',\n",
       " '__dir__',\n",
       " '__doc__',\n",
       " '__eq__',\n",
       " '__format__',\n",
       " '__ge__',\n",
       " '__get__',\n",
       " '__getattribute__',\n",
       " '__globals__',\n",
       " '__gt__',\n",
       " '__hash__',\n",
       " '__init__',\n",
       " '__kwdefaults__',\n",
       " '__le__',\n",
       " '__lt__',\n",
       " '__module__',\n",
       " '__name__',\n",
       " '__ne__',\n",
       " '__new__',\n",
       " '__qualname__',\n",
       " '__reduce__',\n",
       " '__reduce_ex__',\n",
       " '__repr__',\n",
       " '__setattr__',\n",
       " '__sizeof__',\n",
       " '__str__',\n",
       " '__subclasshook__',\n",
       " 'text']"
      ]
     },
     "execution_count": 4,
     "metadata": {},
     "output_type": "execute_result"
    }
   ],
   "source": [
    "dir(func)"
   ]
  },
  {
   "cell_type": "markdown",
   "metadata": {},
   "source": [
    "Such attributes can be used to attach **state information** to function object.  \n",
    "This way can be used to emulate \"static locals\" in other languages - variables whose names are local to a function"
   ]
  },
  {
   "cell_type": "markdown",
   "metadata": {},
   "source": [
    "## Function Annotations (Python3)\n",
    "Attach values to function attribute `__annotations__` for use by other tools.  \n",
    "Annotations work only in **def**, not **lambda"
   ]
  },
  {
   "cell_type": "code",
   "execution_count": 5,
   "metadata": {
    "collapsed": false
   },
   "outputs": [
    {
     "name": "stdout",
     "output_type": "stream",
     "text": [
      "6\n"
     ]
    }
   ],
   "source": [
    "def func(a: 1, b: 'a', c: int) -> int:\n",
    "    return a + b + c\n",
    "\n",
    "print(func(1, 2, 3))"
   ]
  },
  {
   "cell_type": "markdown",
   "metadata": {},
   "source": [
    "In fact, calls to an annotated function work as usual."
   ]
  },
  {
   "cell_type": "code",
   "execution_count": 6,
   "metadata": {
    "collapsed": false
   },
   "outputs": [
    {
     "data": {
      "text/plain": [
       "{'a': 1, 'b': 'a', 'c': int, 'return': int}"
      ]
     },
     "execution_count": 6,
     "metadata": {},
     "output_type": "execute_result"
    }
   ],
   "source": [
    "# Call __annotations__\n",
    "\n",
    "func.__annotations__"
   ]
  },
  {
   "cell_type": "markdown",
   "metadata": {},
   "source": [
    "### Annotation with default"
   ]
  },
  {
   "cell_type": "code",
   "execution_count": 7,
   "metadata": {
    "collapsed": false
   },
   "outputs": [
    {
     "name": "stdout",
     "output_type": "stream",
     "text": [
      "15\n"
     ]
    }
   ],
   "source": [
    "def func(a: 1 = 4, b: '1' = 5, c: int = 6) -> int:\n",
    "    return a + b + c\n",
    "\n",
    "print(func())"
   ]
  },
  {
   "cell_type": "markdown",
   "metadata": {},
   "source": [
    "The potential uses remain to be uncovered.  \n",
    "Larger APIs might use this feature as a way to register function interface information."
   ]
  },
  {
   "cell_type": "markdown",
   "metadata": {},
   "source": [
    "---"
   ]
  },
  {
   "cell_type": "markdown",
   "metadata": {},
   "source": [
    "# Anonymous Functions: lambda\n",
    "\n",
    "## Usage\n",
    "- Inline a function definition\n",
    "- Defer execution of a piece of code\n",
    "\n",
    "```python\n",
    "lambda arg1, arg2, ... argN : expression using args\n",
    "```\n",
    "\n",
    "- `lambda` is an expression, not a statement\n",
    "    - It can apper in place that `def` cannot. Such as inside a list or a function call's argument\n",
    "- `lambda`'s body is a single expression\n",
    "    - It's designed for simple functions, and `def` handles larger tasks.\n",
    "\n",
    "`lambda` also follows the LEGB rule described in CH17"
   ]
  },
  {
   "cell_type": "code",
   "execution_count": 8,
   "metadata": {
    "collapsed": false
   },
   "outputs": [
    {
     "data": {
      "text/plain": [
       "3"
      ]
     },
     "execution_count": 8,
     "metadata": {},
     "output_type": "execute_result"
    }
   ],
   "source": [
    "f = lambda x, y: x + y\n",
    "f(1, 2)"
   ]
  },
  {
   "cell_type": "markdown",
   "metadata": {},
   "source": [
    "## Why Use lambda\n",
    "- Common usage\n",
    "    - Callback handler\n",
    "    - Jump table: lists or dicts of actions to be performed on demand\n",
    "    - Short function\n",
    "    - Inline temporary function definitions not used elsewhere"
   ]
  },
  {
   "cell_type": "code",
   "execution_count": 9,
   "metadata": {
    "collapsed": false
   },
   "outputs": [
    {
     "data": {
      "text/plain": [
       "2"
      ]
     },
     "execution_count": 9,
     "metadata": {},
     "output_type": "execute_result"
    }
   ],
   "source": [
    "# Multiway branch switches\n",
    "\n",
    "s = {'a': (lambda: 1 + 1),\n",
    "     'b': (lambda: 2 + 2)}\n",
    "\n",
    "s['a']()"
   ]
  },
  {
   "cell_type": "code",
   "execution_count": 10,
   "metadata": {
    "collapsed": false
   },
   "outputs": [
    {
     "data": {
      "text/plain": [
       "1"
      ]
     },
     "execution_count": 10,
     "metadata": {},
     "output_type": "execute_result"
    }
   ],
   "source": [
    "# lambda with if\n",
    "\n",
    "less = lambda x, y: x if x < y else y\n",
    "less(2, 1)"
   ]
  },
  {
   "cell_type": "code",
   "execution_count": 11,
   "metadata": {
    "collapsed": false
   },
   "outputs": [
    {
     "name": "stdout",
     "output_type": "stream",
     "text": [
      "This is content: a\n",
      "This is content: b\n",
      "This is content: c\n"
     ]
    },
    {
     "data": {
      "text/plain": [
       "[None, None, None]"
      ]
     },
     "execution_count": 11,
     "metadata": {},
     "output_type": "execute_result"
    }
   ],
   "source": [
    "# lambda with loop (map or list comprehension)\n",
    "\n",
    "print_all = lambda x: [print(\"This is content: \" + line) for line in x]\n",
    "print_all(('a', 'b', 'c'))"
   ]
  },
  {
   "cell_type": "markdown",
   "metadata": {},
   "source": [
    "Assignments cannot be directly achieve through ``lambda`"
   ]
  },
  {
   "cell_type": "markdown",
   "metadata": {},
   "source": [
    "---"
   ]
  },
  {
   "cell_type": "markdown",
   "metadata": {},
   "source": [
    "# FP tools - map, filter, reduce\n",
    "\n",
    "\n",
    "## map\n",
    "Passing each item to the function and collects all results (Returning a list in Python2, an iterator in Python3)\n",
    "\n",
    "map applies a function call to each item insteasd of expression, and thus often requires extra helper functions or lambdas."
   ]
  },
  {
   "cell_type": "code",
   "execution_count": 12,
   "metadata": {
    "collapsed": false
   },
   "outputs": [
    {
     "data": {
      "text/plain": [
       "[4, 5, 6]"
      ]
     },
     "execution_count": 12,
     "metadata": {},
     "output_type": "execute_result"
    }
   ],
   "source": [
    "list(map(lambda x: x + 3, [1, 2, 3]))"
   ]
  },
  {
   "cell_type": "markdown",
   "metadata": {},
   "source": [
    "With multiple sequences, `map` expects an N-argument function for N sequences."
   ]
  },
  {
   "cell_type": "code",
   "execution_count": 13,
   "metadata": {
    "collapsed": false
   },
   "outputs": [
    {
     "data": {
      "text/plain": [
       "[1, 32, 729]"
      ]
     },
     "execution_count": 13,
     "metadata": {},
     "output_type": "execute_result"
    }
   ],
   "source": [
    "list(map(pow, [1, 2, 3], [4, 5, 6]))"
   ]
  },
  {
   "cell_type": "markdown",
   "metadata": {},
   "source": [
    "In some case, **map** may be faster to run than a list comprehension (e.g. built-in functions)  \n",
    "But in other cases, it often slower."
   ]
  },
  {
   "cell_type": "markdown",
   "metadata": {},
   "source": [
    "## filter\n",
    "Collecting items for which the function returns a True value"
   ]
  },
  {
   "cell_type": "code",
   "execution_count": 14,
   "metadata": {
    "collapsed": false
   },
   "outputs": [
    {
     "data": {
      "text/plain": [
       "[1, 2, 3, 4]"
      ]
     },
     "execution_count": 14,
     "metadata": {},
     "output_type": "execute_result"
    }
   ],
   "source": [
    "list(filter(lambda x: x > 0, range(-5, 5)))"
   ]
  },
  {
   "cell_type": "markdown",
   "metadata": {},
   "source": [
    "## reduce\n",
    "Computing a single value by applying the function to an accumulator and successive items.\n",
    "\n",
    "- It's built-in in Python2, but in `functools` module in Python3.\n",
    "- **operator** provide functions that correspond to built-in expressions "
   ]
  },
  {
   "cell_type": "code",
   "execution_count": 15,
   "metadata": {
    "collapsed": false
   },
   "outputs": [
    {
     "data": {
      "text/plain": [
       "12"
      ]
     },
     "execution_count": 15,
     "metadata": {},
     "output_type": "execute_result"
    }
   ],
   "source": [
    "import operator, functools\n",
    "functools.reduce(operator.add, [2, 4, 6])"
   ]
  },
  {
   "cell_type": "code",
   "execution_count": 16,
   "metadata": {
    "collapsed": false
   },
   "outputs": [
    {
     "name": "stdout",
     "output_type": "stream",
     "text": [
      "Current Result: 1\tNext value to be added: 2\n",
      "After add: 3\n",
      "\n",
      "Current Result: 3\tNext value to be added: 3\n",
      "After add: 6\n",
      "\n",
      "Current Result: 6\tNext value to be added: 4\n",
      "After add: 10\n",
      "\n",
      "Current Result: 10\tNext value to be added: 5\n",
      "After add: 15\n",
      "\n"
     ]
    },
    {
     "data": {
      "text/plain": [
       "15"
      ]
     },
     "execution_count": 16,
     "metadata": {},
     "output_type": "execute_result"
    }
   ],
   "source": [
    "# Demonstrate how reduce really works\n",
    "\n",
    "def add(a, b):\n",
    "    print(\"Current Result: {}\\tNext value to be added: {}\".format(a, b))\n",
    "    print(\"After add: {}\\n\".format(a + b))\n",
    "    return a + b\n",
    "\n",
    "functools.reduce(add, [1, 2, 3, 4, 5])"
   ]
  }
 ],
 "metadata": {
  "kernelspec": {
   "display_name": "Python 3",
   "language": "python",
   "name": "python3"
  },
  "language_info": {
   "codemirror_mode": {
    "name": "ipython",
    "version": 3
   },
   "file_extension": ".py",
   "mimetype": "text/x-python",
   "name": "python",
   "nbconvert_exporter": "python",
   "pygments_lexer": "ipython3",
   "version": "3.4.3"
  }
 },
 "nbformat": 4,
 "nbformat_minor": 0
}
