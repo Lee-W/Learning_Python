{
 "cells": [
  {
   "cell_type": "markdown",
   "metadata": {},
   "source": [
    "# Function\n",
    "\n",
    "- **def** is not evaluated until it is reached and run, and the code inside it is not evalued until the functions are later called.\n",
    "- A function without a return statement returns the None automatically  \n",
    "- It's legal to nested a **def** in **if**, **while**, or even **def**.  \n",
    "\n",
    "There's no compile time in Python.  \n",
    "All we have is runtime\n",
    "\n",
    "Functions are just objects"
   ]
  },
  {
   "cell_type": "code",
   "execution_count": 2,
   "metadata": {
    "collapsed": false
   },
   "outputs": [
    {
     "name": "stdout",
     "output_type": "stream",
     "text": [
      "This is a function\n"
     ]
    }
   ],
   "source": [
    "# Assign a function to another name\n",
    "def func():\n",
    "    print(\"This is a function\")\n",
    "\n",
    "\n",
    "another_name = func\n",
    "another_name()"
   ]
  },
  {
   "cell_type": "markdown",
   "metadata": {},
   "source": [
    "Since functions are just objects, assigning it to another name is possible."
   ]
  },
  {
   "cell_type": "markdown",
   "metadata": {},
   "source": [
    "### def vs lambda\n",
    "**def** creates an object and assigns it to a name.  \n",
    "**lambda** creates an object but returns it as a result.  \n",
    "\n",
    "### Passed by object reference\n",
    "Arguments are passed by object reference.  \n",
    "Changing passed-in mutable objects in place can change objects shared by the caller.  "
   ]
  },
  {
   "cell_type": "code",
   "execution_count": 3,
   "metadata": {
    "collapsed": false
   },
   "outputs": [
    {
     "name": "stdout",
     "output_type": "stream",
     "text": [
      "[1, 2, 3, 4]\n"
     ]
    }
   ],
   "source": [
    "# Passed by object reference\n",
    "\n",
    "nums = [1, 2, 3]\n",
    "\n",
    "\n",
    "def append_four(numbers):\n",
    "    numbers.append(4)\n",
    "\n",
    "\n",
    "append_four(nums)\n",
    "print(nums)"
   ]
  },
  {
   "cell_type": "markdown",
   "metadata": {},
   "source": [
    "#### Read More\n",
    "- [Is Python call-by-value or call-by-reference? Neither.](https://www.jeffknupp.com/blog/2012/11/13/is-python-callbyvalue-or-callbyreference-neither/)"
   ]
  },
  {
   "cell_type": "markdown",
   "metadata": {},
   "source": [
    "### Local vaiables\n",
    "All local vaiables appear when the function is called and disappear when the function exits.\n",
    "\n",
    "### No Argument Types Checking\n",
    "This is one of the polymorphism technique in Python.  \n",
    "Checking the types of objects passed into a function breaks the function's flexibility"
   ]
  }
 ],
 "metadata": {
  "kernelspec": {
   "display_name": "Python 3",
   "language": "python",
   "name": "python3"
  },
  "language_info": {
   "codemirror_mode": {
    "name": "ipython",
    "version": 3
   },
   "file_extension": ".py",
   "mimetype": "text/x-python",
   "name": "python",
   "nbconvert_exporter": "python",
   "pygments_lexer": "ipython3",
   "version": "3.4.3"
  }
 },
 "nbformat": 4,
 "nbformat_minor": 0
}
