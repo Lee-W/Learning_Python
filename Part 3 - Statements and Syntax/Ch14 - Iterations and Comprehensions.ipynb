{
 "cells": [
  {
   "cell_type": "markdown",
   "metadata": {},
   "source": [
    "# Iterator\n",
    "\n"
   ]
  },
  {
   "cell_type": "code",
   "execution_count": 1,
   "metadata": {
    "collapsed": false
   },
   "outputs": [
    {
     "name": "stdout",
     "output_type": "stream",
     "text": [
      "1\n",
      "2\n",
      "3\n"
     ]
    }
   ],
   "source": [
    "L = [1, 2, 3]\n",
    "it = iter(L)\n",
    "print(it.__next__())\n",
    "print(it.__next__())\n",
    "print(next(it))"
   ]
  },
  {
   "cell_type": "markdown",
   "metadata": {},
   "source": [
    "In Python2, **next(x)** or **x.next()** is used.  \n",
    "Both **next(x)** and **x.\\_\\_next\\_\\_()** can be used in Python3.\n",
    "\n",
    "\n",
    "But **popen** object support only **P.next()** in Python2 and **P.\\_\\_next\\_\\_()** in Python3."
   ]
  },
  {
   "cell_type": "markdown",
   "metadata": {},
   "source": [
    "## Interation Protocol\n",
    "\n",
    "- Iterable: The object you request iteration for, whose **\\_\\_iter\\_\\_** is run by **iter**\n",
    "- Iterator: The object returned by the iterable that actually produces values during the iteration, whose **\\_\\_next\\_\\_** is run by **next** and raises **StopIteration** when finished producing results\n",
    "\n",
    "\n",
    "Iteration Tool handles these steps automatically.\n",
    "\n",
    "e.g.\n",
    "```\n",
    "The for loop uses the iteration protocol to step through items in the iteratble object across which it is iterating.  \n",
    "\n",
    "It first fetches an iterator from the iterable by passing the object to iter.\n",
    "Then it call this iterator object's __next__ method in Python3 on each iteration and catches the StopIteration exception to determine whne to stop looping\n",
    "```"
   ]
  },
  {
   "cell_type": "code",
   "execution_count": 2,
   "metadata": {
    "collapsed": false
   },
   "outputs": [
    {
     "name": "stdout",
     "output_type": "stream",
     "text": [
      "1 4 9 "
     ]
    }
   ],
   "source": [
    "# Automatic iteration (for handle it internally)\n",
    "\n",
    "L = [1, 2, 3]\n",
    "for x in L:\n",
    "    print(x**2, end=\" \")"
   ]
  },
  {
   "cell_type": "code",
   "execution_count": 3,
   "metadata": {
    "collapsed": false
   },
   "outputs": [
    {
     "name": "stdout",
     "output_type": "stream",
     "text": [
      "1 4 9 "
     ]
    }
   ],
   "source": [
    "# Manual iteration\n",
    "\n",
    "L = [1, 2, 3]\n",
    "it = iter(L)\n",
    "while True:\n",
    "    try:\n",
    "        x = next(it)\n",
    "    except StopIteration:\n",
    "        break\n",
    "    print(x**2, end=\" \")"
   ]
  },
  {
   "cell_type": "markdown",
   "metadata": {},
   "source": [
    "## File Iterator"
   ]
  },
  {
   "cell_type": "markdown",
   "metadata": {},
   "source": [
    "The best way to read a text file line by line.  \n",
    "Instead of reading the file all at once, it call  \\_\\_next\\_\\_ to advance to the next line on each iteration."
   ]
  },
  {
   "cell_type": "code",
   "execution_count": 4,
   "metadata": {
    "collapsed": false
   },
   "outputs": [
    {
     "name": "stdout",
     "output_type": "stream",
     "text": [
      "FIRST LINE\n",
      "SECOND LINE\n",
      "THIRD LINE\n",
      "LAST LINE"
     ]
    }
   ],
   "source": [
    "for line in open(\"test.txt\", \"r\"):\n",
    "    print(line.upper(), end=\"\")"
   ]
  },
  {
   "cell_type": "code",
   "execution_count": 5,
   "metadata": {
    "collapsed": false
   },
   "outputs": [
    {
     "name": "stdout",
     "output_type": "stream",
     "text": [
      "First Line\n",
      "\n",
      "Second Line\n",
      "\n",
      "Third Line\n",
      "\n",
      "Last Line\n"
     ]
    },
    {
     "ename": "StopIteration",
     "evalue": "",
     "output_type": "error",
     "traceback": [
      "\u001b[1;31m---------------------------------------------------------------------------\u001b[0m",
      "\u001b[1;31mStopIteration\u001b[0m                             Traceback (most recent call last)",
      "\u001b[1;32m<ipython-input-5-4bcbc1af9aed>\u001b[0m in \u001b[0;36m<module>\u001b[1;34m()\u001b[0m\n\u001b[0;32m      5\u001b[0m \u001b[0mprint\u001b[0m\u001b[1;33m(\u001b[0m\u001b[0mf\u001b[0m\u001b[1;33m.\u001b[0m\u001b[0m__next__\u001b[0m\u001b[1;33m(\u001b[0m\u001b[1;33m)\u001b[0m\u001b[1;33m)\u001b[0m\u001b[1;33m\u001b[0m\u001b[0m\n\u001b[0;32m      6\u001b[0m \u001b[0mprint\u001b[0m\u001b[1;33m(\u001b[0m\u001b[0mf\u001b[0m\u001b[1;33m.\u001b[0m\u001b[0m__next__\u001b[0m\u001b[1;33m(\u001b[0m\u001b[1;33m)\u001b[0m\u001b[1;33m)\u001b[0m\u001b[1;33m\u001b[0m\u001b[0m\n\u001b[1;32m----> 7\u001b[1;33m \u001b[0mprint\u001b[0m\u001b[1;33m(\u001b[0m\u001b[0mf\u001b[0m\u001b[1;33m.\u001b[0m\u001b[0m__next__\u001b[0m\u001b[1;33m(\u001b[0m\u001b[1;33m)\u001b[0m\u001b[1;33m)\u001b[0m\u001b[1;33m\u001b[0m\u001b[0m\n\u001b[0m\u001b[0;32m      8\u001b[0m \u001b[0mf\u001b[0m\u001b[1;33m.\u001b[0m\u001b[0mclose\u001b[0m\u001b[1;33m(\u001b[0m\u001b[1;33m)\u001b[0m\u001b[1;33m\u001b[0m\u001b[0m\n",
      "\u001b[1;31mStopIteration\u001b[0m: "
     ]
    }
   ],
   "source": [
    "f = open(\"test.txt\", \"r\")\n",
    "\n",
    "print(f.__next__())\n",
    "print(f.__next__())\n",
    "print(f.__next__())\n",
    "print(f.__next__())\n",
    "print(f.__next__())\n",
    "f.close()"
   ]
  },
  {
   "cell_type": "markdown",
   "metadata": {},
   "source": [
    "Why best?\n",
    "- Simplest to code\n",
    "- Quickests to run (Iterators run at C language speed)\n",
    "- Best in terms of memory usage."
   ]
  },
  {
   "cell_type": "markdown",
   "metadata": {},
   "source": [
    "---"
   ]
  },
  {
   "cell_type": "markdown",
   "metadata": {},
   "source": [
    "# List Comprehensions"
   ]
  },
  {
   "cell_type": "code",
   "execution_count": 6,
   "metadata": {
    "collapsed": false
   },
   "outputs": [
    {
     "data": {
      "text/plain": [
       "[11, 12, 13, 14, 15]"
      ]
     },
     "execution_count": 6,
     "metadata": {},
     "output_type": "execute_result"
    }
   ],
   "source": [
    "# Without list comprehension\n",
    "\n",
    "L = [1, 2, 3, 4, 5]\n",
    "for i in range(len(L)):\n",
    "    L[i] += 10\n",
    "L"
   ]
  },
  {
   "cell_type": "code",
   "execution_count": 7,
   "metadata": {
    "collapsed": false
   },
   "outputs": [
    {
     "data": {
      "text/plain": [
       "[11, 12, 13, 14, 15]"
      ]
     },
     "execution_count": 7,
     "metadata": {},
     "output_type": "execute_result"
    }
   ],
   "source": [
    "# List comprehension (Create new list instead of in-place change)\n",
    "\n",
    "L = [1, 2, 3, 4, 5]\n",
    "L = [x + 10 for x in L]\n",
    "L"
   ]
  },
  {
   "cell_type": "markdown",
   "metadata": {},
   "source": [
    "Why list comprehension?\n",
    "- Less coding\n",
    "- Faster\n",
    "    - Often roughtly twice as fast thant mannual for statement\n",
    "    - Runs at C language speed\n",
    "    \n",
    "    \n",
    "The advantage of list comprehensions is especially significant for large files.  \n",
    "Besides efficiency, it also more expressive"
   ]
  },
  {
   "cell_type": "markdown",
   "metadata": {},
   "source": [
    "### Filter clauses: if"
   ]
  },
  {
   "cell_type": "code",
   "execution_count": 8,
   "metadata": {
    "collapsed": false
   },
   "outputs": [
    {
     "data": {
      "text/plain": [
       "['First Line']"
      ]
     },
     "execution_count": 8,
     "metadata": {},
     "output_type": "execute_result"
    }
   ],
   "source": [
    "lines = [line.strip() for line in open(\"test.txt\") if line[0] == \"F\"]\n",
    "lines"
   ]
  },
  {
   "cell_type": "markdown",
   "metadata": {
    "collapsed": true
   },
   "source": [
    "### Nested loops: for"
   ]
  },
  {
   "cell_type": "code",
   "execution_count": 9,
   "metadata": {
    "collapsed": false
   },
   "outputs": [
    {
     "data": {
      "text/plain": [
       "['a1', 'a2', 'a3', 'b1', 'b2', 'b3', 'c1', 'c2', 'c3']"
      ]
     },
     "execution_count": 9,
     "metadata": {},
     "output_type": "execute_result"
    }
   ],
   "source": [
    "[x + y for x in \"abc\" for y in \"123\"]"
   ]
  },
  {
   "cell_type": "markdown",
   "metadata": {},
   "source": [
    "Beyond the complexity level above, list comprehension might hurt readibility and thus not suitable to use.  \n",
    "If something is difficult for you to understand, it's probably not a good idea.  \n",
    "In fact, list comprehensions with if filter might even be slightly slower."
   ]
  },
  {
   "cell_type": "markdown",
   "metadata": {},
   "source": [
    "### Set, Dict Comprehension"
   ]
  },
  {
   "cell_type": "code",
   "execution_count": 10,
   "metadata": {
    "collapsed": false
   },
   "outputs": [
    {
     "data": {
      "text/plain": [
       "{1, 2, 3, 4, 5}"
      ]
     },
     "execution_count": 10,
     "metadata": {},
     "output_type": "execute_result"
    }
   ],
   "source": [
    "# Set Comprehension\n",
    "\n",
    "{num for num in [1, 2, 2, 3, 4, 5]}"
   ]
  },
  {
   "cell_type": "code",
   "execution_count": 11,
   "metadata": {
    "collapsed": false
   },
   "outputs": [
    {
     "data": {
      "text/plain": [
       "{0: 'a', 1: 'b', 2: 'c', 3: 'd', 4: 'e'}"
      ]
     },
     "execution_count": 11,
     "metadata": {},
     "output_type": "execute_result"
    }
   ],
   "source": [
    "# Dict Comprehesnion\n",
    "\n",
    "{index: num for index, num in enumerate([\"a\", \"b\", \"c\", \"d\", \"e\"])}"
   ]
  },
  {
   "cell_type": "markdown",
   "metadata": {},
   "source": [
    "# New Iterables in Python 3.x\n",
    "\n",
    "**range**, **map**, **zip**, **filter**  \n",
    "\n",
    "Note that iterables might exhaused after a single pass."
   ]
  },
  {
   "cell_type": "code",
   "execution_count": 12,
   "metadata": {
    "collapsed": false
   },
   "outputs": [
    {
     "name": "stdout",
     "output_type": "stream",
     "text": [
      "---First For Start---\n",
      "1\n",
      "2\n",
      "4\n",
      "---First For End---\n",
      "\n",
      "---Second For Start---\n",
      "---Second For End---\n",
      "\n"
     ]
    }
   ],
   "source": [
    "# Exhaused Sample\n",
    "\n",
    "m = map(lambda x: 2**x, range(3))\n",
    "\n",
    "print(\"---First For Start---\")\n",
    "for i in m:\n",
    "    print(i)\n",
    "print(\"---First For End---\\n\")\n",
    "\n",
    "print(\"---Second For Start---\")\n",
    "for i in m:\n",
    "    print(i, \"--2--\")\n",
    "print(\"---Second For End---\\n\")"
   ]
  },
  {
   "cell_type": "markdown",
   "metadata": {},
   "source": [
    "## Multiple Versus Single Pass Iterators\n",
    "\n",
    "Multiple iterators are usually supported by returning new objects for the **iter** call  \n",
    "Single iterators generally means an object return itself.\n",
    "\n",
    "\n",
    "### range (multiple)\n",
    "Unlike the list returned in Python2, range in Python3 support only iteration, indexing and len.  \n",
    "**range** won't exhaused.\n",
    "\n",
    "### map, zip, iflter (single)\n",
    "\n",
    "All these methods become iterables in Python3  \n",
    "\n",
    "- Advantage\n",
    "    - conserve space (without producing a result list all at once in memory)\n",
    "- Disadvantage\n",
    "    - they can only step through once\n",
    "  "
   ]
  },
  {
   "cell_type": "code",
   "execution_count": 13,
   "metadata": {
    "collapsed": false
   },
   "outputs": [
    {
     "name": "stdout",
     "output_type": "stream",
     "text": [
      "(1, 4)\n",
      "(2, 5)\n"
     ]
    }
   ],
   "source": [
    "z = zip((1, 2, 3), (4, 5, 6))\n",
    "it1 = iter(z)\n",
    "it2 = iter(z)\n",
    "\n",
    "print(next(it1))\n",
    "print(next(it2))"
   ]
  }
 ],
 "metadata": {
  "kernelspec": {
   "display_name": "Python 3",
   "language": "python",
   "name": "python3"
  },
  "language_info": {
   "codemirror_mode": {
    "name": "ipython",
    "version": 3
   },
   "file_extension": ".py",
   "mimetype": "text/x-python",
   "name": "python",
   "nbconvert_exporter": "python",
   "pygments_lexer": "ipython3",
   "version": "3.4.3"
  }
 },
 "nbformat": 4,
 "nbformat_minor": 0
}
