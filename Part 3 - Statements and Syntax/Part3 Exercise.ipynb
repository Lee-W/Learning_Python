{
 "cells": [
  {
   "cell_type": "markdown",
   "metadata": {},
   "source": [
    "# Problem 1"
   ]
  },
  {
   "cell_type": "markdown",
   "metadata": {},
   "source": [
    "## a."
   ]
  },
  {
   "cell_type": "code",
   "execution_count": 24,
   "metadata": {
    "collapsed": false
   },
   "outputs": [
    {
     "name": "stdout",
     "output_type": "stream",
     "text": [
      "72 101 108 108 111 32 84 104 101 114 101 "
     ]
    }
   ],
   "source": [
    "S = 'Hello There'\n",
    "\n",
    "for s in S:\n",
    "    print(ord(s), end=' ')"
   ]
  },
  {
   "cell_type": "markdown",
   "metadata": {},
   "source": [
    "## b."
   ]
  },
  {
   "cell_type": "code",
   "execution_count": 25,
   "metadata": {
    "collapsed": false
   },
   "outputs": [
    {
     "name": "stdout",
     "output_type": "stream",
     "text": [
      "1036\n"
     ]
    }
   ],
   "source": [
    "S = 'Hello There'\n",
    "\n",
    "ascii_sum = 0\n",
    "for s in S:\n",
    "    ascii_sum += ord(s)\n",
    "print(ascii_sum)"
   ]
  },
  {
   "cell_type": "markdown",
   "metadata": {},
   "source": [
    "## c."
   ]
  },
  {
   "cell_type": "code",
   "execution_count": 27,
   "metadata": {
    "collapsed": false
   },
   "outputs": [
    {
     "data": {
      "text/plain": [
       "<map at 0x30c53d0>"
      ]
     },
     "execution_count": 27,
     "metadata": {},
     "output_type": "execute_result"
    }
   ],
   "source": [
    "map(ord, S)"
   ]
  },
  {
   "cell_type": "code",
   "execution_count": 26,
   "metadata": {
    "collapsed": false
   },
   "outputs": [
    {
     "data": {
      "text/plain": [
       "[72, 101, 108, 108, 111, 32, 84, 104, 101, 114, 101]"
      ]
     },
     "execution_count": 26,
     "metadata": {},
     "output_type": "execute_result"
    }
   ],
   "source": [
    "[ord(c) for c in S]"
   ]
  },
  {
   "cell_type": "markdown",
   "metadata": {},
   "source": [
    "They are different since map no longer return list in Python3"
   ]
  },
  {
   "cell_type": "markdown",
   "metadata": {},
   "source": [
    "# Problem 2"
   ]
  },
  {
   "cell_type": "code",
   "execution_count": 1,
   "metadata": {
    "collapsed": false
   },
   "outputs": [
    {
     "name": "stdout",
     "output_type": "stream",
     "text": [
      "hello 0\n",
      "\n",
      "hello 1\n",
      "\n",
      "hello 2\n",
      "\n",
      "hello 3\n",
      "\n",
      "hello 4\n",
      "\n",
      "hello 5\n",
      "\n",
      "hello 6\n",
      "\n",
      "hello 7\n",
      "\n",
      "hello 8\n",
      "\n",
      "hello 9\n",
      "\n",
      "hello 10\n",
      "\n",
      "hello 11\n",
      "\n",
      "hello 12\n",
      "\n",
      "hello 13\n",
      "\n",
      "hello 14\n",
      "\n",
      "hello 15\n",
      "\n",
      "hello 16\n",
      "\n",
      "hello 17\n",
      "\n",
      "hello 18\n",
      "\n",
      "hello 19\n",
      "\n",
      "hello 20\n",
      "\n",
      "hello 21\n",
      "\n",
      "hello 22\n",
      "\n",
      "hello 23\n",
      "\n",
      "hello 24\n",
      "\n",
      "hello 25\n",
      "\n",
      "hello 26\n",
      "\n",
      "hello 27\n",
      "\n",
      "hello 28\n",
      "\n",
      "hello 29\n",
      "\n",
      "hello 30\n",
      "\n",
      "hello 31\n",
      "\n",
      "hello 32\n",
      "\n",
      "hello 33\n",
      "\n",
      "hello 34\n",
      "\n",
      "hello 35\n",
      "\n",
      "hello 36\n",
      "\n",
      "hello 37\n",
      "\n",
      "hello 38\n",
      "\n",
      "hello 39\n",
      "\n",
      "hello 40\n",
      "\n",
      "hello 41\n",
      "\n",
      "hello 42\n",
      "\n",
      "hello 43\n",
      "\n",
      "hello 44\n",
      "\n",
      "hello 45\n",
      "\n",
      "hello 46\n",
      "\n",
      "hello 47\n",
      "\n",
      "hello 48\n",
      "\n",
      "hello 49\n",
      "\n"
     ]
    }
   ],
   "source": [
    "for i in range(50):\n",
    "    print('hello %d\\n' % i)"
   ]
  },
  {
   "cell_type": "markdown",
   "metadata": {},
   "source": [
    "# Problem 3"
   ]
  },
  {
   "cell_type": "code",
   "execution_count": 4,
   "metadata": {
    "collapsed": false
   },
   "outputs": [
    {
     "name": "stdout",
     "output_type": "stream",
     "text": [
      "a 1\n",
      "b 2\n"
     ]
    }
   ],
   "source": [
    "d = {'b': 2, 'a': 1}\n",
    "for i in sorted(d.keys()):\n",
    "    print(i, d[i])\n",
    "\n",
    "# keys is not needed\n",
    "# written for readibility"
   ]
  },
  {
   "cell_type": "markdown",
   "metadata": {},
   "source": [
    "# Problem 4"
   ]
  },
  {
   "cell_type": "markdown",
   "metadata": {},
   "source": [
    "## a."
   ]
  },
  {
   "cell_type": "code",
   "execution_count": 28,
   "metadata": {
    "collapsed": false
   },
   "outputs": [
    {
     "name": "stdout",
     "output_type": "stream",
     "text": [
      "at index 5\n"
     ]
    }
   ],
   "source": [
    "L = [1, 2, 4, 8, 16, 32, 64]\n",
    "X = 5\n",
    "\n",
    "i = 0\n",
    "while i < len(L):\n",
    "    if 2 ** X == L[i]:\n",
    "        print('at index', i)\n",
    "        break\n",
    "    else:\n",
    "        i += 1\n",
    "else:\n",
    "    print(X, 'not found')"
   ]
  },
  {
   "cell_type": "markdown",
   "metadata": {},
   "source": [
    "## b."
   ]
  },
  {
   "cell_type": "code",
   "execution_count": 29,
   "metadata": {
    "collapsed": false
   },
   "outputs": [
    {
     "name": "stdout",
     "output_type": "stream",
     "text": [
      "at index 5\n"
     ]
    }
   ],
   "source": [
    "L = [1, 2, 4, 8, 16, 32, 64]\n",
    "X = 5\n",
    "\n",
    "for element in L:\n",
    "    if 2 ** X == element:\n",
    "        print('at index', L.index(element))\n",
    "        break\n",
    "else:\n",
    "    print(X, 'not found')\n",
    "        "
   ]
  },
  {
   "cell_type": "markdown",
   "metadata": {},
   "source": [
    "## c."
   ]
  },
  {
   "cell_type": "code",
   "execution_count": 30,
   "metadata": {
    "collapsed": false
   },
   "outputs": [
    {
     "name": "stdout",
     "output_type": "stream",
     "text": [
      "at index 5\n"
     ]
    }
   ],
   "source": [
    "L = [1, 2, 4, 8, 16, 32, 64]\n",
    "X = 5\n",
    "\n",
    "if 2 ** X in L:\n",
    "    print('at index', L.index(2 ** X))\n",
    "else:\n",
    "    prnit(X, 'not found')"
   ]
  },
  {
   "cell_type": "markdown",
   "metadata": {},
   "source": [
    "## d."
   ]
  },
  {
   "cell_type": "code",
   "execution_count": 31,
   "metadata": {
    "collapsed": false
   },
   "outputs": [
    {
     "data": {
      "text/plain": [
       "[1, 2, 4, 8, 16, 32, 64]"
      ]
     },
     "execution_count": 31,
     "metadata": {},
     "output_type": "execute_result"
    }
   ],
   "source": [
    "powers_of_2 = []\n",
    "for power in range(7):\n",
    "    powers_of_2.append(2 ** power)\n",
    "powers_of_2"
   ]
  },
  {
   "cell_type": "markdown",
   "metadata": {},
   "source": [
    "## f."
   ]
  },
  {
   "cell_type": "code",
   "execution_count": 35,
   "metadata": {
    "collapsed": false
   },
   "outputs": [
    {
     "name": "stdout",
     "output_type": "stream",
     "text": [
      "1\n",
      "2\n",
      "4\n",
      "8\n",
      "16\n",
      "32\n",
      "64\n"
     ]
    }
   ],
   "source": [
    "m = map(lambda x: 2 ** x, range(7))\n",
    "\n",
    "for element in m:\n",
    "    print(element)"
   ]
  }
 ],
 "metadata": {
  "kernelspec": {
   "display_name": "Python 3",
   "language": "python",
   "name": "python3"
  },
  "language_info": {
   "codemirror_mode": {
    "name": "ipython",
    "version": 3
   },
   "file_extension": ".py",
   "mimetype": "text/x-python",
   "name": "python",
   "nbconvert_exporter": "python",
   "pygments_lexer": "ipython3",
   "version": "3.4.3"
  }
 },
 "nbformat": 4,
 "nbformat_minor": 0
}
