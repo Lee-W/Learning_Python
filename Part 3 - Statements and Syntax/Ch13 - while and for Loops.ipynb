{
 "cells": [
  {
   "cell_type": "markdown",
   "metadata": {},
   "source": [
    "# while\n",
    "\n",
    "## General Format\n",
    "```python\n",
    "while test:          # Loop test\n",
    "    statements       # Loop body\n",
    "else:                # Optional else\n",
    "    statements       # Run if didn't exit loop with break\n",
    "```\n",
    "\n",
    "## break v.s. continue\n",
    "- break: jump out the closest enclosing loop\n",
    "- continue: jump to the top of the closest enclosing loop"
   ]
  },
  {
   "cell_type": "markdown",
   "metadata": {},
   "source": [
    "## pass\n",
    "It's usually used to mean \"to be filled in later\"."
   ]
  },
  {
   "cell_type": "code",
   "execution_count": 1,
   "metadata": {
    "collapsed": true
   },
   "outputs": [],
   "source": [
    "def fun():\n",
    "    pass"
   ]
  },
  {
   "cell_type": "code",
   "execution_count": 2,
   "metadata": {
    "collapsed": true
   },
   "outputs": [],
   "source": [
    "# ellipeses \n",
    "# Supported in Python 3\n",
    "\n",
    "def fun():\n",
    "    ..."
   ]
  },
  {
   "cell_type": "code",
   "execution_count": 3,
   "metadata": {
    "collapsed": false
   },
   "outputs": [
    {
     "data": {
      "text/plain": [
       "Ellipsis"
      ]
     },
     "execution_count": 3,
     "metadata": {},
     "output_type": "execute_result"
    }
   ],
   "source": [
    "# Another usage of ellipeses\n",
    "\n",
    "x = ...    # alternative to None\n",
    "x"
   ]
  },
  {
   "cell_type": "markdown",
   "metadata": {},
   "source": [
    "## Loop else\n",
    "\n",
    "Runs if and only if the loop is exited normally.\n",
    "\n",
    "### Example"
   ]
  },
  {
   "cell_type": "code",
   "execution_count": 4,
   "metadata": {
    "collapsed": false
   },
   "outputs": [
    {
     "name": "stdout",
     "output_type": "stream",
     "text": [
      "Not found\n"
     ]
    }
   ],
   "source": [
    "# Without else\n",
    "\n",
    "found = False\n",
    "x = 'spam'\n",
    "while x and not found:\n",
    "    if x[0] == 'b':\n",
    "        print('Found')\n",
    "        found = True\n",
    "    else:\n",
    "        x = x[1:]\n",
    "if not found:\n",
    "    print('Not found')"
   ]
  },
  {
   "cell_type": "code",
   "execution_count": 5,
   "metadata": {
    "collapsed": false
   },
   "outputs": [
    {
     "name": "stdout",
     "output_type": "stream",
     "text": [
      "Not found\n"
     ]
    }
   ],
   "source": [
    "# With else\n",
    "\n",
    "x = 'spam'\n",
    "while x:\n",
    "    if x[0] == 'b':\n",
    "        print(\"Found\")\n",
    "        break\n",
    "    x = x[1:]\n",
    "else:\n",
    "    print('Not found')"
   ]
  },
  {
   "cell_type": "markdown",
   "metadata": {},
   "source": [
    "# for \n",
    "\n",
    "## General Format\n",
    "```python\n",
    "for target in object:          # Assign object items to target\n",
    "    statements                 # Repeated loop body: use target\n",
    "else:                          # Optional else\n",
    "    statements                 # Run if didn't exit loop with break\n",
    "```\n",
    "\n",
    "## Tuple assignement in for loop"
   ]
  },
  {
   "cell_type": "code",
   "execution_count": 6,
   "metadata": {
    "collapsed": false
   },
   "outputs": [
    {
     "name": "stdout",
     "output_type": "stream",
     "text": [
      "Key:  1   Value:  a\n",
      "Key:  2   Value:  b\n",
      "Key:  3   Value:  c\n"
     ]
    }
   ],
   "source": [
    "D = {1: 'a', 2: 'b', 3: 'c'} \n",
    "for (key, value) in D.items():\n",
    "    print(\"Key: \", key, \"  Value: \", value)"
   ]
  },
  {
   "cell_type": "markdown",
   "metadata": {},
   "source": [
    "### Python 3 extended sequence"
   ]
  },
  {
   "cell_type": "code",
   "execution_count": 7,
   "metadata": {
    "collapsed": false
   },
   "outputs": [
    {
     "name": "stdout",
     "output_type": "stream",
     "text": [
      "1 [] 2\n",
      "3 [4, 5] 6\n"
     ]
    }
   ],
   "source": [
    "for (a, *b, c) in [(1, 2), (3, 4, 5, 6)]:\n",
    "    print(a, b, c)"
   ]
  },
  {
   "cell_type": "markdown",
   "metadata": {},
   "source": [
    "### File Scanner\n",
    "\n",
    "**read**, **readlines** load a file all at once.\n",
    "\n",
    "\n",
    "The following method might be ***the best option for text files***.  \n",
    "It's usually the quickest way.  \n",
    "It uses iterator which doesn't load the entire file into memory all at once."
   ]
  },
  {
   "cell_type": "code",
   "execution_count": 8,
   "metadata": {
    "collapsed": false
   },
   "outputs": [
    {
     "name": "stdout",
     "output_type": "stream",
     "text": [
      "123456789\n",
      "\n",
      "234567891\n",
      "\n",
      "345687912\n",
      "\n",
      "456789123\n",
      "\n"
     ]
    }
   ],
   "source": [
    "# Using iterator\n",
    "\n",
    "for line in open('test.txt'):\n",
    "    print(line)"
   ]
  },
  {
   "cell_type": "markdown",
   "metadata": {},
   "source": [
    "**readlines** can still be useful when reversing a file"
   ]
  },
  {
   "cell_type": "code",
   "execution_count": 9,
   "metadata": {
    "collapsed": false
   },
   "outputs": [
    {
     "name": "stdout",
     "output_type": "stream",
     "text": [
      "456789123\n",
      "\n",
      "345687912\n",
      "\n",
      "234567891\n",
      "\n",
      "123456789\n",
      "\n"
     ]
    }
   ],
   "source": [
    "for line in reversed(open('test.txt').readlines()):\n",
    "    print(line)"
   ]
  },
  {
   "cell_type": "markdown",
   "metadata": {},
   "source": [
    "# Loop Techniques\n",
    "\n",
    "Use **for** instead of **while** whenever possible since it's usually quicker and easier.   \n",
    "- **while** loop is a general looping statement  \n",
    "- **for** is designed to iterate across items in a sequence or other iterable  \n",
    "\n",
    "## range\n",
    "In Python2 **range** returns a list while it returns iterator in Python3\n",
    "\n",
    "\n",
    "### range vs iterator\n",
    "In most case, **range** should not be used in for and they can be replaced by using iterator.  \n",
    "This would make your code more efficient.  "
   ]
  },
  {
   "cell_type": "code",
   "execution_count": 10,
   "metadata": {
    "collapsed": false
   },
   "outputs": [
    {
     "name": "stdout",
     "output_type": "stream",
     "text": [
      "s\n",
      "p\n",
      "a\n",
      "m\n",
      "s\n",
      "p\n",
      "a\n",
      "m\n"
     ]
    }
   ],
   "source": [
    "s = 'spam'\n",
    "\n",
    "\n",
    "# range\n",
    "for i in range(len(s)):\n",
    "    print(s[i])\n",
    "    \n",
    "# iterator\n",
    "for i in s:\n",
    "    print(i)"
   ]
  },
  {
   "cell_type": "markdown",
   "metadata": {},
   "source": [
    "### range vs comprehension"
   ]
  },
  {
   "cell_type": "code",
   "execution_count": 11,
   "metadata": {
    "collapsed": false
   },
   "outputs": [
    {
     "data": {
      "text/plain": [
       "[2, 3, 4, 5, 6]"
      ]
     },
     "execution_count": 11,
     "metadata": {},
     "output_type": "execute_result"
    }
   ],
   "source": [
    "# range\n",
    "\n",
    "L = [1,2,3,4,5]\n",
    "for i in range(len(L)):\n",
    "    L[i] += 1\n",
    "L"
   ]
  },
  {
   "cell_type": "code",
   "execution_count": 12,
   "metadata": {
    "collapsed": false
   },
   "outputs": [
    {
     "data": {
      "text/plain": [
       "[2, 3, 4, 5, 6]"
      ]
     },
     "execution_count": 12,
     "metadata": {},
     "output_type": "execute_result"
    }
   ],
   "source": [
    "# comprehension\n",
    "\n",
    "L = [1,2,3,4,5]\n",
    "L = [x + 1 for x in L]\n",
    "L"
   ]
  },
  {
   "cell_type": "markdown",
   "metadata": {},
   "source": [
    "## Parallel Traversals: zip and map\n",
    "\n",
    "**zip** allow multiple sequences work in the same loop (not overlapping in time)  \n",
    "**zip** returns a list in Python2 and returns an iterator in Python3"
   ]
  },
  {
   "cell_type": "code",
   "execution_count": 13,
   "metadata": {
    "collapsed": false
   },
   "outputs": [
    {
     "data": {
      "text/plain": [
       "[(1, 5), (2, 6), (3, 7), (4, 8)]"
      ]
     },
     "execution_count": 13,
     "metadata": {},
     "output_type": "execute_result"
    }
   ],
   "source": [
    "L1 = [1, 2, 3, 4]\n",
    "L2 = [5, 6, 7, 8]\n",
    "\n",
    "list(zip(L1, L2))\n",
    "\n",
    "# In fact, N arguments can be used and we'll get N-ary tuple"
   ]
  },
  {
   "cell_type": "markdown",
   "metadata": {},
   "source": [
    "**zip** truncates result tuples at the length of the shortest sequence"
   ]
  },
  {
   "cell_type": "code",
   "execution_count": 14,
   "metadata": {
    "collapsed": false
   },
   "outputs": [
    {
     "data": {
      "text/plain": [
       "[(1, 3), (2, 4)]"
      ]
     },
     "execution_count": 14,
     "metadata": {},
     "output_type": "execute_result"
    }
   ],
   "source": [
    "L1 = [1, 2]\n",
    "L2 = [3, 4, 5, 6]\n",
    "\n",
    "list(zip(L1, L2))"
   ]
  },
  {
   "cell_type": "markdown",
   "metadata": {},
   "source": [
    "### dictionay construction"
   ]
  },
  {
   "cell_type": "code",
   "execution_count": 15,
   "metadata": {
    "collapsed": false
   },
   "outputs": [
    {
     "data": {
      "text/plain": [
       "{1: 'a', 2: 'b', 3: 'c'}"
      ]
     },
     "execution_count": 15,
     "metadata": {},
     "output_type": "execute_result"
    }
   ],
   "source": [
    "key = [1, 2, 3]\n",
    "value = 'abc'\n",
    "\n",
    "D = dict(zip(key, value))\n",
    "D"
   ]
  },
  {
   "cell_type": "markdown",
   "metadata": {},
   "source": [
    "## enumerate\n",
    "**enumerate** returns a gernerator object"
   ]
  },
  {
   "cell_type": "code",
   "execution_count": 16,
   "metadata": {
    "collapsed": false
   },
   "outputs": [
    {
     "name": "stdout",
     "output_type": "stream",
     "text": [
      "1 a\n",
      "2 b\n",
      "3 c\n",
      "4 d\n",
      "5 e\n",
      "6 f\n",
      "7 g\n",
      "8 h\n",
      "9 i\n",
      "10 j\n",
      "11 k\n"
     ]
    }
   ],
   "source": [
    "s = 'abcdefghijk'\n",
    "for (offset, item) in enumerate(s, 1):\n",
    "    print(offset, item)"
   ]
  }
 ],
 "metadata": {
  "kernelspec": {
   "display_name": "Python 3",
   "language": "python",
   "name": "python3"
  },
  "language_info": {
   "codemirror_mode": {
    "name": "ipython",
    "version": 3
   },
   "file_extension": ".py",
   "mimetype": "text/x-python",
   "name": "python",
   "nbconvert_exporter": "python",
   "pygments_lexer": "ipython3",
   "version": "3.4.3"
  }
 },
 "nbformat": 4,
 "nbformat_minor": 0
}
