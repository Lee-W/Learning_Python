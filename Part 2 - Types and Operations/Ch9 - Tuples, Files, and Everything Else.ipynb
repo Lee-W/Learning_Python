{
 "cells": [
  {
   "cell_type": "markdown",
   "metadata": {},
   "source": [
    "# Tuple\n",
    "\n",
    "Tuple is immutable.  \n",
    "However, its immutability is only one-level-deep"
   ]
  },
  {
   "cell_type": "code",
   "execution_count": 1,
   "metadata": {
    "collapsed": false
   },
   "outputs": [
    {
     "ename": "TypeError",
     "evalue": "'tuple' object does not support item assignment",
     "output_type": "error",
     "traceback": [
      "\u001b[1;31m---------------------------------------------------------------------------\u001b[0m",
      "\u001b[1;31mTypeError\u001b[0m                                 Traceback (most recent call last)",
      "\u001b[1;32m<ipython-input-1-6368571f6fba>\u001b[0m in \u001b[0;36m<module>\u001b[1;34m()\u001b[0m\n\u001b[0;32m      2\u001b[0m \u001b[1;33m\u001b[0m\u001b[0m\n\u001b[0;32m      3\u001b[0m \u001b[0mT\u001b[0m \u001b[1;33m=\u001b[0m \u001b[1;33m(\u001b[0m\u001b[1;36m1\u001b[0m\u001b[1;33m,\u001b[0m \u001b[1;36m2\u001b[0m\u001b[1;33m)\u001b[0m\u001b[1;33m\u001b[0m\u001b[0m\n\u001b[1;32m----> 4\u001b[1;33m \u001b[0mT\u001b[0m\u001b[1;33m[\u001b[0m\u001b[1;36m0\u001b[0m\u001b[1;33m]\u001b[0m \u001b[1;33m=\u001b[0m \u001b[1;36m1\u001b[0m\u001b[1;33m\u001b[0m\u001b[0m\n\u001b[0m",
      "\u001b[1;31mTypeError\u001b[0m: 'tuple' object does not support item assignment"
     ]
    }
   ],
   "source": [
    "# Changing a value in a tuple causes an error\n",
    "\n",
    "T = (1, 2)\n",
    "T[0] = 1"
   ]
  },
  {
   "cell_type": "code",
   "execution_count": 2,
   "metadata": {
    "collapsed": false
   },
   "outputs": [
    {
     "data": {
      "text/plain": [
       "(1, '2', [[5], 4])"
      ]
     },
     "execution_count": 2,
     "metadata": {},
     "output_type": "execute_result"
    }
   ],
   "source": [
    "# Changing the value in a list nested in a tuple won't cause any error\n",
    "\n",
    "T = (1, '2', [3, 4])\n",
    "T[2][0] = [5]\n",
    "T"
   ]
  },
  {
   "cell_type": "markdown",
   "metadata": {},
   "source": [
    "## Commonly Used Operation"
   ]
  },
  {
   "cell_type": "code",
   "execution_count": 3,
   "metadata": {
    "collapsed": true
   },
   "outputs": [],
   "source": [
    "# assign\n",
    "\n",
    "T = (1,)\n",
    "# Note that the comma above is important.\n",
    "# Without the comma, Python would regard it as expression and T would be an integer instead of a tuple."
   ]
  },
  {
   "cell_type": "code",
   "execution_count": 4,
   "metadata": {
    "collapsed": false
   },
   "outputs": [
    {
     "data": {
      "text/plain": [
       "(1, '2', [3, 4])"
      ]
     },
     "execution_count": 4,
     "metadata": {},
     "output_type": "execute_result"
    }
   ],
   "source": [
    "# assign\n",
    "\n",
    "T = (1, '2', [3, 4])\n",
    "T"
   ]
  },
  {
   "cell_type": "code",
   "execution_count": 5,
   "metadata": {
    "collapsed": false
   },
   "outputs": [
    {
     "data": {
      "text/plain": [
       "(1, '2', [3, 4])"
      ]
     },
     "execution_count": 5,
     "metadata": {},
     "output_type": "execute_result"
    }
   ],
   "source": [
    "# assign\n",
    "\n",
    "T = 1, '2', [3, 4]\n",
    "T"
   ]
  },
  {
   "cell_type": "code",
   "execution_count": 6,
   "metadata": {
    "collapsed": false
   },
   "outputs": [
    {
     "name": "stdout",
     "output_type": "stream",
     "text": [
      "Rec(name='bob', age=40.5, jobs=['dev', 'mgr'])\n",
      "['dev', 'mgr'] 40.5\n"
     ]
    }
   ],
   "source": [
    "# namedtumple\n",
    "\n",
    "from collections import namedtuple\n",
    "Rec = namedtuple('Rec', ['name', 'age', 'jobs'])\n",
    "bob = Rec('bob', age=40.5, jobs=['dev', 'mgr'])\n",
    "\n",
    "print(bob)\n",
    "print(bob[2], bob.age)"
   ]
  },
  {
   "cell_type": "code",
   "execution_count": 7,
   "metadata": {
    "collapsed": false
   },
   "outputs": [
    {
     "data": {
      "text/plain": [
       "OrderedDict([('name', 'bob'), ('age', 40.5), ('jobs', ['dev', 'mgr'])])"
      ]
     },
     "execution_count": 7,
     "metadata": {},
     "output_type": "execute_result"
    }
   ],
   "source": [
    "# namedtumple to OrderedDict\n",
    "\n",
    "od = bob._asdict()\n",
    "od"
   ]
  },
  {
   "cell_type": "markdown",
   "metadata": {},
   "source": [
    "Why tuple is needed if list has already existed?\n",
    "- Integrity\n",
    "- Some built-in operations may require tuple instead list"
   ]
  },
  {
   "cell_type": "markdown",
   "metadata": {},
   "source": [
    "---\n",
    "# File"
   ]
  },
  {
   "cell_type": "code",
   "execution_count": 9,
   "metadata": {
    "collapsed": true
   },
   "outputs": [],
   "source": [
    "# Write file\n",
    "\n",
    "aStr = \"This is str\\n !!!\"\n",
    "aList = [\"This\", \"is\", \"list\"]\n",
    "\n",
    "with open('file.txt', 'w') as f:\n",
    "    f.write(aStr)\n",
    "    f.writelines(aList)"
   ]
  },
  {
   "cell_type": "code",
   "execution_count": 10,
   "metadata": {
    "collapsed": false
   },
   "outputs": [
    {
     "name": "stdout",
     "output_type": "stream",
     "text": [
      "This is str\n",
      " !!!Thisislist\n"
     ]
    }
   ],
   "source": [
    "# Read file 1\n",
    "\n",
    "with open('file.txt', 'r') as f:\n",
    "    aStr = f.read()\n",
    "print(aStr)"
   ]
  },
  {
   "cell_type": "code",
   "execution_count": 11,
   "metadata": {
    "collapsed": false
   },
   "outputs": [
    {
     "name": "stdout",
     "output_type": "stream",
     "text": [
      "['This is str\\n', ' !!!Thisislist']\n"
     ]
    }
   ],
   "source": [
    "# Read file 2\n",
    "\n",
    "with open('file.txt', 'r') as f:\n",
    "    aList = f.readlines()\n",
    "print(aList)"
   ]
  },
  {
   "cell_type": "markdown",
   "metadata": {},
   "source": [
    "The read file methods above return only string.  \n",
    "Converting to other type is needed if string is not what you want.  \n",
    "\n",
    "\n",
    "The write methods accept only string."
   ]
  },
  {
   "cell_type": "markdown",
   "metadata": {},
   "source": [
    "### flush\n",
    "Be default, output files are buffered, which means the text is not transferred from memory to disk immediately.  \n",
    "**f.flush()** and **open('file.txt', 'w', 0)** can avoid buffering., but it may decrease efficiency"
   ]
  },
  {
   "cell_type": "markdown",
   "metadata": {
    "collapsed": true
   },
   "source": [
    "## Storeing Python Objects in Files"
   ]
  },
  {
   "cell_type": "markdown",
   "metadata": {},
   "source": [
    "### pickle\n",
    "Write object into file without handling string conversion."
   ]
  },
  {
   "cell_type": "code",
   "execution_count": 12,
   "metadata": {
    "collapsed": true
   },
   "outputs": [],
   "source": [
    "# Wrtie\n",
    "\n",
    "import pickle\n",
    "\n",
    "D = {'a': 1, 'b': 2}\n",
    "with open('file.pkl', 'wb') as f:\n",
    "    pickle.dump(D, f)"
   ]
  },
  {
   "cell_type": "code",
   "execution_count": 13,
   "metadata": {
    "collapsed": false
   },
   "outputs": [
    {
     "data": {
      "text/plain": [
       "{'a': 1, 'b': 2}"
      ]
     },
     "execution_count": 13,
     "metadata": {},
     "output_type": "execute_result"
    }
   ],
   "source": [
    "# Read\n",
    "\n",
    "import pickle\n",
    "with open('file.pkl', 'rb') as f:\n",
    "    loaded_D = pickle.load(f)\n",
    "loaded_D"
   ]
  },
  {
   "cell_type": "markdown",
   "metadata": {},
   "source": [
    "### json\n",
    "Supoort **dict** and **list**.  \n",
    "\n",
    "\n",
    "- MongoDB stores data in JSON document database (using a binary JSON format)"
   ]
  },
  {
   "cell_type": "code",
   "execution_count": 14,
   "metadata": {
    "collapsed": false
   },
   "outputs": [
    {
     "name": "stdout",
     "output_type": "stream",
     "text": [
      "{\n",
      "    \"list\": [\n",
      "        1,\n",
      "        2,\n",
      "        3\n",
      "    ],\n",
      "    \"str\": \"hi\"\n",
      "}\n"
     ]
    }
   ],
   "source": [
    "# Write\n",
    "\n",
    "import json\n",
    "j = {'list': [1, 2, 3], \"str\": \"hi\"}\n",
    "\n",
    "with open(\"file.json\", 'w') as f:\n",
    "    json.dump(j, f, indent=4)\n",
    "    \n",
    "print(open(\"file.json\").read())"
   ]
  },
  {
   "cell_type": "code",
   "execution_count": 15,
   "metadata": {
    "collapsed": false
   },
   "outputs": [
    {
     "data": {
      "text/plain": [
       "{'list': [1, 2, 3], 'str': 'hi'}"
      ]
     },
     "execution_count": 15,
     "metadata": {},
     "output_type": "execute_result"
    }
   ],
   "source": [
    "# Read\n",
    "\n",
    "import json\n",
    "with open('file.json', 'r') as f:\n",
    "    loaded_j = json.load(f)\n",
    "loaded_j"
   ]
  },
  {
   "cell_type": "markdown",
   "metadata": {},
   "source": [
    "The **with** statement used above can ensures file closing, release of system resources and guarantee buffer flushes."
   ]
  },
  {
   "cell_type": "markdown",
   "metadata": {},
   "source": [
    "---\n",
    "\n",
    "# Other Core Type Issue\n",
    "\n",
    "\n"
   ]
  },
  {
   "cell_type": "markdown",
   "metadata": {},
   "source": [
    "## Object Flexibilty\n",
    "- Hold any kind of object: **list**, **dict**, **tuple**\n",
    "- Contain any immtable object: **set**\n",
    "- Arbitrarily nested: **list**, **dict**, **tuple**\n",
    "- Dynamically grow and shrink: **list**, **dict**, **set**\n"
   ]
  },
  {
   "cell_type": "markdown",
   "metadata": {
    "collapsed": true
   },
   "source": [
    "## References Versus Copies\n",
    "\n",
    "Assignments always store references to objects, not copies of objects.   \n",
    "Reference is a higher-level analog of pointers in other languages.   \n",
    "This can be a feature - Passing a large object around without generating expensive copies.  \n",
    "\n",
    "\n",
    "But if copies are still needed, here's some methods.\n",
    "- L[:]\n",
    "- X.copy()\n",
    "\n",
    "\n",
    "Note that the methods above only make top-level copies which means nested data might not be copied.  \n",
    "If a complete copy is needed, the following method can be used.\n",
    "```python\n",
    "import copy\n",
    "X = copy.deepcopy(Y)\n",
    "```"
   ]
  },
  {
   "cell_type": "markdown",
   "metadata": {},
   "source": [
    "## Comparision\n",
    "\n",
    "### == operator tests value equivalence (Used in most equlity checks)\n",
    "### is operator tests object identify"
   ]
  },
  {
   "cell_type": "markdown",
   "metadata": {},
   "source": [
    "## An example about reference and copy"
   ]
  },
  {
   "cell_type": "code",
   "execution_count": 1,
   "metadata": {
    "collapsed": false
   },
   "outputs": [
    {
     "name": "stdout",
     "output_type": "stream",
     "text": [
      "X:  [4, 5, 6, 4, 5, 6, 4, 5, 6, 4, 5, 6]\n",
      "Y:  [[4, 5, 6], [4, 5, 6], [4, 5, 6], [4, 5, 6]]\n"
     ]
    }
   ],
   "source": [
    "L = [4, 5, 6]\n",
    "X = L * 4\n",
    "Y = [L] * 4\n",
    "\n",
    "print('X: ', X)\n",
    "print('Y: ', Y)"
   ]
  },
  {
   "cell_type": "code",
   "execution_count": 2,
   "metadata": {
    "collapsed": false
   },
   "outputs": [
    {
     "name": "stdout",
     "output_type": "stream",
     "text": [
      "X:  [4, 5, 6, 4, 5, 6, 4, 5, 6, 4, 5, 6]\n",
      "Y:  [[4, 0, 6], [4, 0, 6], [4, 0, 6], [4, 0, 6]]\n"
     ]
    }
   ],
   "source": [
    "L[1] = 0\n",
    "# Implacts Y but not X\n",
    "\n",
    "print('X: ', X)\n",
    "print('Y: ', Y)"
   ]
  },
  {
   "cell_type": "code",
   "execution_count": 3,
   "metadata": {
    "collapsed": false
   },
   "outputs": [
    {
     "name": "stdout",
     "output_type": "stream",
     "text": [
      "[[4, 5, 6], [4, 5, 6], [4, 5, 6], [4, 5, 6]]\n",
      "[[4, 0, 6], [4, 0, 6], [4, 0, 6], [4, 0, 6]]\n"
     ]
    }
   ],
   "source": [
    "# This assignment can solve the problem above\n",
    "\n",
    "L = [4, 5, 6]\n",
    "Y = [list(L)] * 4\n",
    "L[1] = 0\n",
    "print(Y)\n",
    "Y[0][1] = 0\n",
    "print(Y)\n",
    "# But all the L references to the same object"
   ]
  },
  {
   "cell_type": "code",
   "execution_count": 4,
   "metadata": {
    "collapsed": false
   },
   "outputs": [
    {
     "name": "stdout",
     "output_type": "stream",
     "text": [
      "[[4, 0, 6], [4, 5, 6], [4, 5, 6], [4, 5, 6]]\n"
     ]
    }
   ],
   "source": [
    "# This is the one that truly deep copy the list.\n",
    "\n",
    "L = [4, 5, 6]\n",
    "Y = [list(L) for i in range(4)]\n",
    "Y[0][1] = 0\n",
    "print(Y)"
   ]
  },
  {
   "cell_type": "markdown",
   "metadata": {
    "collapsed": true
   },
   "source": [
    "-----"
   ]
  },
  {
   "cell_type": "code",
   "execution_count": 5,
   "metadata": {
    "collapsed": false
   },
   "outputs": [],
   "source": [
    "# Remove the tmp files\n",
    "\n",
    "import os\n",
    "\n",
    "try:\n",
    "    os.remove(\"file.json\")\n",
    "except:\n",
    "    pass\n",
    "\n",
    "try:\n",
    "    os.remove(\"file.pkl\")\n",
    "except:\n",
    "    pass\n",
    "\n",
    "try:\n",
    "    os.remove(\"file.txt\")\n",
    "except:\n",
    "    pass"
   ]
  }
 ],
 "metadata": {
  "kernelspec": {
   "display_name": "Python 3",
   "language": "python",
   "name": "python3"
  },
  "language_info": {
   "codemirror_mode": {
    "name": "ipython",
    "version": 3
   },
   "file_extension": ".py",
   "mimetype": "text/x-python",
   "name": "python",
   "nbconvert_exporter": "python",
   "pygments_lexer": "ipython3",
   "version": "3.4.3"
  }
 },
 "nbformat": 4,
 "nbformat_minor": 0
}
