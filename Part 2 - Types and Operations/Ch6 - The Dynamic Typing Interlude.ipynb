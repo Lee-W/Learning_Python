{
 "cells": [
  {
   "cell_type": "markdown",
   "metadata": {},
   "source": [
    "## Variables, Objects and References\n",
    "\n",
    "`Variables` are created when assigned, can `reference` any type of `objects`, and must be assigned before they are referenced."
   ]
  },
  {
   "cell_type": "markdown",
   "metadata": {},
   "source": [
    "- **Variable**: Entires in a system table, with spaces for links to objects\n",
    "- **Object**: Pieces of allocated memory, with enough space to represent the values for which they stand.\n",
    "- **References**: Automatically followed pointers from variables to objects.\n",
    "    - Python references are like C \"void\\*\" pointer which are automatically followed whenever used"
   ]
  },
  {
   "cell_type": "markdown",
   "metadata": {},
   "source": [
    "Types live with objects, not vaiables.\n"
   ]
  },
  {
   "cell_type": "markdown",
   "metadata": {},
   "source": [
    "### Create a new value"
   ]
  },
  {
   "cell_type": "code",
   "execution_count": 1,
   "metadata": {
    "collapsed": true
   },
   "outputs": [],
   "source": [
    "a = 3"
   ]
  },
  {
   "cell_type": "markdown",
   "metadata": {},
   "source": [
    "In the assignment above, python do the following three steps:\n",
    "1. Create an object to represent **3**\n",
    "2. Create a variable **a**, if it does not yet exist.\n",
    "3. Link the variable **a** to the object **3**."
   ]
  },
  {
   "cell_type": "markdown",
   "metadata": {},
   "source": [
    "### Reassign a value"
   ]
  },
  {
   "cell_type": "code",
   "execution_count": 2,
   "metadata": {
    "collapsed": true
   },
   "outputs": [],
   "source": [
    "x = 123\n",
    "x = \"abc\"\n",
    "x = 123.456"
   ]
  },
  {
   "cell_type": "markdown",
   "metadata": {},
   "source": [
    "Each time x is assign to a new object, Python *reclaims the prior objects's space*.  \n",
    "Python will clean up unused space as program runs."
   ]
  },
  {
   "cell_type": "markdown",
   "metadata": {},
   "source": [
    "### In place change\n",
    "\n",
    "Variables are always pointers to objects, not labels of changeable memory areas.  \n",
    "But, Python's mutable types do in-place object changes."
   ]
  },
  {
   "cell_type": "code",
   "execution_count": 3,
   "metadata": {},
   "outputs": [
    {
     "name": "stdout",
     "output_type": "stream",
     "text": [
      "[4, 2, 3]\n",
      "[4, 2, 3]\n"
     ]
    }
   ],
   "source": [
    "list1 = [1, 2, 3]\n",
    "list2 = list1\n",
    "\n",
    "list1[0] = 4\n",
    "\n",
    "print(list1)\n",
    "print(list2)"
   ]
  },
  {
   "cell_type": "markdown",
   "metadata": {},
   "source": [
    "The behavior above only occurs for mutable objects that supoort in-place changes.\n",
    "\n",
    "#### But, what if I don't want to do in-place chagne?"
   ]
  },
  {
   "cell_type": "code",
   "execution_count": 4,
   "metadata": {},
   "outputs": [
    {
     "name": "stdout",
     "output_type": "stream",
     "text": [
      "[4, 2, 3]\n",
      "[1, 2, 3]\n"
     ]
    }
   ],
   "source": [
    "list3 = [1, 2, 3]\n",
    "list4 = list3[:]\n",
    "list3[0] = 4\n",
    "\n",
    "print(list3)\n",
    "print(list4)\n"
   ]
  },
  {
   "cell_type": "markdown",
   "metadata": {},
   "source": [
    "The method above support only **list** type.  \n",
    "The following method works for all mutable types."
   ]
  },
  {
   "cell_type": "code",
   "execution_count": 5,
   "metadata": {},
   "outputs": [
    {
     "name": "stdout",
     "output_type": "stream",
     "text": [
      "{'b': 2, 'a': 3}\n",
      "{'b': 2, 'a': 1}\n"
     ]
    }
   ],
   "source": [
    "import copy\n",
    "\n",
    "dict1 = {'a': 1, 'b':2}\n",
    "dict2 = copy.deepcopy(dict1)\n",
    "\n",
    "dict1['a'] = 3\n",
    "\n",
    "print(dict1)\n",
    "print(dict2)"
   ]
  },
  {
   "cell_type": "markdown",
   "metadata": {},
   "source": [
    "## The difference between **==** operator and **is** operator\n",
    "\n",
    "- == : to decide whether two referenced objects have the same value\n",
    "- is : test object identify"
   ]
  },
  {
   "cell_type": "markdown",
   "metadata": {},
   "source": [
    "### Same object"
   ]
  },
  {
   "cell_type": "code",
   "execution_count": 6,
   "metadata": {},
   "outputs": [
    {
     "name": "stdout",
     "output_type": "stream",
     "text": [
      "list1 == list2  : True\n",
      "list1 is list2  : True\n"
     ]
    }
   ],
   "source": [
    "list1 = [1, 2, 3]\n",
    "list2 = list1\n",
    "\n",
    "print(\"list1 == list2  :\", list1 == list2)\n",
    "print(\"list1 is list2  :\", list1 is list2)\n"
   ]
  },
  {
   "cell_type": "markdown",
   "metadata": {},
   "source": [
    "### Same value"
   ]
  },
  {
   "cell_type": "code",
   "execution_count": 7,
   "metadata": {},
   "outputs": [
    {
     "name": "stdout",
     "output_type": "stream",
     "text": [
      "list1 == list2  : True\n",
      "list1 is list2  : False\n"
     ]
    }
   ],
   "source": [
    "list1 = [1, 2, 3]\n",
    "list2 = [1, 2, 3]\n",
    "\n",
    "print(\"list1 == list2  :\", list1 == list2)\n",
    "print(\"list1 is list2  :\", list1 is list2)\n"
   ]
  },
  {
   "cell_type": "markdown",
   "metadata": {},
   "source": [
    "---\n",
    "Dynamic typing is the root of Python's polymorphism"
   ]
  }
 ],
 "metadata": {
  "kernelspec": {
   "display_name": "Python 3",
   "language": "python",
   "name": "python3"
  },
  "language_info": {
   "codemirror_mode": {
    "name": "ipython",
    "version": 3
   },
   "file_extension": ".py",
   "mimetype": "text/x-python",
   "name": "python",
   "nbconvert_exporter": "python",
   "pygments_lexer": "ipython3",
   "version": "3.6.0"
  }
 },
 "nbformat": 4,
 "nbformat_minor": 1
}
